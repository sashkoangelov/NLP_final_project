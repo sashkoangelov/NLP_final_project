{
  "cells": [
    {
      "cell_type": "markdown",
      "metadata": {
        "id": "view-in-github",
        "colab_type": "text"
      },
      "source": [
        "<a href=\"https://colab.research.google.com/github/sashkoangelov/NLP_final_project/blob/main/model2_backtranslation_overlap.ipynb\" target=\"_parent\"><img src=\"https://colab.research.google.com/assets/colab-badge.svg\" alt=\"Open In Colab\"/></a>"
      ]
    },
    {
      "cell_type": "markdown",
      "metadata": {
        "id": "QBnmgddbwu7w"
      },
      "source": [
        "# Installs and imports"
      ]
    },
    {
      "cell_type": "code",
      "execution_count": 1,
      "metadata": {
        "id": "L3_nLOdG07EN"
      },
      "outputs": [],
      "source": [
        "import torch\n",
        "import random\n",
        "import transformers\n",
        "import copy\n",
        "from transformers import RobertaTokenizerFast, RobertaForQuestionAnswering, TrainingArguments, Trainer, AdamW\n",
        "from torch.utils.data import Dataset, DataLoader\n",
        "import os\n",
        "import json\n",
        "from pathlib import Path\n",
        "from tqdm import tqdm"
      ]
    },
    {
      "cell_type": "code",
      "execution_count": 2,
      "metadata": {
        "colab": {
          "base_uri": "https://localhost:8080/"
        },
        "id": "Yng5QRIEpdmu",
        "outputId": "ae2ca90d-95e4-4058-bbfe-62fd5711f898"
      },
      "outputs": [
        {
          "output_type": "stream",
          "name": "stdout",
          "text": [
            "4.38.2\n"
          ]
        }
      ],
      "source": [
        "print(transformers.__version__)"
      ]
    },
    {
      "cell_type": "markdown",
      "metadata": {
        "id": "J3WQHULuw2W-"
      },
      "source": [
        "#Data loading"
      ]
    },
    {
      "cell_type": "code",
      "execution_count": 3,
      "metadata": {
        "id": "VO4nZRVP2Z2O"
      },
      "outputs": [],
      "source": [
        "def read_data(path):\n",
        "    with open(path, 'r', encoding='utf-8') as f:\n",
        "        squad_dict = json.load(f)\n",
        "\n",
        "    contexts = []\n",
        "    questions = []\n",
        "    answers = []\n",
        "\n",
        "    for group in squad_dict['data']:\n",
        "        for passage in group['paragraphs']:\n",
        "            context = passage['context']\n",
        "            for qa in passage['qas']:\n",
        "                question = qa['question']\n",
        "\n",
        "                # Check if 'answers' is present and has entries\n",
        "                if 'answers' in qa and qa['answers']:\n",
        "                    for answer in qa['answers']:\n",
        "                        contexts.append(context)\n",
        "                        questions.append(question)\n",
        "                        answers.append(answer)\n",
        "                else:\n",
        "                    # Handle unanswerable questions\n",
        "                    contexts.append(context)\n",
        "                    questions.append(question)\n",
        "                    answers.append({\"text\": \"\", \"answer_start\": -1})\n",
        "\n",
        "    return contexts, questions, answers"
      ]
    },
    {
      "cell_type": "code",
      "execution_count": 4,
      "metadata": {
        "id": "dQJlsw_E9fon"
      },
      "outputs": [],
      "source": [
        "train_contexts, train_questions, train_answers = read_data('/content/drive/MyDrive/NLP/train-v2.0.json')\n",
        "bt_contexts, bt_questions, bt_answers = read_data('/content/drive/MyDrive/NLP/train-v2.0-with-back-translation-fr.json')\n",
        "val_contexts, val_questions, val_answers = read_data('/content/drive/MyDrive/NLP/dev-v2.0.json')"
      ]
    },
    {
      "cell_type": "code",
      "source": [
        "print(sum(1 for answer in train_answers if answer[\"answer_start\"] == -1) + sum(1 for answer in val_answers if answer[\"answer_start\"] == -1))"
      ],
      "metadata": {
        "colab": {
          "base_uri": "https://localhost:8080/"
        },
        "id": "MSoXbdYfqR_s",
        "outputId": "0a6e8d45-4df4-497d-b818-f665a6ae8107"
      },
      "execution_count": 37,
      "outputs": [
        {
          "output_type": "stream",
          "name": "stdout",
          "text": [
            "49443\n"
          ]
        }
      ]
    },
    {
      "cell_type": "markdown",
      "source": [
        "# Data visualization"
      ],
      "metadata": {
        "id": "Kk7TG0lypoll"
      }
    },
    {
      "cell_type": "markdown",
      "metadata": {
        "id": "i_rXN7Cd3fn8"
      },
      "source": [
        "## Displaying random examples"
      ]
    },
    {
      "cell_type": "code",
      "execution_count": 5,
      "metadata": {
        "id": "JEte4FiDx-ZG"
      },
      "outputs": [],
      "source": [
        "def display_random_examples(contexts, questions, answers, num_examples=3):\n",
        "    for _ in range(num_examples):\n",
        "        rand = random.randint(0, len(contexts) - 1)\n",
        "        context = contexts[rand]\n",
        "        question = questions[rand]\n",
        "        answer_text = answers[rand]['text'] if answers[rand]['text'] != '' else 'No answer'\n",
        "        answer_start = answers[rand]['answer_start'] if answers[rand]['answer_start'] > -1 else -1\n",
        "\n",
        "        print(f\"Question: {question}\\n\")\n",
        "        print(f\"Answer: {answer_text}\")\n",
        "        print(f\"Answer Starts at: {answer_start}\\n\")\n",
        "\n",
        "        if answer_start != -1:\n",
        "            pre_highlight = context[:answer_start]\n",
        "            highlight = context[answer_start:answer_start+len(answer_text)]\n",
        "            post_highlight = context[answer_start+len(answer_text):]\n",
        "\n",
        "            # Apply coloring outside the string concatenation to avoid escape sequence disruption\n",
        "            highlighted_context = pre_highlight + \"\\033[1;31m\" + highlight + \"\\033[0m\" + post_highlight\n",
        "        else:\n",
        "            highlighted_context = context\n",
        "\n",
        "        wrapped_context = \"\\n\".join([highlighted_context[i:i+80] for i in range(0, len(highlighted_context), 80)])\n",
        "        print(f\"Context:\\n{wrapped_context}\\n\")\n",
        "        print(\"-\"*80)\n"
      ]
    },
    {
      "cell_type": "code",
      "execution_count": 6,
      "metadata": {
        "colab": {
          "base_uri": "https://localhost:8080/"
        },
        "id": "tmKVa-N4yB8v",
        "outputId": "c66ebff4-63d4-4b04-9ed9-8d9c5560335f"
      },
      "outputs": [
        {
          "output_type": "stream",
          "name": "stdout",
          "text": [
            "Question: Where was Fauconnier's studio located? \n",
            "\n",
            "Answer: Boulevard de Montparnasse\n",
            "Answer Starts at: 417\n",
            "\n",
            "Context:\n",
            "In contrast, the Salon Cubists built their reputation primarily by exhibiting re\n",
            "gularly at the Salon d'Automne and the Salon des Indépendants, both major non-ac\n",
            "ademic Salons in Paris. They were inevitably more aware of public response and t\n",
            "he need to communicate. Already in 1910 a group began to form which included Met\n",
            "zinger, Gleizes, Delaunay and Léger. They met regularly at Henri le Fauconnier's\n",
            " studio near the \u001b[1;31mBoulevard de Montparnasse\u001b[0m. These soirées often inclu\n",
            "ded writers such as Guillaume Apollinaire and André Salmon. Together with other \n",
            "young artists, the group wanted to emphasise a research into form, in opposition\n",
            " to the Neo-Impressionist emphasis on color.\n",
            "\n",
            "--------------------------------------------------------------------------------\n",
            "Question: What is the name of the Presbyterian church in Brazil with Dutch origins?\n",
            "\n",
            "Answer: The Evangelical Reformed Church in Brazil\n",
            "Answer Starts at: 867\n",
            "\n",
            "Context:\n",
            "In Brazil, the Presbyterian Church of Brazil (Igreja Presbiteriana do Brasil) to\n",
            "tals approximately 1,011,300 members; other Presbyterian churches (Independents,\n",
            " United, Conservatives, Renovated, etc.) in this nation have around 350,000 memb\n",
            "ers. The Renewed Presbyterian Church in Brazil was influenced by the charismatic\n",
            " movement and has about 131 000 members as of 2011. The Conservative Presbyteria\n",
            "n Church was founded in 1940 and has eight presbyteries. The Fundamentalist Pres\n",
            "byterian church in Brazil was influenced by Karl McIntosh and the Bible Presbyte\n",
            "rian church USA and has around 1 800 members. The Independent Presbyterian Churc\n",
            "h in Brasil was founded in 1903 by pastor Pereira, has 500 congregations and 75 \n",
            "000 members. The United Presbyterian Church in Brazil has around 4 000 members. \n",
            "There are also ethnic Korean Presbyterian churches in the country. \u001b[1;31mThe Ev\n",
            "angelical Reformed Church in Brazil\u001b[0m has Dutch origin. The Reformed Churches \n",
            "in Brazil were recently founded by the Canadian Reformed Churches with the Refor\n",
            "med Church in the Netherlands (liberated).\n",
            "\n",
            "--------------------------------------------------------------------------------\n",
            "Question: What is the largest data capacity for an iPod product?\n",
            "\n",
            "Answer: 128 GB\n",
            "Answer Starts at: 160\n",
            "\n",
            "Context:\n",
            "Like other digital music players, iPods can serve as external data storage devic\n",
            "es. Storage capacity varies by model, ranging from 2 GB for the iPod Shuffle to \n",
            "\u001b[1;31m128 GB\u001b[0m for the iPod Touch (previously 160 GB for the iPod Classic, wh\n",
            "ich is now discontinued).\n",
            "\n",
            "--------------------------------------------------------------------------------\n"
          ]
        }
      ],
      "source": [
        "display_random_examples(train_contexts, train_questions, train_answers, 3)"
      ]
    },
    {
      "cell_type": "markdown",
      "source": [
        "## Display a single example"
      ],
      "metadata": {
        "id": "s3VJcydWXsca"
      }
    },
    {
      "cell_type": "code",
      "source": [
        "def display_example(contexts, questions, answers, example):\n",
        "\n",
        "    rand = example\n",
        "    context = contexts[rand]\n",
        "    question = questions[rand]\n",
        "\n",
        "    answer_text = answers[rand]['text'] if answers[rand]['text'] != '' else 'No answer'\n",
        "    answer_start = answers[rand]['answer_start'] if answers[rand]['answer_start'] != '' else -1\n",
        "\n",
        "    print(f\"Question: {question}\\n\")\n",
        "    print(f\"Answer: {answer_text}\")\n",
        "    print(f\"Answer Starts at: {answer_start}\\n\")\n",
        "\n",
        "    # Highlighting answer in context\n",
        "    if answer_start != -1:\n",
        "        highlighted_context = context[:answer_start] + \"\\033[1;31m\" + context[answer_start:answer_start+len(answer_text)] + \"\\033[0m\" + context[answer_start+len(answer_text):]\n",
        "    else:\n",
        "        highlighted_context = context\n",
        "\n",
        "    # Wrapping context for readability\n",
        "    wrapped_context = \"\\n\".join([highlighted_context[i:i+80] for i in range(0, len(highlighted_context), 80)])\n",
        "    print(f\"Context:\\n{wrapped_context}\\n\")\n",
        "    print(\"-\"*80)"
      ],
      "metadata": {
        "id": "4o8kwL6PTkgw"
      },
      "execution_count": 7,
      "outputs": []
    },
    {
      "cell_type": "code",
      "source": [
        "display_example(train_contexts, train_questions, train_answers, 19)"
      ],
      "metadata": {
        "colab": {
          "base_uri": "https://localhost:8080/"
        },
        "id": "Xvu3YSoNUJUw",
        "outputId": "208ddfb7-d4f5-4ae1-c948-1d53ccb97254"
      },
      "execution_count": 8,
      "outputs": [
        {
          "output_type": "stream",
          "name": "stdout",
          "text": [
            "Question: When did Beyonce take a hiatus in her career and take control of her management?\n",
            "\n",
            "Answer: 2010\n",
            "Answer Starts at: 586\n",
            "\n",
            "Context:\n",
            "Following the disbandment of Destiny's Child in June 2005, she released her seco\n",
            "nd solo album, B'Day (2006), which contained hits \"Déjà Vu\", \"Irreplaceable\", an\n",
            "d \"Beautiful Liar\". Beyoncé also ventured into acting, with a Golden Globe-nomin\n",
            "ated performance in Dreamgirls (2006), and starring roles in The Pink Panther (2\n",
            "006) and Obsessed (2009). Her marriage to rapper Jay Z and portrayal of Etta Jam\n",
            "es in Cadillac Records (2008) influenced her third album, I Am... Sasha Fierce (\n",
            "2008), which saw the birth of her alter-ego Sasha Fierce and earned a record-set\n",
            "ting six Grammy Awards in \u001b[1;31m2010\u001b[0m, including Song of the Year for \"Singl\n",
            "e Ladies (Put a Ring on It)\". Beyoncé took a hiatus from music in 2010 and took \n",
            "over management of her career; her fourth album 4 (2011) was subsequently mellow\n",
            "er in tone, exploring 1970s funk, 1980s pop, and 1990s soul. Her critically accl\n",
            "aimed fifth studio album, Beyoncé (2013), was distinguished from previous releas\n",
            "es by its experimental production and exploration of darker themes.\n",
            "\n",
            "--------------------------------------------------------------------------------\n"
          ]
        }
      ]
    },
    {
      "cell_type": "code",
      "source": [
        "display_example(bt_contexts, bt_questions, bt_answers, 19)"
      ],
      "metadata": {
        "colab": {
          "base_uri": "https://localhost:8080/"
        },
        "id": "GWtaJENNUagX",
        "outputId": "43e8defe-2365-4b44-fd77-48b1c159448f"
      },
      "execution_count": 9,
      "outputs": [
        {
          "output_type": "stream",
          "name": "stdout",
          "text": [
            "Question: When did Beyonce take a break in her career and take control of her leadership?\n",
            "\n",
            "Answer: 2010\n",
            "Answer Starts at: 586\n",
            "\n",
            "Context:\n",
            "After the dismantling of Destiny's Child in June 2005, she released her second s\n",
            "olo album, B'Day (2006), which contains hits \"Déjà Vu\", \"Irreplaceable\" and \"Bea\n",
            "utiful Liar\". Beyoncé also ventured into the performance, with a nominated Golde\n",
            "n Globe performance in Dreamgirls (2006), and featured roles in The Pink Panther\n",
            " (2006) and Obsessed (2009). Her marriage to rapper Jay Z and the performance of\n",
            " Etta James in Cadillac Records (2008) influenced her third album, I Am... Sasha\n",
            " Fierce (2008), which saw the birth of her alter-ego Sasha Fierce and obtained a\n",
            " record of six Grammy Awar\u001b[1;31mds i\u001b[0mn 2010, including Song of the Year for \n",
            "\"Sing of the Single Ladies (Put a Ring on It)\". Beyoncé took a hiatus of music i\n",
            "n 2010 and took over the direction of her career; her fourth album 4 (2011) was \n",
            "then melliferous in tone, exploring the 1970s pop, and 1990s soul.\n",
            "\n",
            "--------------------------------------------------------------------------------\n"
          ]
        }
      ]
    },
    {
      "cell_type": "code",
      "source": [
        "display_example(updated_contexts, updated_questions, updated_answers, 18)"
      ],
      "metadata": {
        "colab": {
          "base_uri": "https://localhost:8080/"
        },
        "id": "y34fwvfvgr7w",
        "outputId": "e31c9aca-abf0-40f4-ce83-371f745e7918"
      },
      "execution_count": 14,
      "outputs": [
        {
          "output_type": "stream",
          "name": "stdout",
          "text": [
            "Question: When did Beyonce take a hiatus in her career and take control of her management?\n",
            "\n",
            "Answer: 2010\n",
            "Answer Starts at: 592\n",
            "\n",
            "Context:\n",
            "After the dismantling of Destiny's Child in June 2005, she released her second s\n",
            "olo album, B'Day (2006), which contains hits \"Déjà Vu\", \"Irreplaceable\" and \"Bea\n",
            "utiful Liar\". Beyoncé also ventured into the performance, with a nominated Golde\n",
            "n Globe performance in Dreamgirls (2006), and featured roles in The Pink Panther\n",
            " (2006) and Obsessed (2009). Her marriage to rapper Jay Z and the performance of\n",
            " Etta James in Cadillac Records (2008) influenced her third album, I Am... Sasha\n",
            " Fierce (2008), which saw the birth of her alter-ego Sasha Fierce and obtained a\n",
            " record of six Grammy Awards in \u001b[1;31m2010\u001b[0m, including Song of the Year for \n",
            "\"Sing of the Single Ladies (Put a Ring on It)\". Beyoncé took a hiatus of music i\n",
            "n 2010 and took over the direction of her career; her fourth album 4 (2011) was \n",
            "then melliferous in tone, exploring the 1970s pop, and 1990s soul.\n",
            "\n",
            "--------------------------------------------------------------------------------\n"
          ]
        }
      ]
    },
    {
      "cell_type": "markdown",
      "source": [
        "# Assign new start positions for the answers in the back translated contexts if it exists"
      ],
      "metadata": {
        "id": "uFA9EWmZpB2g"
      }
    },
    {
      "cell_type": "code",
      "source": [
        "def assign_new_start_pos(bt_contexts, train_questions, train_answers):\n",
        "    updated_contexts = []\n",
        "    updated_questions = []\n",
        "    updated_answers = []\n",
        "\n",
        "    for context, question, answer in zip(bt_contexts, train_questions, train_answers):\n",
        "        try:\n",
        "\n",
        "            # Attempt to find the non-translated answer in the translated context\n",
        "            new_start = context.index(answer['text'])\n",
        "\n",
        "            # If found, update the entry\n",
        "            updated_contexts.append(context)\n",
        "            updated_questions.append(question)\n",
        "            updated_answers.append({'text': answer['text'], 'answer_start': new_start})\n",
        "\n",
        "        except ValueError:\n",
        "            continue\n",
        "\n",
        "    return updated_contexts, updated_questions, updated_answers"
      ],
      "metadata": {
        "id": "aE2xy9rYdzlE"
      },
      "execution_count": 11,
      "outputs": []
    },
    {
      "cell_type": "code",
      "source": [
        "updated_contexts, updated_questions, updated_answers = assign_new_start_pos(bt_contexts, train_questions, train_answers)"
      ],
      "metadata": {
        "id": "vNcnWXnKfwrB"
      },
      "execution_count": 12,
      "outputs": []
    },
    {
      "cell_type": "code",
      "source": [
        "print(\"Preserved samples:\", round((len(updated_contexts) / len(bt_contexts))*100, 2), \"%\")"
      ],
      "metadata": {
        "colab": {
          "base_uri": "https://localhost:8080/"
        },
        "id": "gQR1rwNOgo4b",
        "outputId": "f9e2fef5-7ad9-4085-8ea4-752324fc6511"
      },
      "execution_count": 13,
      "outputs": [
        {
          "output_type": "stream",
          "name": "stdout",
          "text": [
            "Preserved samples: 77.31 %\n"
          ]
        }
      ]
    },
    {
      "cell_type": "markdown",
      "source": [
        "## Discarding identical triplets of contexts, questions and answers"
      ],
      "metadata": {
        "id": "Qzn9NAjSqYg0"
      }
    },
    {
      "cell_type": "code",
      "source": [
        "def discard_duplicate_triplets(train_contexts, train_questions, train_answers, updated_contexts, updated_questions, updated_answers):\n",
        "    seen = set()\n",
        "    unique_triplets = []\n",
        "\n",
        "    combined_triplets = list(zip(train_contexts, train_questions, train_answers)) + list(zip(updated_contexts, updated_questions, updated_answers))\n",
        "\n",
        "    for context, question, answer in combined_triplets:\n",
        "\n",
        "        triplet_tuple = (context, question, answer['text'])  # Convert to a tuple for hashability\n",
        "\n",
        "        if triplet_tuple not in seen:\n",
        "            seen.add(triplet_tuple)\n",
        "            # Append the original items\n",
        "            unique_triplets.append((context, question, answer))\n",
        "\n",
        "    unique_contexts, unique_questions, unique_answers = zip(*unique_triplets)\n",
        "\n",
        "    return list(unique_contexts), list(unique_questions), list(unique_answers)\n"
      ],
      "metadata": {
        "id": "jiXqfoAJq72K"
      },
      "execution_count": 15,
      "outputs": []
    },
    {
      "cell_type": "code",
      "source": [
        "unique_contexts, unique_questions, unique_answers = discard_duplicate_triplets(train_contexts, train_questions, train_answers, updated_contexts, updated_questions, updated_answers)"
      ],
      "metadata": {
        "id": "QBu7GsESsi_G"
      },
      "execution_count": 16,
      "outputs": []
    },
    {
      "cell_type": "code",
      "source": [
        "print(\"Preserved samples:\", round(((len(unique_contexts) - len(train_contexts)) / len(bt_contexts))*100, 2), \"%\")"
      ],
      "metadata": {
        "colab": {
          "base_uri": "https://localhost:8080/"
        },
        "id": "ekRq-XvDuSfL",
        "outputId": "40ab87db-035d-44ce-b343-cc0fa99327a4"
      },
      "execution_count": 17,
      "outputs": [
        {
          "output_type": "stream",
          "name": "stdout",
          "text": [
            "Preserved samples: 77.21 %\n"
          ]
        }
      ]
    },
    {
      "cell_type": "markdown",
      "source": [
        "# Data pre-processing"
      ],
      "metadata": {
        "id": "Eqz8LShEsUEO"
      }
    },
    {
      "cell_type": "code",
      "execution_count": 18,
      "metadata": {
        "colab": {
          "base_uri": "https://localhost:8080/",
          "height": 304,
          "referenced_widgets": [
            "5aff6e24a51d4a59bbcaa9f67a048434",
            "ffa254709eee41f193bf52e5f0e296b1",
            "6e84d91778024bd182dab0dfa816ebc7",
            "c95092499354474faa39f0e5c22c842b",
            "df1e3776506d46068d5b3ae11348d5b6",
            "12c501a3fa43430fb762dedbb4e5383a",
            "78060b51e5c44376aec874974849a8ca",
            "c5cb9e98bf3548dba2434d6b10ffb574",
            "0c8637405e1f409e9af0ba01118832d8",
            "320503cfc886490eaa1a6634a63f1c18",
            "63a9db32d04448fba7da64c24e1a0265",
            "6071e4cef0b142a1896a765b0d88c3e4",
            "f994534fb0cb4bea85fe146141d37e51",
            "b48e3941dbe4436fa3fcacc433c4c35d",
            "5b0fbcbfe27041ccb06f20ea991b3242",
            "0ae7627c6adb4116bb1c2e5ea7c688b8",
            "b7b4c1712b1f4add8694bba336c7715c",
            "81c768c1605342bab9cf736488c045aa",
            "d1400fe74d3d4e1fa387a2647ebc7293",
            "a35b744dedbb44b397fb17c9e69b25ef",
            "a09c372ab70a416385f71bacbd646b93",
            "f0ae1963474645b581b3593f05e0ae7d",
            "1e9bd84762ba4a6884df73f66a360825",
            "699cd755a0bf47cb98f69c31f921b46e",
            "88f1b35d22504289a20bbb0a05771417",
            "a6229259376849fd8420076e588907d4",
            "1dacf1f31a6346b2a978419c7712d0c4",
            "b1f72074c5b1481c957200c932724e6f",
            "c8489415a561415eb8030b9c3d2790ea",
            "766fb0042e7144bbb73427a58f10b957",
            "6bfaeafaff8f47ca93c6aad60f4250ff",
            "d8d702bc150c426cb124207b2d077086",
            "3a76c2875c344f96b87f2c53fddfb2cc",
            "b96ce8d99e344395ae93b2ae98a86093",
            "9461e4ce46554e5189383f465ffa35e1",
            "95b8ba1b65d24d0fa0c3694d2b7ea717",
            "6fc07a90368244a8b52a3b407186dd51",
            "2fdeb38877734423af948336ff04a526",
            "1e9d915be23b4ff7a24d9e6a2cafaf19",
            "099936777f7646668c232bfa4fce06e9",
            "6b9edb8e1b994ed69498394bd16932bd",
            "73405533e5d24a93a21972dc7dd4eb9a",
            "afb8b809d77f4cc0964b6b757299761a",
            "9f47b073e60249ae8ea44a9c3fff6f84",
            "9b4350ab0a1c44ebb8b6d45eacc6a786",
            "800cd6bd19c4433fb56b1b5083f57fd7",
            "7b094142cf1e45de8993301c93e8cd45",
            "f0b721e2b6974052a07fc12da04d3d5c",
            "37e4e6730cfb403d9074eb046eb2b9f4",
            "538554bb4454435ba1efcf6b58618e14",
            "1134ae21659d42248b0ae5e3401c4bf0",
            "8d450a225e2d4aff84c4fbaac96dbe09",
            "0f4d3cba0397401197bf0c0f327a3188",
            "6fa288c0924840b783b454bc05875a29",
            "90ed9fdbd77841c29e6c25963b837d9b"
          ]
        },
        "id": "N9DN2ht97x-9",
        "outputId": "3940fec5-4b0c-49c5-cfbf-15ac87eb8785"
      },
      "outputs": [
        {
          "output_type": "stream",
          "name": "stderr",
          "text": [
            "/usr/local/lib/python3.10/dist-packages/huggingface_hub/utils/_token.py:88: UserWarning: \n",
            "The secret `HF_TOKEN` does not exist in your Colab secrets.\n",
            "To authenticate with the Hugging Face Hub, create a token in your settings tab (https://huggingface.co/settings/tokens), set it as secret in your Google Colab and restart your session.\n",
            "You will be able to reuse this secret in all of your notebooks.\n",
            "Please note that authentication is recommended but still optional to access public models or datasets.\n",
            "  warnings.warn(\n"
          ]
        },
        {
          "output_type": "display_data",
          "data": {
            "text/plain": [
              "tokenizer_config.json:   0%|          | 0.00/25.0 [00:00<?, ?B/s]"
            ],
            "application/vnd.jupyter.widget-view+json": {
              "version_major": 2,
              "version_minor": 0,
              "model_id": "5aff6e24a51d4a59bbcaa9f67a048434"
            }
          },
          "metadata": {}
        },
        {
          "output_type": "display_data",
          "data": {
            "text/plain": [
              "vocab.json:   0%|          | 0.00/899k [00:00<?, ?B/s]"
            ],
            "application/vnd.jupyter.widget-view+json": {
              "version_major": 2,
              "version_minor": 0,
              "model_id": "6071e4cef0b142a1896a765b0d88c3e4"
            }
          },
          "metadata": {}
        },
        {
          "output_type": "display_data",
          "data": {
            "text/plain": [
              "merges.txt:   0%|          | 0.00/456k [00:00<?, ?B/s]"
            ],
            "application/vnd.jupyter.widget-view+json": {
              "version_major": 2,
              "version_minor": 0,
              "model_id": "1e9bd84762ba4a6884df73f66a360825"
            }
          },
          "metadata": {}
        },
        {
          "output_type": "display_data",
          "data": {
            "text/plain": [
              "tokenizer.json:   0%|          | 0.00/1.36M [00:00<?, ?B/s]"
            ],
            "application/vnd.jupyter.widget-view+json": {
              "version_major": 2,
              "version_minor": 0,
              "model_id": "b96ce8d99e344395ae93b2ae98a86093"
            }
          },
          "metadata": {}
        },
        {
          "output_type": "display_data",
          "data": {
            "text/plain": [
              "config.json:   0%|          | 0.00/481 [00:00<?, ?B/s]"
            ],
            "application/vnd.jupyter.widget-view+json": {
              "version_major": 2,
              "version_minor": 0,
              "model_id": "9b4350ab0a1c44ebb8b6d45eacc6a786"
            }
          },
          "metadata": {}
        }
      ],
      "source": [
        "tokenizer = RobertaTokenizerFast.from_pretrained(\"roberta-base\")\n",
        "assert isinstance(tokenizer, transformers.PreTrainedTokenizerFast)"
      ]
    },
    {
      "cell_type": "markdown",
      "source": [
        "## Prepare features V2"
      ],
      "metadata": {
        "id": "p7qhjR7yyJEU"
      }
    },
    {
      "cell_type": "code",
      "source": [
        "max_length = 384 # The maximum length of a feature (question and context)\n",
        "doc_stride = 128 # The authorized overlap between two part of the context when splitting is needed."
      ],
      "metadata": {
        "id": "Dzv-I8F0yScQ"
      },
      "execution_count": 19,
      "outputs": []
    },
    {
      "cell_type": "code",
      "source": [
        "def prepare_train_features(contexts, questions, answers):\n",
        "    # Strip leading and trailing whitespace\n",
        "    questions = [question.strip() for question in questions]\n",
        "\n",
        "    # Tokenize the question and context pairs, with special handling for long texts.\n",
        "    tokenized = tokenizer(\n",
        "        questions,\n",
        "        contexts,\n",
        "        truncation=\"only_second\",  # only truncate the context if necessary\n",
        "        max_length=max_length,\n",
        "        stride=doc_stride,\n",
        "        return_overflowing_tokens=True,\n",
        "        return_offsets_mapping=True,\n",
        "        padding=\"max_length\",  # pad sequences to `max_length`\n",
        "        return_tensors=\"pt\"\n",
        "    )\n",
        "\n",
        "    # necessary for locating answer positions\n",
        "    sample_mapping = tokenized.pop(\"overflow_to_sample_mapping\")\n",
        "    offset_mapping = tokenized.pop(\"offset_mapping\")\n",
        "\n",
        "    tokenized[\"start_positions\"] = []\n",
        "    tokenized[\"end_positions\"] = []\n",
        "\n",
        "    for i, offsets in enumerate(offset_mapping):\n",
        "        input_ids = tokenized[\"input_ids\"][i]\n",
        "        # Find the index of the CLS token, used as a fallback answer position\n",
        "        cls_index = (input_ids == tokenizer.cls_token_id).nonzero(as_tuple=True)[0][0].item()\n",
        "        sequence_ids = tokenized.sequence_ids(i)\n",
        "        sample_index = sample_mapping[i]\n",
        "        answer = answers[sample_index]\n",
        "\n",
        "        # If no answer is provided, use the CLS token index as both start and end positions\n",
        "        if answer[\"answer_start\"] == -1:\n",
        "            tokenized[\"start_positions\"].append(cls_index)\n",
        "            tokenized[\"end_positions\"].append(cls_index)\n",
        "        else:\n",
        "            start_char = answer[\"answer_start\"]\n",
        "            end_char = start_char + len(answer[\"text\"])\n",
        "\n",
        "            # Find the token index where the context starts\n",
        "            token_start_index = 0\n",
        "            while sequence_ids[token_start_index] != 1:\n",
        "                token_start_index += 1\n",
        "\n",
        "            # Find the token index where the context ends\n",
        "            token_end_index = len(input_ids) - 1\n",
        "            while sequence_ids[token_end_index] != 1:\n",
        "                token_end_index -= 1\n",
        "\n",
        "            # If the answer is not fully contained within the current span, use CLS token positions as fallback\n",
        "            if not (offsets[token_start_index][0] <= start_char and offsets[token_end_index][1] >= end_char):\n",
        "                tokenized[\"start_positions\"].append(cls_index)\n",
        "                tokenized[\"end_positions\"].append(cls_index)\n",
        "            else:\n",
        "                # adjust start and end token positions to tightly enclose the answer text\n",
        "                while token_start_index < len(offsets) and offsets[token_start_index][0] <= start_char:\n",
        "                    token_start_index += 1\n",
        "                tokenized[\"start_positions\"].append(token_start_index - 1)\n",
        "\n",
        "                while token_end_index >= 0 and offsets[token_end_index][1] >= end_char:\n",
        "                    token_end_index -= 1\n",
        "                tokenized[\"end_positions\"].append(token_end_index + 1)\n",
        "\n",
        "    return tokenized\n"
      ],
      "metadata": {
        "id": "MnYDjYN7l8qD"
      },
      "execution_count": 20,
      "outputs": []
    },
    {
      "cell_type": "code",
      "source": [
        "# define a custom class for the data loader\n",
        "class QADataset(torch.utils.data.Dataset):\n",
        "    def __init__(self, encodings, answers=None):\n",
        "        self.encodings = encodings\n",
        "        self.answers = answers\n",
        "\n",
        "    def __getitem__(self, idx):\n",
        "        item = {key: torch.tensor(val[idx]) for key, val in self.encodings.items()}\n",
        "        return item\n",
        "\n",
        "    def __len__(self):\n",
        "        return len(self.encodings['input_ids'])"
      ],
      "metadata": {
        "id": "XKtfxBiT8fKR"
      },
      "execution_count": 21,
      "outputs": []
    },
    {
      "cell_type": "code",
      "source": [
        "train_tokenized = prepare_train_features(unique_contexts, unique_questions, unique_answers)\n",
        "train_dataset = QADataset(train_tokenized)\n",
        "\n",
        "val_tokenized = prepare_train_features(val_contexts, val_questions, val_answers)\n",
        "val_dataset = QADataset(val_tokenized)"
      ],
      "metadata": {
        "id": "mjLKF_W4xyBF"
      },
      "execution_count": 22,
      "outputs": []
    },
    {
      "cell_type": "markdown",
      "metadata": {
        "id": "3F16sVanC-go"
      },
      "source": [
        "#Fine-tuning"
      ]
    },
    {
      "cell_type": "code",
      "execution_count": 23,
      "metadata": {
        "colab": {
          "base_uri": "https://localhost:8080/",
          "height": 105,
          "referenced_widgets": [
            "b53c328bb2a646b1ac4d839c40e8daa1",
            "2c65429c78694777b2b569f0d237f408",
            "9e96cce8248b4b98b27bede92c0d143a",
            "0e7f3e76d17e45dcbb2f6e37c090ab5b",
            "695c4e554aea4eedbac6537761f8f923",
            "a8cf95358a694b149eea4010be203959",
            "9beeab9c42c849fea29aa1a0c899f256",
            "5a908b59068c4714ad387cdf15f94d25",
            "361face4d1db4801bf4f56843c68a8b3",
            "767223c06b2c4cec9599fc6f6e658a9c",
            "9b8b3c09010340b2ab04e0d6c2fe8050"
          ]
        },
        "id": "ubprIo-wUwg7",
        "outputId": "0c11b855-953a-4342-e98c-0e4f3a9c5a0b"
      },
      "outputs": [
        {
          "output_type": "display_data",
          "data": {
            "text/plain": [
              "model.safetensors:   0%|          | 0.00/499M [00:00<?, ?B/s]"
            ],
            "application/vnd.jupyter.widget-view+json": {
              "version_major": 2,
              "version_minor": 0,
              "model_id": "b53c328bb2a646b1ac4d839c40e8daa1"
            }
          },
          "metadata": {}
        },
        {
          "output_type": "stream",
          "name": "stderr",
          "text": [
            "Some weights of RobertaForQuestionAnswering were not initialized from the model checkpoint at roberta-base and are newly initialized: ['qa_outputs.bias', 'qa_outputs.weight']\n",
            "You should probably TRAIN this model on a down-stream task to be able to use it for predictions and inference.\n"
          ]
        }
      ],
      "source": [
        "model = RobertaForQuestionAnswering.from_pretrained(\"roberta-base\")"
      ]
    },
    {
      "cell_type": "code",
      "execution_count": 24,
      "metadata": {
        "colab": {
          "base_uri": "https://localhost:8080/"
        },
        "id": "ulX11-WCQHs1",
        "outputId": "26d59670-8f26-4c41-c526-73ac5e91dd54"
      },
      "outputs": [
        {
          "output_type": "stream",
          "name": "stderr",
          "text": [
            "/usr/local/lib/python3.10/dist-packages/transformers/optimization.py:429: FutureWarning: This implementation of AdamW is deprecated and will be removed in a future version. Use the PyTorch implementation torch.optim.AdamW instead, or set `no_deprecation_warning=True` to disable this warning\n",
            "  warnings.warn(\n",
            "Epoch 1/1:   0%|          | 0/14731 [00:00<?, ?it/s]<ipython-input-21-3062728c2d57>:8: UserWarning: To copy construct from a tensor, it is recommended to use sourceTensor.clone().detach() or sourceTensor.clone().detach().requires_grad_(True), rather than torch.tensor(sourceTensor).\n",
            "  item = {key: torch.tensor(val[idx]) for key, val in self.encodings.items()}\n",
            "Epoch 1/1: 100%|██████████| 14731/14731 [1:21:30<00:00,  3.01it/s]\n"
          ]
        },
        {
          "output_type": "stream",
          "name": "stdout",
          "text": [
            "Epoch 1/1, Training Loss: 1.0041225527937743\n",
            "Epoch 1/1, Validation Loss: 1.2539261535094066\n"
          ]
        }
      ],
      "source": [
        "device = torch.device('cuda') if torch.cuda.is_available() else torch.device('cpu')\n",
        "\n",
        "model.to(device)\n",
        "optimizer = AdamW(model.parameters(), lr=5e-5)\n",
        "\n",
        "train_loader = DataLoader(train_dataset, batch_size=16, shuffle=True)\n",
        "val_loader = DataLoader(val_dataset, batch_size=16, shuffle=False)\n",
        "\n",
        "# Number of epochs\n",
        "n_epochs = 1\n",
        "\n",
        "for epoch in range(n_epochs):\n",
        "    model.train()\n",
        "    total_loss = 0\n",
        "\n",
        "    for batch in tqdm(train_loader, desc=f'Epoch {epoch + 1}/{n_epochs}'):\n",
        "        optimizer.zero_grad()\n",
        "\n",
        "        input_ids = batch['input_ids'].to(device)\n",
        "        attention_mask = batch['attention_mask'].to(device)\n",
        "        start_positions = batch['start_positions'].to(device)\n",
        "        end_positions = batch['end_positions'].to(device)\n",
        "\n",
        "        outputs = model(input_ids, attention_mask=attention_mask, start_positions=start_positions, end_positions=end_positions)\n",
        "        loss = outputs.loss\n",
        "\n",
        "        loss.backward()\n",
        "        optimizer.step()\n",
        "\n",
        "        total_loss += loss.item()\n",
        "\n",
        "    avg_loss = total_loss / len(train_loader)\n",
        "    print(f'Epoch {epoch + 1}/{n_epochs}, Training Loss: {avg_loss}')\n",
        "\n",
        "    # Validation phase\n",
        "    model.eval()\n",
        "    total_val_loss = 0\n",
        "    with torch.no_grad():\n",
        "        for batch in val_loader:\n",
        "            input_ids = batch['input_ids'].to(device)\n",
        "            attention_mask = batch['attention_mask'].to(device)\n",
        "            start_positions = batch['start_positions'].to(device)\n",
        "            end_positions = batch['end_positions'].to(device)\n",
        "\n",
        "            outputs = model(input_ids, attention_mask=attention_mask, start_positions=start_positions, end_positions=end_positions)\n",
        "            total_val_loss += outputs.loss.item()\n",
        "\n",
        "    avg_val_loss = total_val_loss / len(val_loader)\n",
        "    print(f'Epoch {epoch + 1}/{n_epochs}, Validation Loss: {avg_val_loss}')"
      ]
    },
    {
      "cell_type": "code",
      "source": [
        "directory_path = '/content/drive/MyDrive/NLP'\n",
        "os.makedirs(directory_path, exist_ok=True)"
      ],
      "metadata": {
        "id": "JpGrnWHbjMRo"
      },
      "execution_count": 25,
      "outputs": []
    },
    {
      "cell_type": "code",
      "source": [
        "model_path = os.path.join(directory_path, 'model2_backtranslation_overlapV3.pth')\n",
        "torch.save(model, model_path)"
      ],
      "metadata": {
        "id": "woPAQX8Eqw5H"
      },
      "execution_count": 27,
      "outputs": []
    }
  ],
  "metadata": {
    "accelerator": "GPU",
    "colab": {
      "gpuType": "V100",
      "machine_shape": "hm",
      "provenance": [],
      "mount_file_id": "1Y1sF0nwizHeF7U7lOYSGoWw3MuQPki3y",
      "authorship_tag": "ABX9TyPjdzV5/xtaFDMTAJoJxAhH",
      "include_colab_link": true
    },
    "kernelspec": {
      "display_name": "Python 3",
      "name": "python3"
    },
    "language_info": {
      "name": "python"
    },
    "widgets": {
      "application/vnd.jupyter.widget-state+json": {
        "5aff6e24a51d4a59bbcaa9f67a048434": {
          "model_module": "@jupyter-widgets/controls",
          "model_name": "HBoxModel",
          "model_module_version": "1.5.0",
          "state": {
            "_dom_classes": [],
            "_model_module": "@jupyter-widgets/controls",
            "_model_module_version": "1.5.0",
            "_model_name": "HBoxModel",
            "_view_count": null,
            "_view_module": "@jupyter-widgets/controls",
            "_view_module_version": "1.5.0",
            "_view_name": "HBoxView",
            "box_style": "",
            "children": [
              "IPY_MODEL_ffa254709eee41f193bf52e5f0e296b1",
              "IPY_MODEL_6e84d91778024bd182dab0dfa816ebc7",
              "IPY_MODEL_c95092499354474faa39f0e5c22c842b"
            ],
            "layout": "IPY_MODEL_df1e3776506d46068d5b3ae11348d5b6"
          }
        },
        "ffa254709eee41f193bf52e5f0e296b1": {
          "model_module": "@jupyter-widgets/controls",
          "model_name": "HTMLModel",
          "model_module_version": "1.5.0",
          "state": {
            "_dom_classes": [],
            "_model_module": "@jupyter-widgets/controls",
            "_model_module_version": "1.5.0",
            "_model_name": "HTMLModel",
            "_view_count": null,
            "_view_module": "@jupyter-widgets/controls",
            "_view_module_version": "1.5.0",
            "_view_name": "HTMLView",
            "description": "",
            "description_tooltip": null,
            "layout": "IPY_MODEL_12c501a3fa43430fb762dedbb4e5383a",
            "placeholder": "​",
            "style": "IPY_MODEL_78060b51e5c44376aec874974849a8ca",
            "value": "tokenizer_config.json: 100%"
          }
        },
        "6e84d91778024bd182dab0dfa816ebc7": {
          "model_module": "@jupyter-widgets/controls",
          "model_name": "FloatProgressModel",
          "model_module_version": "1.5.0",
          "state": {
            "_dom_classes": [],
            "_model_module": "@jupyter-widgets/controls",
            "_model_module_version": "1.5.0",
            "_model_name": "FloatProgressModel",
            "_view_count": null,
            "_view_module": "@jupyter-widgets/controls",
            "_view_module_version": "1.5.0",
            "_view_name": "ProgressView",
            "bar_style": "success",
            "description": "",
            "description_tooltip": null,
            "layout": "IPY_MODEL_c5cb9e98bf3548dba2434d6b10ffb574",
            "max": 25,
            "min": 0,
            "orientation": "horizontal",
            "style": "IPY_MODEL_0c8637405e1f409e9af0ba01118832d8",
            "value": 25
          }
        },
        "c95092499354474faa39f0e5c22c842b": {
          "model_module": "@jupyter-widgets/controls",
          "model_name": "HTMLModel",
          "model_module_version": "1.5.0",
          "state": {
            "_dom_classes": [],
            "_model_module": "@jupyter-widgets/controls",
            "_model_module_version": "1.5.0",
            "_model_name": "HTMLModel",
            "_view_count": null,
            "_view_module": "@jupyter-widgets/controls",
            "_view_module_version": "1.5.0",
            "_view_name": "HTMLView",
            "description": "",
            "description_tooltip": null,
            "layout": "IPY_MODEL_320503cfc886490eaa1a6634a63f1c18",
            "placeholder": "​",
            "style": "IPY_MODEL_63a9db32d04448fba7da64c24e1a0265",
            "value": " 25.0/25.0 [00:00&lt;00:00, 2.15kB/s]"
          }
        },
        "df1e3776506d46068d5b3ae11348d5b6": {
          "model_module": "@jupyter-widgets/base",
          "model_name": "LayoutModel",
          "model_module_version": "1.2.0",
          "state": {
            "_model_module": "@jupyter-widgets/base",
            "_model_module_version": "1.2.0",
            "_model_name": "LayoutModel",
            "_view_count": null,
            "_view_module": "@jupyter-widgets/base",
            "_view_module_version": "1.2.0",
            "_view_name": "LayoutView",
            "align_content": null,
            "align_items": null,
            "align_self": null,
            "border": null,
            "bottom": null,
            "display": null,
            "flex": null,
            "flex_flow": null,
            "grid_area": null,
            "grid_auto_columns": null,
            "grid_auto_flow": null,
            "grid_auto_rows": null,
            "grid_column": null,
            "grid_gap": null,
            "grid_row": null,
            "grid_template_areas": null,
            "grid_template_columns": null,
            "grid_template_rows": null,
            "height": null,
            "justify_content": null,
            "justify_items": null,
            "left": null,
            "margin": null,
            "max_height": null,
            "max_width": null,
            "min_height": null,
            "min_width": null,
            "object_fit": null,
            "object_position": null,
            "order": null,
            "overflow": null,
            "overflow_x": null,
            "overflow_y": null,
            "padding": null,
            "right": null,
            "top": null,
            "visibility": null,
            "width": null
          }
        },
        "12c501a3fa43430fb762dedbb4e5383a": {
          "model_module": "@jupyter-widgets/base",
          "model_name": "LayoutModel",
          "model_module_version": "1.2.0",
          "state": {
            "_model_module": "@jupyter-widgets/base",
            "_model_module_version": "1.2.0",
            "_model_name": "LayoutModel",
            "_view_count": null,
            "_view_module": "@jupyter-widgets/base",
            "_view_module_version": "1.2.0",
            "_view_name": "LayoutView",
            "align_content": null,
            "align_items": null,
            "align_self": null,
            "border": null,
            "bottom": null,
            "display": null,
            "flex": null,
            "flex_flow": null,
            "grid_area": null,
            "grid_auto_columns": null,
            "grid_auto_flow": null,
            "grid_auto_rows": null,
            "grid_column": null,
            "grid_gap": null,
            "grid_row": null,
            "grid_template_areas": null,
            "grid_template_columns": null,
            "grid_template_rows": null,
            "height": null,
            "justify_content": null,
            "justify_items": null,
            "left": null,
            "margin": null,
            "max_height": null,
            "max_width": null,
            "min_height": null,
            "min_width": null,
            "object_fit": null,
            "object_position": null,
            "order": null,
            "overflow": null,
            "overflow_x": null,
            "overflow_y": null,
            "padding": null,
            "right": null,
            "top": null,
            "visibility": null,
            "width": null
          }
        },
        "78060b51e5c44376aec874974849a8ca": {
          "model_module": "@jupyter-widgets/controls",
          "model_name": "DescriptionStyleModel",
          "model_module_version": "1.5.0",
          "state": {
            "_model_module": "@jupyter-widgets/controls",
            "_model_module_version": "1.5.0",
            "_model_name": "DescriptionStyleModel",
            "_view_count": null,
            "_view_module": "@jupyter-widgets/base",
            "_view_module_version": "1.2.0",
            "_view_name": "StyleView",
            "description_width": ""
          }
        },
        "c5cb9e98bf3548dba2434d6b10ffb574": {
          "model_module": "@jupyter-widgets/base",
          "model_name": "LayoutModel",
          "model_module_version": "1.2.0",
          "state": {
            "_model_module": "@jupyter-widgets/base",
            "_model_module_version": "1.2.0",
            "_model_name": "LayoutModel",
            "_view_count": null,
            "_view_module": "@jupyter-widgets/base",
            "_view_module_version": "1.2.0",
            "_view_name": "LayoutView",
            "align_content": null,
            "align_items": null,
            "align_self": null,
            "border": null,
            "bottom": null,
            "display": null,
            "flex": null,
            "flex_flow": null,
            "grid_area": null,
            "grid_auto_columns": null,
            "grid_auto_flow": null,
            "grid_auto_rows": null,
            "grid_column": null,
            "grid_gap": null,
            "grid_row": null,
            "grid_template_areas": null,
            "grid_template_columns": null,
            "grid_template_rows": null,
            "height": null,
            "justify_content": null,
            "justify_items": null,
            "left": null,
            "margin": null,
            "max_height": null,
            "max_width": null,
            "min_height": null,
            "min_width": null,
            "object_fit": null,
            "object_position": null,
            "order": null,
            "overflow": null,
            "overflow_x": null,
            "overflow_y": null,
            "padding": null,
            "right": null,
            "top": null,
            "visibility": null,
            "width": null
          }
        },
        "0c8637405e1f409e9af0ba01118832d8": {
          "model_module": "@jupyter-widgets/controls",
          "model_name": "ProgressStyleModel",
          "model_module_version": "1.5.0",
          "state": {
            "_model_module": "@jupyter-widgets/controls",
            "_model_module_version": "1.5.0",
            "_model_name": "ProgressStyleModel",
            "_view_count": null,
            "_view_module": "@jupyter-widgets/base",
            "_view_module_version": "1.2.0",
            "_view_name": "StyleView",
            "bar_color": null,
            "description_width": ""
          }
        },
        "320503cfc886490eaa1a6634a63f1c18": {
          "model_module": "@jupyter-widgets/base",
          "model_name": "LayoutModel",
          "model_module_version": "1.2.0",
          "state": {
            "_model_module": "@jupyter-widgets/base",
            "_model_module_version": "1.2.0",
            "_model_name": "LayoutModel",
            "_view_count": null,
            "_view_module": "@jupyter-widgets/base",
            "_view_module_version": "1.2.0",
            "_view_name": "LayoutView",
            "align_content": null,
            "align_items": null,
            "align_self": null,
            "border": null,
            "bottom": null,
            "display": null,
            "flex": null,
            "flex_flow": null,
            "grid_area": null,
            "grid_auto_columns": null,
            "grid_auto_flow": null,
            "grid_auto_rows": null,
            "grid_column": null,
            "grid_gap": null,
            "grid_row": null,
            "grid_template_areas": null,
            "grid_template_columns": null,
            "grid_template_rows": null,
            "height": null,
            "justify_content": null,
            "justify_items": null,
            "left": null,
            "margin": null,
            "max_height": null,
            "max_width": null,
            "min_height": null,
            "min_width": null,
            "object_fit": null,
            "object_position": null,
            "order": null,
            "overflow": null,
            "overflow_x": null,
            "overflow_y": null,
            "padding": null,
            "right": null,
            "top": null,
            "visibility": null,
            "width": null
          }
        },
        "63a9db32d04448fba7da64c24e1a0265": {
          "model_module": "@jupyter-widgets/controls",
          "model_name": "DescriptionStyleModel",
          "model_module_version": "1.5.0",
          "state": {
            "_model_module": "@jupyter-widgets/controls",
            "_model_module_version": "1.5.0",
            "_model_name": "DescriptionStyleModel",
            "_view_count": null,
            "_view_module": "@jupyter-widgets/base",
            "_view_module_version": "1.2.0",
            "_view_name": "StyleView",
            "description_width": ""
          }
        },
        "6071e4cef0b142a1896a765b0d88c3e4": {
          "model_module": "@jupyter-widgets/controls",
          "model_name": "HBoxModel",
          "model_module_version": "1.5.0",
          "state": {
            "_dom_classes": [],
            "_model_module": "@jupyter-widgets/controls",
            "_model_module_version": "1.5.0",
            "_model_name": "HBoxModel",
            "_view_count": null,
            "_view_module": "@jupyter-widgets/controls",
            "_view_module_version": "1.5.0",
            "_view_name": "HBoxView",
            "box_style": "",
            "children": [
              "IPY_MODEL_f994534fb0cb4bea85fe146141d37e51",
              "IPY_MODEL_b48e3941dbe4436fa3fcacc433c4c35d",
              "IPY_MODEL_5b0fbcbfe27041ccb06f20ea991b3242"
            ],
            "layout": "IPY_MODEL_0ae7627c6adb4116bb1c2e5ea7c688b8"
          }
        },
        "f994534fb0cb4bea85fe146141d37e51": {
          "model_module": "@jupyter-widgets/controls",
          "model_name": "HTMLModel",
          "model_module_version": "1.5.0",
          "state": {
            "_dom_classes": [],
            "_model_module": "@jupyter-widgets/controls",
            "_model_module_version": "1.5.0",
            "_model_name": "HTMLModel",
            "_view_count": null,
            "_view_module": "@jupyter-widgets/controls",
            "_view_module_version": "1.5.0",
            "_view_name": "HTMLView",
            "description": "",
            "description_tooltip": null,
            "layout": "IPY_MODEL_b7b4c1712b1f4add8694bba336c7715c",
            "placeholder": "​",
            "style": "IPY_MODEL_81c768c1605342bab9cf736488c045aa",
            "value": "vocab.json: 100%"
          }
        },
        "b48e3941dbe4436fa3fcacc433c4c35d": {
          "model_module": "@jupyter-widgets/controls",
          "model_name": "FloatProgressModel",
          "model_module_version": "1.5.0",
          "state": {
            "_dom_classes": [],
            "_model_module": "@jupyter-widgets/controls",
            "_model_module_version": "1.5.0",
            "_model_name": "FloatProgressModel",
            "_view_count": null,
            "_view_module": "@jupyter-widgets/controls",
            "_view_module_version": "1.5.0",
            "_view_name": "ProgressView",
            "bar_style": "success",
            "description": "",
            "description_tooltip": null,
            "layout": "IPY_MODEL_d1400fe74d3d4e1fa387a2647ebc7293",
            "max": 898823,
            "min": 0,
            "orientation": "horizontal",
            "style": "IPY_MODEL_a35b744dedbb44b397fb17c9e69b25ef",
            "value": 898823
          }
        },
        "5b0fbcbfe27041ccb06f20ea991b3242": {
          "model_module": "@jupyter-widgets/controls",
          "model_name": "HTMLModel",
          "model_module_version": "1.5.0",
          "state": {
            "_dom_classes": [],
            "_model_module": "@jupyter-widgets/controls",
            "_model_module_version": "1.5.0",
            "_model_name": "HTMLModel",
            "_view_count": null,
            "_view_module": "@jupyter-widgets/controls",
            "_view_module_version": "1.5.0",
            "_view_name": "HTMLView",
            "description": "",
            "description_tooltip": null,
            "layout": "IPY_MODEL_a09c372ab70a416385f71bacbd646b93",
            "placeholder": "​",
            "style": "IPY_MODEL_f0ae1963474645b581b3593f05e0ae7d",
            "value": " 899k/899k [00:00&lt;00:00, 5.46MB/s]"
          }
        },
        "0ae7627c6adb4116bb1c2e5ea7c688b8": {
          "model_module": "@jupyter-widgets/base",
          "model_name": "LayoutModel",
          "model_module_version": "1.2.0",
          "state": {
            "_model_module": "@jupyter-widgets/base",
            "_model_module_version": "1.2.0",
            "_model_name": "LayoutModel",
            "_view_count": null,
            "_view_module": "@jupyter-widgets/base",
            "_view_module_version": "1.2.0",
            "_view_name": "LayoutView",
            "align_content": null,
            "align_items": null,
            "align_self": null,
            "border": null,
            "bottom": null,
            "display": null,
            "flex": null,
            "flex_flow": null,
            "grid_area": null,
            "grid_auto_columns": null,
            "grid_auto_flow": null,
            "grid_auto_rows": null,
            "grid_column": null,
            "grid_gap": null,
            "grid_row": null,
            "grid_template_areas": null,
            "grid_template_columns": null,
            "grid_template_rows": null,
            "height": null,
            "justify_content": null,
            "justify_items": null,
            "left": null,
            "margin": null,
            "max_height": null,
            "max_width": null,
            "min_height": null,
            "min_width": null,
            "object_fit": null,
            "object_position": null,
            "order": null,
            "overflow": null,
            "overflow_x": null,
            "overflow_y": null,
            "padding": null,
            "right": null,
            "top": null,
            "visibility": null,
            "width": null
          }
        },
        "b7b4c1712b1f4add8694bba336c7715c": {
          "model_module": "@jupyter-widgets/base",
          "model_name": "LayoutModel",
          "model_module_version": "1.2.0",
          "state": {
            "_model_module": "@jupyter-widgets/base",
            "_model_module_version": "1.2.0",
            "_model_name": "LayoutModel",
            "_view_count": null,
            "_view_module": "@jupyter-widgets/base",
            "_view_module_version": "1.2.0",
            "_view_name": "LayoutView",
            "align_content": null,
            "align_items": null,
            "align_self": null,
            "border": null,
            "bottom": null,
            "display": null,
            "flex": null,
            "flex_flow": null,
            "grid_area": null,
            "grid_auto_columns": null,
            "grid_auto_flow": null,
            "grid_auto_rows": null,
            "grid_column": null,
            "grid_gap": null,
            "grid_row": null,
            "grid_template_areas": null,
            "grid_template_columns": null,
            "grid_template_rows": null,
            "height": null,
            "justify_content": null,
            "justify_items": null,
            "left": null,
            "margin": null,
            "max_height": null,
            "max_width": null,
            "min_height": null,
            "min_width": null,
            "object_fit": null,
            "object_position": null,
            "order": null,
            "overflow": null,
            "overflow_x": null,
            "overflow_y": null,
            "padding": null,
            "right": null,
            "top": null,
            "visibility": null,
            "width": null
          }
        },
        "81c768c1605342bab9cf736488c045aa": {
          "model_module": "@jupyter-widgets/controls",
          "model_name": "DescriptionStyleModel",
          "model_module_version": "1.5.0",
          "state": {
            "_model_module": "@jupyter-widgets/controls",
            "_model_module_version": "1.5.0",
            "_model_name": "DescriptionStyleModel",
            "_view_count": null,
            "_view_module": "@jupyter-widgets/base",
            "_view_module_version": "1.2.0",
            "_view_name": "StyleView",
            "description_width": ""
          }
        },
        "d1400fe74d3d4e1fa387a2647ebc7293": {
          "model_module": "@jupyter-widgets/base",
          "model_name": "LayoutModel",
          "model_module_version": "1.2.0",
          "state": {
            "_model_module": "@jupyter-widgets/base",
            "_model_module_version": "1.2.0",
            "_model_name": "LayoutModel",
            "_view_count": null,
            "_view_module": "@jupyter-widgets/base",
            "_view_module_version": "1.2.0",
            "_view_name": "LayoutView",
            "align_content": null,
            "align_items": null,
            "align_self": null,
            "border": null,
            "bottom": null,
            "display": null,
            "flex": null,
            "flex_flow": null,
            "grid_area": null,
            "grid_auto_columns": null,
            "grid_auto_flow": null,
            "grid_auto_rows": null,
            "grid_column": null,
            "grid_gap": null,
            "grid_row": null,
            "grid_template_areas": null,
            "grid_template_columns": null,
            "grid_template_rows": null,
            "height": null,
            "justify_content": null,
            "justify_items": null,
            "left": null,
            "margin": null,
            "max_height": null,
            "max_width": null,
            "min_height": null,
            "min_width": null,
            "object_fit": null,
            "object_position": null,
            "order": null,
            "overflow": null,
            "overflow_x": null,
            "overflow_y": null,
            "padding": null,
            "right": null,
            "top": null,
            "visibility": null,
            "width": null
          }
        },
        "a35b744dedbb44b397fb17c9e69b25ef": {
          "model_module": "@jupyter-widgets/controls",
          "model_name": "ProgressStyleModel",
          "model_module_version": "1.5.0",
          "state": {
            "_model_module": "@jupyter-widgets/controls",
            "_model_module_version": "1.5.0",
            "_model_name": "ProgressStyleModel",
            "_view_count": null,
            "_view_module": "@jupyter-widgets/base",
            "_view_module_version": "1.2.0",
            "_view_name": "StyleView",
            "bar_color": null,
            "description_width": ""
          }
        },
        "a09c372ab70a416385f71bacbd646b93": {
          "model_module": "@jupyter-widgets/base",
          "model_name": "LayoutModel",
          "model_module_version": "1.2.0",
          "state": {
            "_model_module": "@jupyter-widgets/base",
            "_model_module_version": "1.2.0",
            "_model_name": "LayoutModel",
            "_view_count": null,
            "_view_module": "@jupyter-widgets/base",
            "_view_module_version": "1.2.0",
            "_view_name": "LayoutView",
            "align_content": null,
            "align_items": null,
            "align_self": null,
            "border": null,
            "bottom": null,
            "display": null,
            "flex": null,
            "flex_flow": null,
            "grid_area": null,
            "grid_auto_columns": null,
            "grid_auto_flow": null,
            "grid_auto_rows": null,
            "grid_column": null,
            "grid_gap": null,
            "grid_row": null,
            "grid_template_areas": null,
            "grid_template_columns": null,
            "grid_template_rows": null,
            "height": null,
            "justify_content": null,
            "justify_items": null,
            "left": null,
            "margin": null,
            "max_height": null,
            "max_width": null,
            "min_height": null,
            "min_width": null,
            "object_fit": null,
            "object_position": null,
            "order": null,
            "overflow": null,
            "overflow_x": null,
            "overflow_y": null,
            "padding": null,
            "right": null,
            "top": null,
            "visibility": null,
            "width": null
          }
        },
        "f0ae1963474645b581b3593f05e0ae7d": {
          "model_module": "@jupyter-widgets/controls",
          "model_name": "DescriptionStyleModel",
          "model_module_version": "1.5.0",
          "state": {
            "_model_module": "@jupyter-widgets/controls",
            "_model_module_version": "1.5.0",
            "_model_name": "DescriptionStyleModel",
            "_view_count": null,
            "_view_module": "@jupyter-widgets/base",
            "_view_module_version": "1.2.0",
            "_view_name": "StyleView",
            "description_width": ""
          }
        },
        "1e9bd84762ba4a6884df73f66a360825": {
          "model_module": "@jupyter-widgets/controls",
          "model_name": "HBoxModel",
          "model_module_version": "1.5.0",
          "state": {
            "_dom_classes": [],
            "_model_module": "@jupyter-widgets/controls",
            "_model_module_version": "1.5.0",
            "_model_name": "HBoxModel",
            "_view_count": null,
            "_view_module": "@jupyter-widgets/controls",
            "_view_module_version": "1.5.0",
            "_view_name": "HBoxView",
            "box_style": "",
            "children": [
              "IPY_MODEL_699cd755a0bf47cb98f69c31f921b46e",
              "IPY_MODEL_88f1b35d22504289a20bbb0a05771417",
              "IPY_MODEL_a6229259376849fd8420076e588907d4"
            ],
            "layout": "IPY_MODEL_1dacf1f31a6346b2a978419c7712d0c4"
          }
        },
        "699cd755a0bf47cb98f69c31f921b46e": {
          "model_module": "@jupyter-widgets/controls",
          "model_name": "HTMLModel",
          "model_module_version": "1.5.0",
          "state": {
            "_dom_classes": [],
            "_model_module": "@jupyter-widgets/controls",
            "_model_module_version": "1.5.0",
            "_model_name": "HTMLModel",
            "_view_count": null,
            "_view_module": "@jupyter-widgets/controls",
            "_view_module_version": "1.5.0",
            "_view_name": "HTMLView",
            "description": "",
            "description_tooltip": null,
            "layout": "IPY_MODEL_b1f72074c5b1481c957200c932724e6f",
            "placeholder": "​",
            "style": "IPY_MODEL_c8489415a561415eb8030b9c3d2790ea",
            "value": "merges.txt: 100%"
          }
        },
        "88f1b35d22504289a20bbb0a05771417": {
          "model_module": "@jupyter-widgets/controls",
          "model_name": "FloatProgressModel",
          "model_module_version": "1.5.0",
          "state": {
            "_dom_classes": [],
            "_model_module": "@jupyter-widgets/controls",
            "_model_module_version": "1.5.0",
            "_model_name": "FloatProgressModel",
            "_view_count": null,
            "_view_module": "@jupyter-widgets/controls",
            "_view_module_version": "1.5.0",
            "_view_name": "ProgressView",
            "bar_style": "success",
            "description": "",
            "description_tooltip": null,
            "layout": "IPY_MODEL_766fb0042e7144bbb73427a58f10b957",
            "max": 456318,
            "min": 0,
            "orientation": "horizontal",
            "style": "IPY_MODEL_6bfaeafaff8f47ca93c6aad60f4250ff",
            "value": 456318
          }
        },
        "a6229259376849fd8420076e588907d4": {
          "model_module": "@jupyter-widgets/controls",
          "model_name": "HTMLModel",
          "model_module_version": "1.5.0",
          "state": {
            "_dom_classes": [],
            "_model_module": "@jupyter-widgets/controls",
            "_model_module_version": "1.5.0",
            "_model_name": "HTMLModel",
            "_view_count": null,
            "_view_module": "@jupyter-widgets/controls",
            "_view_module_version": "1.5.0",
            "_view_name": "HTMLView",
            "description": "",
            "description_tooltip": null,
            "layout": "IPY_MODEL_d8d702bc150c426cb124207b2d077086",
            "placeholder": "​",
            "style": "IPY_MODEL_3a76c2875c344f96b87f2c53fddfb2cc",
            "value": " 456k/456k [00:00&lt;00:00, 1.85MB/s]"
          }
        },
        "1dacf1f31a6346b2a978419c7712d0c4": {
          "model_module": "@jupyter-widgets/base",
          "model_name": "LayoutModel",
          "model_module_version": "1.2.0",
          "state": {
            "_model_module": "@jupyter-widgets/base",
            "_model_module_version": "1.2.0",
            "_model_name": "LayoutModel",
            "_view_count": null,
            "_view_module": "@jupyter-widgets/base",
            "_view_module_version": "1.2.0",
            "_view_name": "LayoutView",
            "align_content": null,
            "align_items": null,
            "align_self": null,
            "border": null,
            "bottom": null,
            "display": null,
            "flex": null,
            "flex_flow": null,
            "grid_area": null,
            "grid_auto_columns": null,
            "grid_auto_flow": null,
            "grid_auto_rows": null,
            "grid_column": null,
            "grid_gap": null,
            "grid_row": null,
            "grid_template_areas": null,
            "grid_template_columns": null,
            "grid_template_rows": null,
            "height": null,
            "justify_content": null,
            "justify_items": null,
            "left": null,
            "margin": null,
            "max_height": null,
            "max_width": null,
            "min_height": null,
            "min_width": null,
            "object_fit": null,
            "object_position": null,
            "order": null,
            "overflow": null,
            "overflow_x": null,
            "overflow_y": null,
            "padding": null,
            "right": null,
            "top": null,
            "visibility": null,
            "width": null
          }
        },
        "b1f72074c5b1481c957200c932724e6f": {
          "model_module": "@jupyter-widgets/base",
          "model_name": "LayoutModel",
          "model_module_version": "1.2.0",
          "state": {
            "_model_module": "@jupyter-widgets/base",
            "_model_module_version": "1.2.0",
            "_model_name": "LayoutModel",
            "_view_count": null,
            "_view_module": "@jupyter-widgets/base",
            "_view_module_version": "1.2.0",
            "_view_name": "LayoutView",
            "align_content": null,
            "align_items": null,
            "align_self": null,
            "border": null,
            "bottom": null,
            "display": null,
            "flex": null,
            "flex_flow": null,
            "grid_area": null,
            "grid_auto_columns": null,
            "grid_auto_flow": null,
            "grid_auto_rows": null,
            "grid_column": null,
            "grid_gap": null,
            "grid_row": null,
            "grid_template_areas": null,
            "grid_template_columns": null,
            "grid_template_rows": null,
            "height": null,
            "justify_content": null,
            "justify_items": null,
            "left": null,
            "margin": null,
            "max_height": null,
            "max_width": null,
            "min_height": null,
            "min_width": null,
            "object_fit": null,
            "object_position": null,
            "order": null,
            "overflow": null,
            "overflow_x": null,
            "overflow_y": null,
            "padding": null,
            "right": null,
            "top": null,
            "visibility": null,
            "width": null
          }
        },
        "c8489415a561415eb8030b9c3d2790ea": {
          "model_module": "@jupyter-widgets/controls",
          "model_name": "DescriptionStyleModel",
          "model_module_version": "1.5.0",
          "state": {
            "_model_module": "@jupyter-widgets/controls",
            "_model_module_version": "1.5.0",
            "_model_name": "DescriptionStyleModel",
            "_view_count": null,
            "_view_module": "@jupyter-widgets/base",
            "_view_module_version": "1.2.0",
            "_view_name": "StyleView",
            "description_width": ""
          }
        },
        "766fb0042e7144bbb73427a58f10b957": {
          "model_module": "@jupyter-widgets/base",
          "model_name": "LayoutModel",
          "model_module_version": "1.2.0",
          "state": {
            "_model_module": "@jupyter-widgets/base",
            "_model_module_version": "1.2.0",
            "_model_name": "LayoutModel",
            "_view_count": null,
            "_view_module": "@jupyter-widgets/base",
            "_view_module_version": "1.2.0",
            "_view_name": "LayoutView",
            "align_content": null,
            "align_items": null,
            "align_self": null,
            "border": null,
            "bottom": null,
            "display": null,
            "flex": null,
            "flex_flow": null,
            "grid_area": null,
            "grid_auto_columns": null,
            "grid_auto_flow": null,
            "grid_auto_rows": null,
            "grid_column": null,
            "grid_gap": null,
            "grid_row": null,
            "grid_template_areas": null,
            "grid_template_columns": null,
            "grid_template_rows": null,
            "height": null,
            "justify_content": null,
            "justify_items": null,
            "left": null,
            "margin": null,
            "max_height": null,
            "max_width": null,
            "min_height": null,
            "min_width": null,
            "object_fit": null,
            "object_position": null,
            "order": null,
            "overflow": null,
            "overflow_x": null,
            "overflow_y": null,
            "padding": null,
            "right": null,
            "top": null,
            "visibility": null,
            "width": null
          }
        },
        "6bfaeafaff8f47ca93c6aad60f4250ff": {
          "model_module": "@jupyter-widgets/controls",
          "model_name": "ProgressStyleModel",
          "model_module_version": "1.5.0",
          "state": {
            "_model_module": "@jupyter-widgets/controls",
            "_model_module_version": "1.5.0",
            "_model_name": "ProgressStyleModel",
            "_view_count": null,
            "_view_module": "@jupyter-widgets/base",
            "_view_module_version": "1.2.0",
            "_view_name": "StyleView",
            "bar_color": null,
            "description_width": ""
          }
        },
        "d8d702bc150c426cb124207b2d077086": {
          "model_module": "@jupyter-widgets/base",
          "model_name": "LayoutModel",
          "model_module_version": "1.2.0",
          "state": {
            "_model_module": "@jupyter-widgets/base",
            "_model_module_version": "1.2.0",
            "_model_name": "LayoutModel",
            "_view_count": null,
            "_view_module": "@jupyter-widgets/base",
            "_view_module_version": "1.2.0",
            "_view_name": "LayoutView",
            "align_content": null,
            "align_items": null,
            "align_self": null,
            "border": null,
            "bottom": null,
            "display": null,
            "flex": null,
            "flex_flow": null,
            "grid_area": null,
            "grid_auto_columns": null,
            "grid_auto_flow": null,
            "grid_auto_rows": null,
            "grid_column": null,
            "grid_gap": null,
            "grid_row": null,
            "grid_template_areas": null,
            "grid_template_columns": null,
            "grid_template_rows": null,
            "height": null,
            "justify_content": null,
            "justify_items": null,
            "left": null,
            "margin": null,
            "max_height": null,
            "max_width": null,
            "min_height": null,
            "min_width": null,
            "object_fit": null,
            "object_position": null,
            "order": null,
            "overflow": null,
            "overflow_x": null,
            "overflow_y": null,
            "padding": null,
            "right": null,
            "top": null,
            "visibility": null,
            "width": null
          }
        },
        "3a76c2875c344f96b87f2c53fddfb2cc": {
          "model_module": "@jupyter-widgets/controls",
          "model_name": "DescriptionStyleModel",
          "model_module_version": "1.5.0",
          "state": {
            "_model_module": "@jupyter-widgets/controls",
            "_model_module_version": "1.5.0",
            "_model_name": "DescriptionStyleModel",
            "_view_count": null,
            "_view_module": "@jupyter-widgets/base",
            "_view_module_version": "1.2.0",
            "_view_name": "StyleView",
            "description_width": ""
          }
        },
        "b96ce8d99e344395ae93b2ae98a86093": {
          "model_module": "@jupyter-widgets/controls",
          "model_name": "HBoxModel",
          "model_module_version": "1.5.0",
          "state": {
            "_dom_classes": [],
            "_model_module": "@jupyter-widgets/controls",
            "_model_module_version": "1.5.0",
            "_model_name": "HBoxModel",
            "_view_count": null,
            "_view_module": "@jupyter-widgets/controls",
            "_view_module_version": "1.5.0",
            "_view_name": "HBoxView",
            "box_style": "",
            "children": [
              "IPY_MODEL_9461e4ce46554e5189383f465ffa35e1",
              "IPY_MODEL_95b8ba1b65d24d0fa0c3694d2b7ea717",
              "IPY_MODEL_6fc07a90368244a8b52a3b407186dd51"
            ],
            "layout": "IPY_MODEL_2fdeb38877734423af948336ff04a526"
          }
        },
        "9461e4ce46554e5189383f465ffa35e1": {
          "model_module": "@jupyter-widgets/controls",
          "model_name": "HTMLModel",
          "model_module_version": "1.5.0",
          "state": {
            "_dom_classes": [],
            "_model_module": "@jupyter-widgets/controls",
            "_model_module_version": "1.5.0",
            "_model_name": "HTMLModel",
            "_view_count": null,
            "_view_module": "@jupyter-widgets/controls",
            "_view_module_version": "1.5.0",
            "_view_name": "HTMLView",
            "description": "",
            "description_tooltip": null,
            "layout": "IPY_MODEL_1e9d915be23b4ff7a24d9e6a2cafaf19",
            "placeholder": "​",
            "style": "IPY_MODEL_099936777f7646668c232bfa4fce06e9",
            "value": "tokenizer.json: 100%"
          }
        },
        "95b8ba1b65d24d0fa0c3694d2b7ea717": {
          "model_module": "@jupyter-widgets/controls",
          "model_name": "FloatProgressModel",
          "model_module_version": "1.5.0",
          "state": {
            "_dom_classes": [],
            "_model_module": "@jupyter-widgets/controls",
            "_model_module_version": "1.5.0",
            "_model_name": "FloatProgressModel",
            "_view_count": null,
            "_view_module": "@jupyter-widgets/controls",
            "_view_module_version": "1.5.0",
            "_view_name": "ProgressView",
            "bar_style": "success",
            "description": "",
            "description_tooltip": null,
            "layout": "IPY_MODEL_6b9edb8e1b994ed69498394bd16932bd",
            "max": 1355863,
            "min": 0,
            "orientation": "horizontal",
            "style": "IPY_MODEL_73405533e5d24a93a21972dc7dd4eb9a",
            "value": 1355863
          }
        },
        "6fc07a90368244a8b52a3b407186dd51": {
          "model_module": "@jupyter-widgets/controls",
          "model_name": "HTMLModel",
          "model_module_version": "1.5.0",
          "state": {
            "_dom_classes": [],
            "_model_module": "@jupyter-widgets/controls",
            "_model_module_version": "1.5.0",
            "_model_name": "HTMLModel",
            "_view_count": null,
            "_view_module": "@jupyter-widgets/controls",
            "_view_module_version": "1.5.0",
            "_view_name": "HTMLView",
            "description": "",
            "description_tooltip": null,
            "layout": "IPY_MODEL_afb8b809d77f4cc0964b6b757299761a",
            "placeholder": "​",
            "style": "IPY_MODEL_9f47b073e60249ae8ea44a9c3fff6f84",
            "value": " 1.36M/1.36M [00:00&lt;00:00, 4.12MB/s]"
          }
        },
        "2fdeb38877734423af948336ff04a526": {
          "model_module": "@jupyter-widgets/base",
          "model_name": "LayoutModel",
          "model_module_version": "1.2.0",
          "state": {
            "_model_module": "@jupyter-widgets/base",
            "_model_module_version": "1.2.0",
            "_model_name": "LayoutModel",
            "_view_count": null,
            "_view_module": "@jupyter-widgets/base",
            "_view_module_version": "1.2.0",
            "_view_name": "LayoutView",
            "align_content": null,
            "align_items": null,
            "align_self": null,
            "border": null,
            "bottom": null,
            "display": null,
            "flex": null,
            "flex_flow": null,
            "grid_area": null,
            "grid_auto_columns": null,
            "grid_auto_flow": null,
            "grid_auto_rows": null,
            "grid_column": null,
            "grid_gap": null,
            "grid_row": null,
            "grid_template_areas": null,
            "grid_template_columns": null,
            "grid_template_rows": null,
            "height": null,
            "justify_content": null,
            "justify_items": null,
            "left": null,
            "margin": null,
            "max_height": null,
            "max_width": null,
            "min_height": null,
            "min_width": null,
            "object_fit": null,
            "object_position": null,
            "order": null,
            "overflow": null,
            "overflow_x": null,
            "overflow_y": null,
            "padding": null,
            "right": null,
            "top": null,
            "visibility": null,
            "width": null
          }
        },
        "1e9d915be23b4ff7a24d9e6a2cafaf19": {
          "model_module": "@jupyter-widgets/base",
          "model_name": "LayoutModel",
          "model_module_version": "1.2.0",
          "state": {
            "_model_module": "@jupyter-widgets/base",
            "_model_module_version": "1.2.0",
            "_model_name": "LayoutModel",
            "_view_count": null,
            "_view_module": "@jupyter-widgets/base",
            "_view_module_version": "1.2.0",
            "_view_name": "LayoutView",
            "align_content": null,
            "align_items": null,
            "align_self": null,
            "border": null,
            "bottom": null,
            "display": null,
            "flex": null,
            "flex_flow": null,
            "grid_area": null,
            "grid_auto_columns": null,
            "grid_auto_flow": null,
            "grid_auto_rows": null,
            "grid_column": null,
            "grid_gap": null,
            "grid_row": null,
            "grid_template_areas": null,
            "grid_template_columns": null,
            "grid_template_rows": null,
            "height": null,
            "justify_content": null,
            "justify_items": null,
            "left": null,
            "margin": null,
            "max_height": null,
            "max_width": null,
            "min_height": null,
            "min_width": null,
            "object_fit": null,
            "object_position": null,
            "order": null,
            "overflow": null,
            "overflow_x": null,
            "overflow_y": null,
            "padding": null,
            "right": null,
            "top": null,
            "visibility": null,
            "width": null
          }
        },
        "099936777f7646668c232bfa4fce06e9": {
          "model_module": "@jupyter-widgets/controls",
          "model_name": "DescriptionStyleModel",
          "model_module_version": "1.5.0",
          "state": {
            "_model_module": "@jupyter-widgets/controls",
            "_model_module_version": "1.5.0",
            "_model_name": "DescriptionStyleModel",
            "_view_count": null,
            "_view_module": "@jupyter-widgets/base",
            "_view_module_version": "1.2.0",
            "_view_name": "StyleView",
            "description_width": ""
          }
        },
        "6b9edb8e1b994ed69498394bd16932bd": {
          "model_module": "@jupyter-widgets/base",
          "model_name": "LayoutModel",
          "model_module_version": "1.2.0",
          "state": {
            "_model_module": "@jupyter-widgets/base",
            "_model_module_version": "1.2.0",
            "_model_name": "LayoutModel",
            "_view_count": null,
            "_view_module": "@jupyter-widgets/base",
            "_view_module_version": "1.2.0",
            "_view_name": "LayoutView",
            "align_content": null,
            "align_items": null,
            "align_self": null,
            "border": null,
            "bottom": null,
            "display": null,
            "flex": null,
            "flex_flow": null,
            "grid_area": null,
            "grid_auto_columns": null,
            "grid_auto_flow": null,
            "grid_auto_rows": null,
            "grid_column": null,
            "grid_gap": null,
            "grid_row": null,
            "grid_template_areas": null,
            "grid_template_columns": null,
            "grid_template_rows": null,
            "height": null,
            "justify_content": null,
            "justify_items": null,
            "left": null,
            "margin": null,
            "max_height": null,
            "max_width": null,
            "min_height": null,
            "min_width": null,
            "object_fit": null,
            "object_position": null,
            "order": null,
            "overflow": null,
            "overflow_x": null,
            "overflow_y": null,
            "padding": null,
            "right": null,
            "top": null,
            "visibility": null,
            "width": null
          }
        },
        "73405533e5d24a93a21972dc7dd4eb9a": {
          "model_module": "@jupyter-widgets/controls",
          "model_name": "ProgressStyleModel",
          "model_module_version": "1.5.0",
          "state": {
            "_model_module": "@jupyter-widgets/controls",
            "_model_module_version": "1.5.0",
            "_model_name": "ProgressStyleModel",
            "_view_count": null,
            "_view_module": "@jupyter-widgets/base",
            "_view_module_version": "1.2.0",
            "_view_name": "StyleView",
            "bar_color": null,
            "description_width": ""
          }
        },
        "afb8b809d77f4cc0964b6b757299761a": {
          "model_module": "@jupyter-widgets/base",
          "model_name": "LayoutModel",
          "model_module_version": "1.2.0",
          "state": {
            "_model_module": "@jupyter-widgets/base",
            "_model_module_version": "1.2.0",
            "_model_name": "LayoutModel",
            "_view_count": null,
            "_view_module": "@jupyter-widgets/base",
            "_view_module_version": "1.2.0",
            "_view_name": "LayoutView",
            "align_content": null,
            "align_items": null,
            "align_self": null,
            "border": null,
            "bottom": null,
            "display": null,
            "flex": null,
            "flex_flow": null,
            "grid_area": null,
            "grid_auto_columns": null,
            "grid_auto_flow": null,
            "grid_auto_rows": null,
            "grid_column": null,
            "grid_gap": null,
            "grid_row": null,
            "grid_template_areas": null,
            "grid_template_columns": null,
            "grid_template_rows": null,
            "height": null,
            "justify_content": null,
            "justify_items": null,
            "left": null,
            "margin": null,
            "max_height": null,
            "max_width": null,
            "min_height": null,
            "min_width": null,
            "object_fit": null,
            "object_position": null,
            "order": null,
            "overflow": null,
            "overflow_x": null,
            "overflow_y": null,
            "padding": null,
            "right": null,
            "top": null,
            "visibility": null,
            "width": null
          }
        },
        "9f47b073e60249ae8ea44a9c3fff6f84": {
          "model_module": "@jupyter-widgets/controls",
          "model_name": "DescriptionStyleModel",
          "model_module_version": "1.5.0",
          "state": {
            "_model_module": "@jupyter-widgets/controls",
            "_model_module_version": "1.5.0",
            "_model_name": "DescriptionStyleModel",
            "_view_count": null,
            "_view_module": "@jupyter-widgets/base",
            "_view_module_version": "1.2.0",
            "_view_name": "StyleView",
            "description_width": ""
          }
        },
        "9b4350ab0a1c44ebb8b6d45eacc6a786": {
          "model_module": "@jupyter-widgets/controls",
          "model_name": "HBoxModel",
          "model_module_version": "1.5.0",
          "state": {
            "_dom_classes": [],
            "_model_module": "@jupyter-widgets/controls",
            "_model_module_version": "1.5.0",
            "_model_name": "HBoxModel",
            "_view_count": null,
            "_view_module": "@jupyter-widgets/controls",
            "_view_module_version": "1.5.0",
            "_view_name": "HBoxView",
            "box_style": "",
            "children": [
              "IPY_MODEL_800cd6bd19c4433fb56b1b5083f57fd7",
              "IPY_MODEL_7b094142cf1e45de8993301c93e8cd45",
              "IPY_MODEL_f0b721e2b6974052a07fc12da04d3d5c"
            ],
            "layout": "IPY_MODEL_37e4e6730cfb403d9074eb046eb2b9f4"
          }
        },
        "800cd6bd19c4433fb56b1b5083f57fd7": {
          "model_module": "@jupyter-widgets/controls",
          "model_name": "HTMLModel",
          "model_module_version": "1.5.0",
          "state": {
            "_dom_classes": [],
            "_model_module": "@jupyter-widgets/controls",
            "_model_module_version": "1.5.0",
            "_model_name": "HTMLModel",
            "_view_count": null,
            "_view_module": "@jupyter-widgets/controls",
            "_view_module_version": "1.5.0",
            "_view_name": "HTMLView",
            "description": "",
            "description_tooltip": null,
            "layout": "IPY_MODEL_538554bb4454435ba1efcf6b58618e14",
            "placeholder": "​",
            "style": "IPY_MODEL_1134ae21659d42248b0ae5e3401c4bf0",
            "value": "config.json: 100%"
          }
        },
        "7b094142cf1e45de8993301c93e8cd45": {
          "model_module": "@jupyter-widgets/controls",
          "model_name": "FloatProgressModel",
          "model_module_version": "1.5.0",
          "state": {
            "_dom_classes": [],
            "_model_module": "@jupyter-widgets/controls",
            "_model_module_version": "1.5.0",
            "_model_name": "FloatProgressModel",
            "_view_count": null,
            "_view_module": "@jupyter-widgets/controls",
            "_view_module_version": "1.5.0",
            "_view_name": "ProgressView",
            "bar_style": "success",
            "description": "",
            "description_tooltip": null,
            "layout": "IPY_MODEL_8d450a225e2d4aff84c4fbaac96dbe09",
            "max": 481,
            "min": 0,
            "orientation": "horizontal",
            "style": "IPY_MODEL_0f4d3cba0397401197bf0c0f327a3188",
            "value": 481
          }
        },
        "f0b721e2b6974052a07fc12da04d3d5c": {
          "model_module": "@jupyter-widgets/controls",
          "model_name": "HTMLModel",
          "model_module_version": "1.5.0",
          "state": {
            "_dom_classes": [],
            "_model_module": "@jupyter-widgets/controls",
            "_model_module_version": "1.5.0",
            "_model_name": "HTMLModel",
            "_view_count": null,
            "_view_module": "@jupyter-widgets/controls",
            "_view_module_version": "1.5.0",
            "_view_name": "HTMLView",
            "description": "",
            "description_tooltip": null,
            "layout": "IPY_MODEL_6fa288c0924840b783b454bc05875a29",
            "placeholder": "​",
            "style": "IPY_MODEL_90ed9fdbd77841c29e6c25963b837d9b",
            "value": " 481/481 [00:00&lt;00:00, 36.7kB/s]"
          }
        },
        "37e4e6730cfb403d9074eb046eb2b9f4": {
          "model_module": "@jupyter-widgets/base",
          "model_name": "LayoutModel",
          "model_module_version": "1.2.0",
          "state": {
            "_model_module": "@jupyter-widgets/base",
            "_model_module_version": "1.2.0",
            "_model_name": "LayoutModel",
            "_view_count": null,
            "_view_module": "@jupyter-widgets/base",
            "_view_module_version": "1.2.0",
            "_view_name": "LayoutView",
            "align_content": null,
            "align_items": null,
            "align_self": null,
            "border": null,
            "bottom": null,
            "display": null,
            "flex": null,
            "flex_flow": null,
            "grid_area": null,
            "grid_auto_columns": null,
            "grid_auto_flow": null,
            "grid_auto_rows": null,
            "grid_column": null,
            "grid_gap": null,
            "grid_row": null,
            "grid_template_areas": null,
            "grid_template_columns": null,
            "grid_template_rows": null,
            "height": null,
            "justify_content": null,
            "justify_items": null,
            "left": null,
            "margin": null,
            "max_height": null,
            "max_width": null,
            "min_height": null,
            "min_width": null,
            "object_fit": null,
            "object_position": null,
            "order": null,
            "overflow": null,
            "overflow_x": null,
            "overflow_y": null,
            "padding": null,
            "right": null,
            "top": null,
            "visibility": null,
            "width": null
          }
        },
        "538554bb4454435ba1efcf6b58618e14": {
          "model_module": "@jupyter-widgets/base",
          "model_name": "LayoutModel",
          "model_module_version": "1.2.0",
          "state": {
            "_model_module": "@jupyter-widgets/base",
            "_model_module_version": "1.2.0",
            "_model_name": "LayoutModel",
            "_view_count": null,
            "_view_module": "@jupyter-widgets/base",
            "_view_module_version": "1.2.0",
            "_view_name": "LayoutView",
            "align_content": null,
            "align_items": null,
            "align_self": null,
            "border": null,
            "bottom": null,
            "display": null,
            "flex": null,
            "flex_flow": null,
            "grid_area": null,
            "grid_auto_columns": null,
            "grid_auto_flow": null,
            "grid_auto_rows": null,
            "grid_column": null,
            "grid_gap": null,
            "grid_row": null,
            "grid_template_areas": null,
            "grid_template_columns": null,
            "grid_template_rows": null,
            "height": null,
            "justify_content": null,
            "justify_items": null,
            "left": null,
            "margin": null,
            "max_height": null,
            "max_width": null,
            "min_height": null,
            "min_width": null,
            "object_fit": null,
            "object_position": null,
            "order": null,
            "overflow": null,
            "overflow_x": null,
            "overflow_y": null,
            "padding": null,
            "right": null,
            "top": null,
            "visibility": null,
            "width": null
          }
        },
        "1134ae21659d42248b0ae5e3401c4bf0": {
          "model_module": "@jupyter-widgets/controls",
          "model_name": "DescriptionStyleModel",
          "model_module_version": "1.5.0",
          "state": {
            "_model_module": "@jupyter-widgets/controls",
            "_model_module_version": "1.5.0",
            "_model_name": "DescriptionStyleModel",
            "_view_count": null,
            "_view_module": "@jupyter-widgets/base",
            "_view_module_version": "1.2.0",
            "_view_name": "StyleView",
            "description_width": ""
          }
        },
        "8d450a225e2d4aff84c4fbaac96dbe09": {
          "model_module": "@jupyter-widgets/base",
          "model_name": "LayoutModel",
          "model_module_version": "1.2.0",
          "state": {
            "_model_module": "@jupyter-widgets/base",
            "_model_module_version": "1.2.0",
            "_model_name": "LayoutModel",
            "_view_count": null,
            "_view_module": "@jupyter-widgets/base",
            "_view_module_version": "1.2.0",
            "_view_name": "LayoutView",
            "align_content": null,
            "align_items": null,
            "align_self": null,
            "border": null,
            "bottom": null,
            "display": null,
            "flex": null,
            "flex_flow": null,
            "grid_area": null,
            "grid_auto_columns": null,
            "grid_auto_flow": null,
            "grid_auto_rows": null,
            "grid_column": null,
            "grid_gap": null,
            "grid_row": null,
            "grid_template_areas": null,
            "grid_template_columns": null,
            "grid_template_rows": null,
            "height": null,
            "justify_content": null,
            "justify_items": null,
            "left": null,
            "margin": null,
            "max_height": null,
            "max_width": null,
            "min_height": null,
            "min_width": null,
            "object_fit": null,
            "object_position": null,
            "order": null,
            "overflow": null,
            "overflow_x": null,
            "overflow_y": null,
            "padding": null,
            "right": null,
            "top": null,
            "visibility": null,
            "width": null
          }
        },
        "0f4d3cba0397401197bf0c0f327a3188": {
          "model_module": "@jupyter-widgets/controls",
          "model_name": "ProgressStyleModel",
          "model_module_version": "1.5.0",
          "state": {
            "_model_module": "@jupyter-widgets/controls",
            "_model_module_version": "1.5.0",
            "_model_name": "ProgressStyleModel",
            "_view_count": null,
            "_view_module": "@jupyter-widgets/base",
            "_view_module_version": "1.2.0",
            "_view_name": "StyleView",
            "bar_color": null,
            "description_width": ""
          }
        },
        "6fa288c0924840b783b454bc05875a29": {
          "model_module": "@jupyter-widgets/base",
          "model_name": "LayoutModel",
          "model_module_version": "1.2.0",
          "state": {
            "_model_module": "@jupyter-widgets/base",
            "_model_module_version": "1.2.0",
            "_model_name": "LayoutModel",
            "_view_count": null,
            "_view_module": "@jupyter-widgets/base",
            "_view_module_version": "1.2.0",
            "_view_name": "LayoutView",
            "align_content": null,
            "align_items": null,
            "align_self": null,
            "border": null,
            "bottom": null,
            "display": null,
            "flex": null,
            "flex_flow": null,
            "grid_area": null,
            "grid_auto_columns": null,
            "grid_auto_flow": null,
            "grid_auto_rows": null,
            "grid_column": null,
            "grid_gap": null,
            "grid_row": null,
            "grid_template_areas": null,
            "grid_template_columns": null,
            "grid_template_rows": null,
            "height": null,
            "justify_content": null,
            "justify_items": null,
            "left": null,
            "margin": null,
            "max_height": null,
            "max_width": null,
            "min_height": null,
            "min_width": null,
            "object_fit": null,
            "object_position": null,
            "order": null,
            "overflow": null,
            "overflow_x": null,
            "overflow_y": null,
            "padding": null,
            "right": null,
            "top": null,
            "visibility": null,
            "width": null
          }
        },
        "90ed9fdbd77841c29e6c25963b837d9b": {
          "model_module": "@jupyter-widgets/controls",
          "model_name": "DescriptionStyleModel",
          "model_module_version": "1.5.0",
          "state": {
            "_model_module": "@jupyter-widgets/controls",
            "_model_module_version": "1.5.0",
            "_model_name": "DescriptionStyleModel",
            "_view_count": null,
            "_view_module": "@jupyter-widgets/base",
            "_view_module_version": "1.2.0",
            "_view_name": "StyleView",
            "description_width": ""
          }
        },
        "b53c328bb2a646b1ac4d839c40e8daa1": {
          "model_module": "@jupyter-widgets/controls",
          "model_name": "HBoxModel",
          "model_module_version": "1.5.0",
          "state": {
            "_dom_classes": [],
            "_model_module": "@jupyter-widgets/controls",
            "_model_module_version": "1.5.0",
            "_model_name": "HBoxModel",
            "_view_count": null,
            "_view_module": "@jupyter-widgets/controls",
            "_view_module_version": "1.5.0",
            "_view_name": "HBoxView",
            "box_style": "",
            "children": [
              "IPY_MODEL_2c65429c78694777b2b569f0d237f408",
              "IPY_MODEL_9e96cce8248b4b98b27bede92c0d143a",
              "IPY_MODEL_0e7f3e76d17e45dcbb2f6e37c090ab5b"
            ],
            "layout": "IPY_MODEL_695c4e554aea4eedbac6537761f8f923"
          }
        },
        "2c65429c78694777b2b569f0d237f408": {
          "model_module": "@jupyter-widgets/controls",
          "model_name": "HTMLModel",
          "model_module_version": "1.5.0",
          "state": {
            "_dom_classes": [],
            "_model_module": "@jupyter-widgets/controls",
            "_model_module_version": "1.5.0",
            "_model_name": "HTMLModel",
            "_view_count": null,
            "_view_module": "@jupyter-widgets/controls",
            "_view_module_version": "1.5.0",
            "_view_name": "HTMLView",
            "description": "",
            "description_tooltip": null,
            "layout": "IPY_MODEL_a8cf95358a694b149eea4010be203959",
            "placeholder": "​",
            "style": "IPY_MODEL_9beeab9c42c849fea29aa1a0c899f256",
            "value": "model.safetensors: 100%"
          }
        },
        "9e96cce8248b4b98b27bede92c0d143a": {
          "model_module": "@jupyter-widgets/controls",
          "model_name": "FloatProgressModel",
          "model_module_version": "1.5.0",
          "state": {
            "_dom_classes": [],
            "_model_module": "@jupyter-widgets/controls",
            "_model_module_version": "1.5.0",
            "_model_name": "FloatProgressModel",
            "_view_count": null,
            "_view_module": "@jupyter-widgets/controls",
            "_view_module_version": "1.5.0",
            "_view_name": "ProgressView",
            "bar_style": "success",
            "description": "",
            "description_tooltip": null,
            "layout": "IPY_MODEL_5a908b59068c4714ad387cdf15f94d25",
            "max": 498818054,
            "min": 0,
            "orientation": "horizontal",
            "style": "IPY_MODEL_361face4d1db4801bf4f56843c68a8b3",
            "value": 498818054
          }
        },
        "0e7f3e76d17e45dcbb2f6e37c090ab5b": {
          "model_module": "@jupyter-widgets/controls",
          "model_name": "HTMLModel",
          "model_module_version": "1.5.0",
          "state": {
            "_dom_classes": [],
            "_model_module": "@jupyter-widgets/controls",
            "_model_module_version": "1.5.0",
            "_model_name": "HTMLModel",
            "_view_count": null,
            "_view_module": "@jupyter-widgets/controls",
            "_view_module_version": "1.5.0",
            "_view_name": "HTMLView",
            "description": "",
            "description_tooltip": null,
            "layout": "IPY_MODEL_767223c06b2c4cec9599fc6f6e658a9c",
            "placeholder": "​",
            "style": "IPY_MODEL_9b8b3c09010340b2ab04e0d6c2fe8050",
            "value": " 499M/499M [00:01&lt;00:00, 361MB/s]"
          }
        },
        "695c4e554aea4eedbac6537761f8f923": {
          "model_module": "@jupyter-widgets/base",
          "model_name": "LayoutModel",
          "model_module_version": "1.2.0",
          "state": {
            "_model_module": "@jupyter-widgets/base",
            "_model_module_version": "1.2.0",
            "_model_name": "LayoutModel",
            "_view_count": null,
            "_view_module": "@jupyter-widgets/base",
            "_view_module_version": "1.2.0",
            "_view_name": "LayoutView",
            "align_content": null,
            "align_items": null,
            "align_self": null,
            "border": null,
            "bottom": null,
            "display": null,
            "flex": null,
            "flex_flow": null,
            "grid_area": null,
            "grid_auto_columns": null,
            "grid_auto_flow": null,
            "grid_auto_rows": null,
            "grid_column": null,
            "grid_gap": null,
            "grid_row": null,
            "grid_template_areas": null,
            "grid_template_columns": null,
            "grid_template_rows": null,
            "height": null,
            "justify_content": null,
            "justify_items": null,
            "left": null,
            "margin": null,
            "max_height": null,
            "max_width": null,
            "min_height": null,
            "min_width": null,
            "object_fit": null,
            "object_position": null,
            "order": null,
            "overflow": null,
            "overflow_x": null,
            "overflow_y": null,
            "padding": null,
            "right": null,
            "top": null,
            "visibility": null,
            "width": null
          }
        },
        "a8cf95358a694b149eea4010be203959": {
          "model_module": "@jupyter-widgets/base",
          "model_name": "LayoutModel",
          "model_module_version": "1.2.0",
          "state": {
            "_model_module": "@jupyter-widgets/base",
            "_model_module_version": "1.2.0",
            "_model_name": "LayoutModel",
            "_view_count": null,
            "_view_module": "@jupyter-widgets/base",
            "_view_module_version": "1.2.0",
            "_view_name": "LayoutView",
            "align_content": null,
            "align_items": null,
            "align_self": null,
            "border": null,
            "bottom": null,
            "display": null,
            "flex": null,
            "flex_flow": null,
            "grid_area": null,
            "grid_auto_columns": null,
            "grid_auto_flow": null,
            "grid_auto_rows": null,
            "grid_column": null,
            "grid_gap": null,
            "grid_row": null,
            "grid_template_areas": null,
            "grid_template_columns": null,
            "grid_template_rows": null,
            "height": null,
            "justify_content": null,
            "justify_items": null,
            "left": null,
            "margin": null,
            "max_height": null,
            "max_width": null,
            "min_height": null,
            "min_width": null,
            "object_fit": null,
            "object_position": null,
            "order": null,
            "overflow": null,
            "overflow_x": null,
            "overflow_y": null,
            "padding": null,
            "right": null,
            "top": null,
            "visibility": null,
            "width": null
          }
        },
        "9beeab9c42c849fea29aa1a0c899f256": {
          "model_module": "@jupyter-widgets/controls",
          "model_name": "DescriptionStyleModel",
          "model_module_version": "1.5.0",
          "state": {
            "_model_module": "@jupyter-widgets/controls",
            "_model_module_version": "1.5.0",
            "_model_name": "DescriptionStyleModel",
            "_view_count": null,
            "_view_module": "@jupyter-widgets/base",
            "_view_module_version": "1.2.0",
            "_view_name": "StyleView",
            "description_width": ""
          }
        },
        "5a908b59068c4714ad387cdf15f94d25": {
          "model_module": "@jupyter-widgets/base",
          "model_name": "LayoutModel",
          "model_module_version": "1.2.0",
          "state": {
            "_model_module": "@jupyter-widgets/base",
            "_model_module_version": "1.2.0",
            "_model_name": "LayoutModel",
            "_view_count": null,
            "_view_module": "@jupyter-widgets/base",
            "_view_module_version": "1.2.0",
            "_view_name": "LayoutView",
            "align_content": null,
            "align_items": null,
            "align_self": null,
            "border": null,
            "bottom": null,
            "display": null,
            "flex": null,
            "flex_flow": null,
            "grid_area": null,
            "grid_auto_columns": null,
            "grid_auto_flow": null,
            "grid_auto_rows": null,
            "grid_column": null,
            "grid_gap": null,
            "grid_row": null,
            "grid_template_areas": null,
            "grid_template_columns": null,
            "grid_template_rows": null,
            "height": null,
            "justify_content": null,
            "justify_items": null,
            "left": null,
            "margin": null,
            "max_height": null,
            "max_width": null,
            "min_height": null,
            "min_width": null,
            "object_fit": null,
            "object_position": null,
            "order": null,
            "overflow": null,
            "overflow_x": null,
            "overflow_y": null,
            "padding": null,
            "right": null,
            "top": null,
            "visibility": null,
            "width": null
          }
        },
        "361face4d1db4801bf4f56843c68a8b3": {
          "model_module": "@jupyter-widgets/controls",
          "model_name": "ProgressStyleModel",
          "model_module_version": "1.5.0",
          "state": {
            "_model_module": "@jupyter-widgets/controls",
            "_model_module_version": "1.5.0",
            "_model_name": "ProgressStyleModel",
            "_view_count": null,
            "_view_module": "@jupyter-widgets/base",
            "_view_module_version": "1.2.0",
            "_view_name": "StyleView",
            "bar_color": null,
            "description_width": ""
          }
        },
        "767223c06b2c4cec9599fc6f6e658a9c": {
          "model_module": "@jupyter-widgets/base",
          "model_name": "LayoutModel",
          "model_module_version": "1.2.0",
          "state": {
            "_model_module": "@jupyter-widgets/base",
            "_model_module_version": "1.2.0",
            "_model_name": "LayoutModel",
            "_view_count": null,
            "_view_module": "@jupyter-widgets/base",
            "_view_module_version": "1.2.0",
            "_view_name": "LayoutView",
            "align_content": null,
            "align_items": null,
            "align_self": null,
            "border": null,
            "bottom": null,
            "display": null,
            "flex": null,
            "flex_flow": null,
            "grid_area": null,
            "grid_auto_columns": null,
            "grid_auto_flow": null,
            "grid_auto_rows": null,
            "grid_column": null,
            "grid_gap": null,
            "grid_row": null,
            "grid_template_areas": null,
            "grid_template_columns": null,
            "grid_template_rows": null,
            "height": null,
            "justify_content": null,
            "justify_items": null,
            "left": null,
            "margin": null,
            "max_height": null,
            "max_width": null,
            "min_height": null,
            "min_width": null,
            "object_fit": null,
            "object_position": null,
            "order": null,
            "overflow": null,
            "overflow_x": null,
            "overflow_y": null,
            "padding": null,
            "right": null,
            "top": null,
            "visibility": null,
            "width": null
          }
        },
        "9b8b3c09010340b2ab04e0d6c2fe8050": {
          "model_module": "@jupyter-widgets/controls",
          "model_name": "DescriptionStyleModel",
          "model_module_version": "1.5.0",
          "state": {
            "_model_module": "@jupyter-widgets/controls",
            "_model_module_version": "1.5.0",
            "_model_name": "DescriptionStyleModel",
            "_view_count": null,
            "_view_module": "@jupyter-widgets/base",
            "_view_module_version": "1.2.0",
            "_view_name": "StyleView",
            "description_width": ""
          }
        }
      }
    }
  },
  "nbformat": 4,
  "nbformat_minor": 0
}