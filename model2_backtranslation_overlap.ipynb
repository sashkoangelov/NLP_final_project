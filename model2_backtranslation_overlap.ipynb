{
  "cells": [
    {
      "cell_type": "markdown",
      "metadata": {
        "id": "view-in-github",
        "colab_type": "text"
      },
      "source": [
        "<a href=\"https://colab.research.google.com/github/sashkoangelov/NLP_final_project/blob/main/model2_backtranslation_overlap.ipynb\" target=\"_parent\"><img src=\"https://colab.research.google.com/assets/colab-badge.svg\" alt=\"Open In Colab\"/></a>"
      ]
    },
    {
      "cell_type": "markdown",
      "metadata": {
        "id": "QBnmgddbwu7w"
      },
      "source": [
        "# Installs and imports"
      ]
    },
    {
      "cell_type": "code",
      "execution_count": 1,
      "metadata": {
        "id": "L3_nLOdG07EN"
      },
      "outputs": [],
      "source": [
        "import torch\n",
        "import random\n",
        "import transformers\n",
        "import copy\n",
        "from transformers import RobertaTokenizerFast, RobertaForQuestionAnswering, TrainingArguments, Trainer, AdamW\n",
        "from torch.utils.data import Dataset, DataLoader\n",
        "import os\n",
        "import json\n",
        "from pathlib import Path\n",
        "from tqdm import tqdm"
      ]
    },
    {
      "cell_type": "code",
      "execution_count": 2,
      "metadata": {
        "colab": {
          "base_uri": "https://localhost:8080/"
        },
        "id": "Yng5QRIEpdmu",
        "outputId": "bee1655f-c06c-4712-e41a-b3776d805a2b"
      },
      "outputs": [
        {
          "output_type": "stream",
          "name": "stdout",
          "text": [
            "4.38.2\n"
          ]
        }
      ],
      "source": [
        "print(transformers.__version__)"
      ]
    },
    {
      "cell_type": "markdown",
      "metadata": {
        "id": "J3WQHULuw2W-"
      },
      "source": [
        "#Data loading"
      ]
    },
    {
      "cell_type": "code",
      "execution_count": 3,
      "metadata": {
        "id": "VO4nZRVP2Z2O"
      },
      "outputs": [],
      "source": [
        "def read_data(path):\n",
        "    with open(path, 'r', encoding='utf-8') as f:  # Use 'r' for reading text files, and specify encoding\n",
        "        squad_dict = json.load(f)\n",
        "\n",
        "    contexts = []\n",
        "    questions = []\n",
        "    answers = []\n",
        "\n",
        "    for group in squad_dict['data']:\n",
        "        for passage in group['paragraphs']:\n",
        "            context = passage['context']\n",
        "            for qa in passage['qas']:\n",
        "                question = qa['question']\n",
        "\n",
        "                # Check if 'answers' is present and has entries\n",
        "                if 'answers' in qa and qa['answers']:\n",
        "                    for answer in qa['answers']:\n",
        "                        contexts.append(context)\n",
        "                        questions.append(question)\n",
        "                        answers.append(answer)\n",
        "                else:\n",
        "                    # Handle unanswerable questions\n",
        "                    contexts.append(context)\n",
        "                    questions.append(question)\n",
        "                    answers.append({\"text\": \"\", \"answer_start\": -1})\n",
        "\n",
        "    return contexts, questions, answers"
      ]
    },
    {
      "cell_type": "code",
      "execution_count": 4,
      "metadata": {
        "id": "dQJlsw_E9fon"
      },
      "outputs": [],
      "source": [
        "train_contexts, train_questions, train_answers = read_data('/content/drive/MyDrive/NLP/train-v2.0.json')\n",
        "bt_contexts, bt_questions, bt_answers = read_data('/content/drive/MyDrive/NLP/train-v2.0-with-back-translation-fr.json')\n",
        "val_contexts, val_questions, val_answers = read_data('/content/drive/MyDrive/NLP/dev-v2.0.json')"
      ]
    },
    {
      "cell_type": "markdown",
      "source": [
        "# Data visualization"
      ],
      "metadata": {
        "id": "Kk7TG0lypoll"
      }
    },
    {
      "cell_type": "markdown",
      "metadata": {
        "id": "i_rXN7Cd3fn8"
      },
      "source": [
        "## Displaying random examples"
      ]
    },
    {
      "cell_type": "code",
      "execution_count": 5,
      "metadata": {
        "id": "JEte4FiDx-ZG"
      },
      "outputs": [],
      "source": [
        "def display_random_examples(contexts, questions, answers, num_examples=3):\n",
        "\n",
        "    for _ in range(num_examples):\n",
        "        rand = random.randint(0, len(contexts) - 1)\n",
        "        context = contexts[rand]\n",
        "        question = questions[rand]\n",
        "\n",
        "        answer_text = answers[rand]['text'] if answers[rand]['text'] != '' else 'No answer'\n",
        "        answer_start = answers[rand]['answer_start'] if answers[rand]['answer_start'] != '' else -1\n",
        "\n",
        "        print(f\"Question: {question}\\n\")\n",
        "        print(f\"Answer: {answer_text}\")\n",
        "        print(f\"Answer Starts at: {answer_start}\\n\")\n",
        "\n",
        "        # Highlighting answer in context\n",
        "        if answer_start != -1:\n",
        "            highlighted_context = context[:answer_start] + \"\\033[1;31m\" + context[answer_start:answer_start+len(answer_text)] + \"\\033[0m\" + context[answer_start+len(answer_text):]\n",
        "        else:\n",
        "            highlighted_context = context\n",
        "\n",
        "        # Wrapping context for readability\n",
        "        wrapped_context = \"\\n\".join([highlighted_context[i:i+80] for i in range(0, len(highlighted_context), 80)])\n",
        "        print(f\"Context:\\n{wrapped_context}\\n\")\n",
        "        print(\"-\"*80)\n"
      ]
    },
    {
      "cell_type": "code",
      "execution_count": 6,
      "metadata": {
        "colab": {
          "base_uri": "https://localhost:8080/"
        },
        "id": "tmKVa-N4yB8v",
        "outputId": "80df1a33-8669-4001-ade1-aec9382e2696"
      },
      "outputs": [
        {
          "output_type": "stream",
          "name": "stdout",
          "text": [
            "Question: What did the Easter and Western Catholic church have in common?\n",
            "\n",
            "Answer: No answer\n",
            "Answer Starts at: -1\n",
            "\n",
            "Context:\n",
            "The canon law of the Eastern Catholic Churches, which had developed some differe\n",
            "nt disciplines and practices, underwent its own process of codification, resulti\n",
            "ng in the Code of Canons of the Eastern Churches promulgated in 1990 by Pope Joh\n",
            "n Paul II.\n",
            "\n",
            "--------------------------------------------------------------------------------\n",
            "Question: How do Palermo's temperatures compare to the rest of Europe?\n",
            "\n",
            "Answer: one of the warmest cities in Europe\n",
            "Answer Starts at: 213\n",
            "\n",
            "Context:\n",
            "Palermo experiences a hot-summer Mediterranean climate (Köppen climate classific\n",
            "ation: Csa). Winters are cool and wet, while summers are hot and dry. Temperatur\n",
            "es in autumn and spring are usually mild. Palermo is \u001b[1;31mone of the warmest c\n",
            "ities in Europe\u001b[0m (mainly due to its warm nights), with an average annual air \n",
            "temperature of 18.5 °C (65.3 °F). It receives approximately 2,530 hours of sunsh\n",
            "ine per year. Snow is usually a rare occurrence, but it does occur occasionally \n",
            "if there is a cold front, as the Apennines are too distant to protect the island\n",
            " from cold winds blowing from the Balkans, and the mountains surrounding the cit\n",
            "y facilite the formation of snow accumulation in Palermo, especially at night. B\n",
            "etween the 1940s and the 2000s there have been eleven times when considerable sn\n",
            "owfall has occurred: In 1949, in 1956, when the minimum temperature went down to\n",
            " 0 °C (32 °F) and the city was blanketed by several centimeters of snow. Snow al\n",
            "so occurred in 1999, 2009 and 2015. The average annual temperature of the sea is\n",
            " above 19 °C (66 °F); from 14 °C (57 °F) in February to 26 °C (79 °F) in August.\n",
            " In the period from May to November, the average sea temperature exceeds 18 °C (\n",
            "64 °F) and in the period from June to October, the average sea temperature excee\n",
            "ds 21 °C (70 °F).\n",
            "\n",
            "--------------------------------------------------------------------------------\n",
            "Question: Who was Elizabeth's paternal grandfather?\n",
            "\n",
            "Answer: No answer\n",
            "Answer Starts at: -1\n",
            "\n",
            "Context:\n",
            "Elizabeth was born at 02:40 (GMT) on 21 April 1926, during the reign of her pate\n",
            "rnal grandfather, King George V. Her father, Prince Albert, Duke of York (later \n",
            "King George VI), was the second son of the King. Her mother, Elizabeth, Duchess \n",
            "of York (later Queen Elizabeth), was the youngest daughter of Scottish aristocra\n",
            "t Claude Bowes-Lyon, 14th Earl of Strathmore and Kinghorne. She was delivered by\n",
            " Caesarean section at her maternal grandfather's London house: 17 Bruton Street,\n",
            " Mayfair. She was baptised by the Anglican Archbishop of York, Cosmo Gordon Lang\n",
            ", in the private chapel of Buckingham Palace on 29 May,[c] and named Elizabeth a\n",
            "fter her mother, Alexandra after George V's mother, who had died six months earl\n",
            "ier, and Mary after her paternal grandmother. Called \"Lilibet\" by her close fami\n",
            "ly, based on what she called herself at first, she was cherished by her grandfat\n",
            "her George V, and during his serious illness in 1929 her regular visits were cre\n",
            "dited in the popular press and by later biographers with raising his spirits and\n",
            " aiding his recovery.\n",
            "\n",
            "--------------------------------------------------------------------------------\n"
          ]
        }
      ],
      "source": [
        "display_random_examples(train_contexts, train_questions, train_answers, 3)"
      ]
    },
    {
      "cell_type": "markdown",
      "source": [
        "## Display a single example"
      ],
      "metadata": {
        "id": "s3VJcydWXsca"
      }
    },
    {
      "cell_type": "code",
      "source": [
        "def display_example(contexts, questions, answers, example):\n",
        "\n",
        "    rand = example\n",
        "    context = contexts[rand]\n",
        "    question = questions[rand]\n",
        "\n",
        "    answer_text = answers[rand]['text'] if answers[rand]['text'] != '' else 'No answer'\n",
        "    answer_start = answers[rand]['answer_start'] if answers[rand]['answer_start'] != '' else -1\n",
        "\n",
        "    print(f\"Question: {question}\\n\")\n",
        "    print(f\"Answer: {answer_text}\")\n",
        "    print(f\"Answer Starts at: {answer_start}\\n\")\n",
        "\n",
        "    # Highlighting answer in context\n",
        "    if answer_start != -1:\n",
        "        highlighted_context = context[:answer_start] + \"\\033[1;31m\" + context[answer_start:answer_start+len(answer_text)] + \"\\033[0m\" + context[answer_start+len(answer_text):]\n",
        "    else:\n",
        "        highlighted_context = context\n",
        "\n",
        "    # Wrapping context for readability\n",
        "    wrapped_context = \"\\n\".join([highlighted_context[i:i+80] for i in range(0, len(highlighted_context), 80)])\n",
        "    print(f\"Context:\\n{wrapped_context}\\n\")\n",
        "    print(\"-\"*80)"
      ],
      "metadata": {
        "id": "4o8kwL6PTkgw"
      },
      "execution_count": 7,
      "outputs": []
    },
    {
      "cell_type": "code",
      "source": [
        "display_example(train_contexts, train_questions, train_answers, 19)"
      ],
      "metadata": {
        "colab": {
          "base_uri": "https://localhost:8080/"
        },
        "id": "Xvu3YSoNUJUw",
        "outputId": "b9f40315-e342-4a84-980d-72158a741ce4"
      },
      "execution_count": 8,
      "outputs": [
        {
          "output_type": "stream",
          "name": "stdout",
          "text": [
            "Question: When did Beyonce take a hiatus in her career and take control of her management?\n",
            "\n",
            "Answer: 2010\n",
            "Answer Starts at: 586\n",
            "\n",
            "Context:\n",
            "Following the disbandment of Destiny's Child in June 2005, she released her seco\n",
            "nd solo album, B'Day (2006), which contained hits \"Déjà Vu\", \"Irreplaceable\", an\n",
            "d \"Beautiful Liar\". Beyoncé also ventured into acting, with a Golden Globe-nomin\n",
            "ated performance in Dreamgirls (2006), and starring roles in The Pink Panther (2\n",
            "006) and Obsessed (2009). Her marriage to rapper Jay Z and portrayal of Etta Jam\n",
            "es in Cadillac Records (2008) influenced her third album, I Am... Sasha Fierce (\n",
            "2008), which saw the birth of her alter-ego Sasha Fierce and earned a record-set\n",
            "ting six Grammy Awards in \u001b[1;31m2010\u001b[0m, including Song of the Year for \"Singl\n",
            "e Ladies (Put a Ring on It)\". Beyoncé took a hiatus from music in 2010 and took \n",
            "over management of her career; her fourth album 4 (2011) was subsequently mellow\n",
            "er in tone, exploring 1970s funk, 1980s pop, and 1990s soul. Her critically accl\n",
            "aimed fifth studio album, Beyoncé (2013), was distinguished from previous releas\n",
            "es by its experimental production and exploration of darker themes.\n",
            "\n",
            "--------------------------------------------------------------------------------\n"
          ]
        }
      ]
    },
    {
      "cell_type": "code",
      "source": [
        "display_example(bt_contexts, bt_questions, bt_answers, 19)"
      ],
      "metadata": {
        "colab": {
          "base_uri": "https://localhost:8080/"
        },
        "id": "GWtaJENNUagX",
        "outputId": "b2221283-b79a-4b58-e140-b4cddd0594a7"
      },
      "execution_count": 9,
      "outputs": [
        {
          "output_type": "stream",
          "name": "stdout",
          "text": [
            "Question: When did Beyonce take a break in her career and take control of her leadership?\n",
            "\n",
            "Answer: 2010\n",
            "Answer Starts at: 586\n",
            "\n",
            "Context:\n",
            "After the dismantling of Destiny's Child in June 2005, she released her second s\n",
            "olo album, B'Day (2006), which contains hits \"Déjà Vu\", \"Irreplaceable\" and \"Bea\n",
            "utiful Liar\". Beyoncé also ventured into the performance, with a nominated Golde\n",
            "n Globe performance in Dreamgirls (2006), and featured roles in The Pink Panther\n",
            " (2006) and Obsessed (2009). Her marriage to rapper Jay Z and the performance of\n",
            " Etta James in Cadillac Records (2008) influenced her third album, I Am... Sasha\n",
            " Fierce (2008), which saw the birth of her alter-ego Sasha Fierce and obtained a\n",
            " record of six Grammy Awar\u001b[1;31mds i\u001b[0mn 2010, including Song of the Year for \n",
            "\"Sing of the Single Ladies (Put a Ring on It)\". Beyoncé took a hiatus of music i\n",
            "n 2010 and took over the direction of her career; her fourth album 4 (2011) was \n",
            "then melliferous in tone, exploring the 1970s pop, and 1990s soul.\n",
            "\n",
            "--------------------------------------------------------------------------------\n"
          ]
        }
      ]
    },
    {
      "cell_type": "code",
      "source": [
        "display_example(updated_contexts, updated_questions, updated_answers, 18)"
      ],
      "metadata": {
        "colab": {
          "base_uri": "https://localhost:8080/"
        },
        "id": "y34fwvfvgr7w",
        "outputId": "97f8242a-d123-4a8d-ef06-59e4661cf2bb"
      },
      "execution_count": 14,
      "outputs": [
        {
          "output_type": "stream",
          "name": "stdout",
          "text": [
            "Question: When did Beyonce take a hiatus in her career and take control of her management?\n",
            "\n",
            "Answer: 2010\n",
            "Answer Starts at: 592\n",
            "\n",
            "Context:\n",
            "After the dismantling of Destiny's Child in June 2005, she released her second s\n",
            "olo album, B'Day (2006), which contains hits \"Déjà Vu\", \"Irreplaceable\" and \"Bea\n",
            "utiful Liar\". Beyoncé also ventured into the performance, with a nominated Golde\n",
            "n Globe performance in Dreamgirls (2006), and featured roles in The Pink Panther\n",
            " (2006) and Obsessed (2009). Her marriage to rapper Jay Z and the performance of\n",
            " Etta James in Cadillac Records (2008) influenced her third album, I Am... Sasha\n",
            " Fierce (2008), which saw the birth of her alter-ego Sasha Fierce and obtained a\n",
            " record of six Grammy Awards in \u001b[1;31m2010\u001b[0m, including Song of the Year for \n",
            "\"Sing of the Single Ladies (Put a Ring on It)\". Beyoncé took a hiatus of music i\n",
            "n 2010 and took over the direction of her career; her fourth album 4 (2011) was \n",
            "then melliferous in tone, exploring the 1970s pop, and 1990s soul.\n",
            "\n",
            "--------------------------------------------------------------------------------\n"
          ]
        }
      ]
    },
    {
      "cell_type": "markdown",
      "source": [
        "# Assign new start positions for the answers in the back translated contexts if it exists"
      ],
      "metadata": {
        "id": "uFA9EWmZpB2g"
      }
    },
    {
      "cell_type": "code",
      "source": [
        "def assign_new_start_pos(bt_contexts, train_questions, train_answers):\n",
        "    updated_contexts = []\n",
        "    updated_questions = []\n",
        "    updated_answers = []\n",
        "\n",
        "    for context, question, answer in zip(bt_contexts, train_questions, train_answers):\n",
        "        try:\n",
        "\n",
        "            # Attempt to find the non-translated answer in the translated context\n",
        "            new_start = context.index(answer['text'])\n",
        "\n",
        "            # If found, update the entry\n",
        "            updated_contexts.append(context)\n",
        "            updated_questions.append(question)\n",
        "            updated_answers.append({'text': answer['text'], 'answer_start': new_start})\n",
        "\n",
        "        except ValueError:\n",
        "            continue\n",
        "\n",
        "    return updated_contexts, updated_questions, updated_answers"
      ],
      "metadata": {
        "id": "aE2xy9rYdzlE"
      },
      "execution_count": 11,
      "outputs": []
    },
    {
      "cell_type": "code",
      "source": [
        "updated_contexts, updated_questions, updated_answers = assign_new_start_pos(bt_contexts, train_questions, train_answers)"
      ],
      "metadata": {
        "id": "vNcnWXnKfwrB"
      },
      "execution_count": 12,
      "outputs": []
    },
    {
      "cell_type": "code",
      "source": [
        "print(\"Preserved samples:\", round((len(updated_contexts) / len(bt_contexts))*100, 2), \"%\")"
      ],
      "metadata": {
        "colab": {
          "base_uri": "https://localhost:8080/"
        },
        "id": "gQR1rwNOgo4b",
        "outputId": "94fca892-de3f-44c5-b0c4-a5d3492c87f4"
      },
      "execution_count": 13,
      "outputs": [
        {
          "output_type": "stream",
          "name": "stdout",
          "text": [
            "Preserved samples: 77.31 %\n"
          ]
        }
      ]
    },
    {
      "cell_type": "markdown",
      "source": [
        "## Discarding identical triplets of contexts, questions and answers"
      ],
      "metadata": {
        "id": "Qzn9NAjSqYg0"
      }
    },
    {
      "cell_type": "code",
      "source": [
        "def discard_duplicate_triplets(train_contexts, train_questions, train_answers, updated_contexts, updated_questions, updated_answers):\n",
        "    seen = set()\n",
        "    unique_triplets = []\n",
        "\n",
        "    # Combine the training and updated datasets into one list of triplets\n",
        "    combined_triplets = list(zip(train_contexts, train_questions, train_answers)) + list(zip(updated_contexts, updated_questions, updated_answers))\n",
        "\n",
        "    for context, question, answer in combined_triplets:\n",
        "        # Assuming 'answer' is a dict with a 'text' key, or adjust according to your structure\n",
        "        triplet_tuple = (context, question, answer['text'])  # Convert to a tuple for hashability\n",
        "\n",
        "        if triplet_tuple not in seen:\n",
        "            seen.add(triplet_tuple)\n",
        "            # Append the original items, not the tuple\n",
        "            unique_triplets.append((context, question, answer))\n",
        "\n",
        "    # Separate the combined list back into individual lists\n",
        "    unique_contexts, unique_questions, unique_answers = zip(*unique_triplets)\n",
        "\n",
        "    # Convert from tuples back to lists (if needed)\n",
        "    return list(unique_contexts), list(unique_questions), list(unique_answers)\n"
      ],
      "metadata": {
        "id": "jiXqfoAJq72K"
      },
      "execution_count": 15,
      "outputs": []
    },
    {
      "cell_type": "code",
      "source": [
        "unique_contexts, unique_questions, unique_answers = discard_duplicate_triplets(train_contexts, train_questions, train_answers, updated_contexts, updated_questions, updated_answers)"
      ],
      "metadata": {
        "id": "QBu7GsESsi_G"
      },
      "execution_count": 16,
      "outputs": []
    },
    {
      "cell_type": "code",
      "source": [
        "print(\"Preserved samples:\", round(((len(unique_contexts) - len(train_contexts)) / len(bt_contexts))*100, 2), \"%\")"
      ],
      "metadata": {
        "colab": {
          "base_uri": "https://localhost:8080/"
        },
        "id": "ekRq-XvDuSfL",
        "outputId": "fc7dcb6a-4572-4057-d56e-ed250347e679"
      },
      "execution_count": 17,
      "outputs": [
        {
          "output_type": "stream",
          "name": "stdout",
          "text": [
            "Preserved samples: 77.21 %\n"
          ]
        }
      ]
    },
    {
      "cell_type": "markdown",
      "source": [
        "# Data pre-processing"
      ],
      "metadata": {
        "id": "Eqz8LShEsUEO"
      }
    },
    {
      "cell_type": "code",
      "execution_count": 18,
      "metadata": {
        "colab": {
          "base_uri": "https://localhost:8080/",
          "height": 304,
          "referenced_widgets": [
            "eab8e8ba31fb4cd6ad6244132e99d612",
            "0a6384936cd5466d88b52fd21cad67be",
            "3755ef163b1d4d758dfc67e5cdb66783",
            "61e7e5ea3183482f81abc58a5a4bd1d1",
            "369f111e37564bd3a8cdd645e667e2da",
            "2d0ecea5d82044dbac6b2e5d53aa8253",
            "511f4434d10d4d46800f33453d612d46",
            "cbf67198f8254dc8ac3404644b7eca0a",
            "aa520f5a602f47ecb5c8b0c8df601b36",
            "bf9cfeb332cc4d2aad4123edc8ed5b38",
            "8674a8f762f6423993aa35bcdd37c0eb",
            "7f6701c7bef746b4b4df6e1b6fbf3fea",
            "6137149fd03e449caaaf04f455bf60c6",
            "eb8c41c1dcb1462091d9d481b255a204",
            "45a741527ce544c6b2ccd661dc7571bb",
            "78e3c0ac4b5c471d864ea1869fefc57d",
            "6a4550934001498495a0db1a2b335c7c",
            "632c20b728f2410f9ee41dcad3e11dfb",
            "23a5c1e3e7d047e7b58b0655fe456742",
            "50f7a638fcf94e0faffb094fe455f388",
            "25f8906bf9a44815ad4cb0114423640e",
            "cf118c6b1512429aa5d5bd29357768e5",
            "3c2b7044610d4bb4a1dec0a178439845",
            "b57005f7d1fd4a15b86b05b2a6b11846",
            "61275238745348128f16de2f94b919cc",
            "776b81449ff644d89a11994c450d8e35",
            "44ae805181b0448191d309614b794cc6",
            "501d402aac34442fb5ed7fb2a6ac28d7",
            "bcc0dc82ded642c8a4a4ebf5125ec286",
            "6d0a70a450954e28b1e00ee181ccc48e",
            "899a26f6e9d04625952c40824471e10e",
            "703146f33c174042aca38a5aab321c1b",
            "c0bdbee7b31d4c6bba167a070621a536",
            "d9753190e57740209ead55268685474f",
            "cf99c322d3e94f86b5914c20ce115988",
            "e0717efa37b246abb742a43b7c79fc63",
            "eb68947e9fd847439eeeb89106a8f9dd",
            "3c2126cec61d4e74a88bb8feb498c905",
            "dd068346f37b411380fec2fc1bd5eee6",
            "f12eaedfa6d34ad08259a4dd2f462131",
            "7cea1bae9fc841f9810003363d9f5652",
            "ad828ace79c24a1687fcadaabbfeb10d",
            "c7f7e54dcd0c4d49a384bb288a247fc3",
            "1859788fc1024cfdb9e3635e6f45edd8",
            "1e5a21ff9d3c458faeab6b94a17b1d85",
            "afc44f7edaae4ff8a7acc9c33e8c4354",
            "9fd93851fe6542a1a55874a0ae0891fd",
            "fe8a57566986428aac9040c0db6364b2",
            "d7cf393a4c1e4433b5221aac5e87d016",
            "f369102a80614086856b0c37352ad089",
            "e8391b7a2d0944f4b2ce35983f062c7c",
            "bcb4e2cbda264c1396cf9ce357480bf2",
            "4fcfb5fedcc94b8fa621110f06b1061f",
            "fc053f43b94d4b00a98f2a18e80dfafa",
            "4f90042abfaa4ef0b37f35d33e36af46"
          ]
        },
        "id": "N9DN2ht97x-9",
        "outputId": "65fe2584-88fb-4b83-844d-956bdae4209e"
      },
      "outputs": [
        {
          "output_type": "stream",
          "name": "stderr",
          "text": [
            "/usr/local/lib/python3.10/dist-packages/huggingface_hub/utils/_token.py:88: UserWarning: \n",
            "The secret `HF_TOKEN` does not exist in your Colab secrets.\n",
            "To authenticate with the Hugging Face Hub, create a token in your settings tab (https://huggingface.co/settings/tokens), set it as secret in your Google Colab and restart your session.\n",
            "You will be able to reuse this secret in all of your notebooks.\n",
            "Please note that authentication is recommended but still optional to access public models or datasets.\n",
            "  warnings.warn(\n"
          ]
        },
        {
          "output_type": "display_data",
          "data": {
            "text/plain": [
              "tokenizer_config.json:   0%|          | 0.00/25.0 [00:00<?, ?B/s]"
            ],
            "application/vnd.jupyter.widget-view+json": {
              "version_major": 2,
              "version_minor": 0,
              "model_id": "eab8e8ba31fb4cd6ad6244132e99d612"
            }
          },
          "metadata": {}
        },
        {
          "output_type": "display_data",
          "data": {
            "text/plain": [
              "vocab.json:   0%|          | 0.00/899k [00:00<?, ?B/s]"
            ],
            "application/vnd.jupyter.widget-view+json": {
              "version_major": 2,
              "version_minor": 0,
              "model_id": "7f6701c7bef746b4b4df6e1b6fbf3fea"
            }
          },
          "metadata": {}
        },
        {
          "output_type": "display_data",
          "data": {
            "text/plain": [
              "merges.txt:   0%|          | 0.00/456k [00:00<?, ?B/s]"
            ],
            "application/vnd.jupyter.widget-view+json": {
              "version_major": 2,
              "version_minor": 0,
              "model_id": "3c2b7044610d4bb4a1dec0a178439845"
            }
          },
          "metadata": {}
        },
        {
          "output_type": "display_data",
          "data": {
            "text/plain": [
              "tokenizer.json:   0%|          | 0.00/1.36M [00:00<?, ?B/s]"
            ],
            "application/vnd.jupyter.widget-view+json": {
              "version_major": 2,
              "version_minor": 0,
              "model_id": "d9753190e57740209ead55268685474f"
            }
          },
          "metadata": {}
        },
        {
          "output_type": "display_data",
          "data": {
            "text/plain": [
              "config.json:   0%|          | 0.00/481 [00:00<?, ?B/s]"
            ],
            "application/vnd.jupyter.widget-view+json": {
              "version_major": 2,
              "version_minor": 0,
              "model_id": "1e5a21ff9d3c458faeab6b94a17b1d85"
            }
          },
          "metadata": {}
        }
      ],
      "source": [
        "tokenizer = RobertaTokenizerFast.from_pretrained(\"roberta-base\")\n",
        "assert isinstance(tokenizer, transformers.PreTrainedTokenizerFast)"
      ]
    },
    {
      "cell_type": "markdown",
      "source": [
        "## Prepare features V2"
      ],
      "metadata": {
        "id": "p7qhjR7yyJEU"
      }
    },
    {
      "cell_type": "code",
      "source": [
        "max_length = 384 # The maximum length of a feature (question and context)\n",
        "doc_stride = 128 # The authorized overlap between two part of the context when splitting it is needed."
      ],
      "metadata": {
        "id": "Dzv-I8F0yScQ"
      },
      "execution_count": 19,
      "outputs": []
    },
    {
      "cell_type": "code",
      "source": [
        "def prepare_train_features(contexts, questions, answers):\n",
        "    questions = [question.strip() for question in questions]\n",
        "\n",
        "    tokenized = tokenizer(\n",
        "        questions,\n",
        "        contexts,\n",
        "        truncation=\"only_second\",\n",
        "        max_length=max_length,\n",
        "        stride=doc_stride,\n",
        "        return_overflowing_tokens=True,\n",
        "        return_offsets_mapping=True,\n",
        "        padding=\"max_length\",\n",
        "        return_tensors=\"pt\"\n",
        "    )\n",
        "\n",
        "    sample_mapping = tokenized.pop(\"overflow_to_sample_mapping\")\n",
        "    offset_mapping = tokenized.pop(\"offset_mapping\")\n",
        "\n",
        "    tokenized[\"start_positions\"] = []\n",
        "    tokenized[\"end_positions\"] = []\n",
        "\n",
        "    for i, offsets in enumerate(offset_mapping):\n",
        "        input_ids = tokenized[\"input_ids\"][i]\n",
        "        # Correctly find the CLS token index\n",
        "        cls_index = (input_ids == tokenizer.cls_token_id).nonzero(as_tuple=True)[0][0].item()\n",
        "        sequence_ids = tokenized.sequence_ids(i)\n",
        "        sample_index = sample_mapping[i]\n",
        "        answer = answers[sample_index]\n",
        "\n",
        "        if answer[\"answer_start\"] == -1:\n",
        "            tokenized[\"start_positions\"].append(cls_index)\n",
        "            tokenized[\"end_positions\"].append(cls_index)\n",
        "        else:\n",
        "            start_char = answer[\"answer_start\"]\n",
        "            end_char = start_char + len(answer[\"text\"])\n",
        "\n",
        "            token_start_index = 0\n",
        "            while sequence_ids[token_start_index] != 1:\n",
        "                token_start_index += 1\n",
        "\n",
        "            token_end_index = len(input_ids) - 1\n",
        "            while sequence_ids[token_end_index] != 1:\n",
        "                token_end_index -= 1\n",
        "\n",
        "            if not (offsets[token_start_index][0] <= start_char and offsets[token_end_index][1] >= end_char):\n",
        "                tokenized[\"start_positions\"].append(cls_index)\n",
        "                tokenized[\"end_positions\"].append(cls_index)\n",
        "            else:\n",
        "                while token_start_index < len(offsets) and offsets[token_start_index][0] <= start_char:\n",
        "                    token_start_index += 1\n",
        "                tokenized[\"start_positions\"].append(token_start_index - 1)\n",
        "\n",
        "                while token_end_index >= 0 and offsets[token_end_index][1] >= end_char:\n",
        "                    token_end_index -= 1\n",
        "                tokenized[\"end_positions\"].append(token_end_index + 1)\n",
        "\n",
        "    return tokenized"
      ],
      "metadata": {
        "id": "MnYDjYN7l8qD"
      },
      "execution_count": 20,
      "outputs": []
    },
    {
      "cell_type": "code",
      "source": [
        "class QADataset(torch.utils.data.Dataset):\n",
        "    def __init__(self, encodings, answers=None):\n",
        "        self.encodings = encodings\n",
        "        self.answers = answers\n",
        "\n",
        "    def __getitem__(self, idx):\n",
        "        item = {key: torch.tensor(val[idx]) for key, val in self.encodings.items()}\n",
        "        return item\n",
        "\n",
        "    def __len__(self):\n",
        "        return len(self.encodings['input_ids'])"
      ],
      "metadata": {
        "id": "XKtfxBiT8fKR"
      },
      "execution_count": 21,
      "outputs": []
    },
    {
      "cell_type": "code",
      "source": [
        "train_tokenized = prepare_train_features(unique_contexts, unique_questions, unique_answers)\n",
        "train_dataset = QADataset(train_tokenized)\n",
        "\n",
        "val_tokenized = prepare_train_features(val_contexts, val_questions, val_answers)\n",
        "val_dataset = QADataset(val_tokenized)"
      ],
      "metadata": {
        "id": "mjLKF_W4xyBF"
      },
      "execution_count": 22,
      "outputs": []
    },
    {
      "cell_type": "markdown",
      "metadata": {
        "id": "3F16sVanC-go"
      },
      "source": [
        "#Fine-tuning"
      ]
    },
    {
      "cell_type": "code",
      "execution_count": 23,
      "metadata": {
        "colab": {
          "base_uri": "https://localhost:8080/",
          "height": 105,
          "referenced_widgets": [
            "e98b4cefbe294093bef15e2e8787ad1b",
            "750f8bd7e5ac46588269989e3a680f58",
            "96e92b8a3b8646efbe0d054d2d95f533",
            "a389a5c1905a49abb73039a4ac59a269",
            "e7cb05420408420e81a87a68a7e058d6",
            "83021d000f1f4f41bf6ef317568acbb7",
            "6adfafdf3d75432b930c41b2b16a6fd1",
            "cba21d6127cf447582d1a3e3d064a1cc",
            "c31190c3249f421bbdbb28f66d3244a3",
            "253a386b12fe4bf0acbb63e935255d8e",
            "31fcbadf6f0649c79ac78b162713c5c8"
          ]
        },
        "id": "ubprIo-wUwg7",
        "outputId": "4007deec-207f-4632-e602-f34a9c573ea1"
      },
      "outputs": [
        {
          "output_type": "display_data",
          "data": {
            "text/plain": [
              "model.safetensors:   0%|          | 0.00/499M [00:00<?, ?B/s]"
            ],
            "application/vnd.jupyter.widget-view+json": {
              "version_major": 2,
              "version_minor": 0,
              "model_id": "e98b4cefbe294093bef15e2e8787ad1b"
            }
          },
          "metadata": {}
        },
        {
          "output_type": "stream",
          "name": "stderr",
          "text": [
            "Some weights of RobertaForQuestionAnswering were not initialized from the model checkpoint at roberta-base and are newly initialized: ['qa_outputs.bias', 'qa_outputs.weight']\n",
            "You should probably TRAIN this model on a down-stream task to be able to use it for predictions and inference.\n"
          ]
        }
      ],
      "source": [
        "model = RobertaForQuestionAnswering.from_pretrained(\"roberta-base\")"
      ]
    },
    {
      "cell_type": "code",
      "execution_count": 24,
      "metadata": {
        "colab": {
          "base_uri": "https://localhost:8080/"
        },
        "id": "ulX11-WCQHs1",
        "outputId": "d68eff02-9624-49d3-b7b4-8a8a5f920613"
      },
      "outputs": [
        {
          "metadata": {
            "tags": null
          },
          "name": "stderr",
          "output_type": "stream",
          "text": [
            "/usr/local/lib/python3.10/dist-packages/transformers/optimization.py:429: FutureWarning: This implementation of AdamW is deprecated and will be removed in a future version. Use the PyTorch implementation torch.optim.AdamW instead, or set `no_deprecation_warning=True` to disable this warning\n",
            "  warnings.warn(\n",
            "Epoch 1/2:   0%|          | 0/14731 [00:00<?, ?it/s]<ipython-input-21-b92ab51b90c2>:7: UserWarning: To copy construct from a tensor, it is recommended to use sourceTensor.clone().detach() or sourceTensor.clone().detach().requires_grad_(True), rather than torch.tensor(sourceTensor).\n",
            "  item = {key: torch.tensor(val[idx]) for key, val in self.encodings.items()}\n",
            "Epoch 1/2: 100%|██████████| 14731/14731 [1:22:11<00:00,  2.99it/s]\n"
          ]
        },
        {
          "metadata": {
            "tags": null
          },
          "name": "stdout",
          "output_type": "stream",
          "text": [
            "Epoch 1/2, Training Loss: 1.0203670426635698\n",
            "Epoch 1/2, Validation Loss: 1.1887628478816243\n"
          ]
        },
        {
          "output_type": "stream",
          "name": "stderr",
          "text": [
            "Epoch 2/2: 100%|██████████| 14731/14731 [1:22:12<00:00,  2.99it/s]\n"
          ]
        },
        {
          "output_type": "stream",
          "name": "stdout",
          "text": [
            "Epoch 2/2, Training Loss: 0.6869625579028377\n",
            "Epoch 2/2, Validation Loss: 1.2309589987868104\n"
          ]
        }
      ],
      "source": [
        "device = torch.device('cuda') if torch.cuda.is_available() else torch.device('cpu')\n",
        "\n",
        "model.to(device)\n",
        "optimizer = AdamW(model.parameters(), lr=5e-5)\n",
        "\n",
        "train_loader = DataLoader(train_dataset, batch_size=16, shuffle=True)\n",
        "val_loader = DataLoader(val_dataset, batch_size=16, shuffle=False)\n",
        "\n",
        "# Number of epochs\n",
        "n_epochs = 2\n",
        "\n",
        "for epoch in range(n_epochs):\n",
        "    model.train()\n",
        "    total_loss = 0\n",
        "\n",
        "    for batch in tqdm(train_loader, desc=f'Epoch {epoch + 1}/{n_epochs}'):\n",
        "        optimizer.zero_grad()\n",
        "\n",
        "        input_ids = batch['input_ids'].to(device)\n",
        "        attention_mask = batch['attention_mask'].to(device)\n",
        "        start_positions = batch['start_positions'].to(device)\n",
        "        end_positions = batch['end_positions'].to(device)\n",
        "\n",
        "        outputs = model(input_ids, attention_mask=attention_mask, start_positions=start_positions, end_positions=end_positions)\n",
        "        loss = outputs.loss\n",
        "\n",
        "        loss.backward()\n",
        "        optimizer.step()\n",
        "\n",
        "        total_loss += loss.item()\n",
        "\n",
        "    avg_loss = total_loss / len(train_loader)\n",
        "    print(f'Epoch {epoch + 1}/{n_epochs}, Training Loss: {avg_loss}')\n",
        "\n",
        "    # Validation phase\n",
        "    model.eval()\n",
        "    total_val_loss = 0\n",
        "    with torch.no_grad():\n",
        "        for batch in val_loader:\n",
        "            input_ids = batch['input_ids'].to(device)\n",
        "            attention_mask = batch['attention_mask'].to(device)\n",
        "            start_positions = batch['start_positions'].to(device)\n",
        "            end_positions = batch['end_positions'].to(device)\n",
        "\n",
        "            outputs = model(input_ids, attention_mask=attention_mask, start_positions=start_positions, end_positions=end_positions)\n",
        "            total_val_loss += outputs.loss.item()\n",
        "\n",
        "    avg_val_loss = total_val_loss / len(val_loader)\n",
        "    print(f'Epoch {epoch + 1}/{n_epochs}, Validation Loss: {avg_val_loss}')"
      ]
    },
    {
      "cell_type": "code",
      "source": [
        "directory_path = '/content/drive/MyDrive/NLP'\n",
        "os.makedirs(directory_path, exist_ok=True)"
      ],
      "metadata": {
        "id": "JpGrnWHbjMRo"
      },
      "execution_count": 25,
      "outputs": []
    },
    {
      "cell_type": "code",
      "source": [
        "model_path = os.path.join(directory_path, 'model2_backtranslation_overlapV2.pth')\n",
        "torch.save(model, model_path)"
      ],
      "metadata": {
        "id": "woPAQX8Eqw5H"
      },
      "execution_count": 26,
      "outputs": []
    }
  ],
  "metadata": {
    "accelerator": "GPU",
    "colab": {
      "gpuType": "V100",
      "machine_shape": "hm",
      "provenance": [],
      "mount_file_id": "1Y1sF0nwizHeF7U7lOYSGoWw3MuQPki3y",
      "authorship_tag": "ABX9TyPrWUoSbdQNqVNw1Bjp0uO1",
      "include_colab_link": true
    },
    "kernelspec": {
      "display_name": "Python 3",
      "name": "python3"
    },
    "language_info": {
      "name": "python"
    },
    "widgets": {
      "application/vnd.jupyter.widget-state+json": {
        "eab8e8ba31fb4cd6ad6244132e99d612": {
          "model_module": "@jupyter-widgets/controls",
          "model_name": "HBoxModel",
          "model_module_version": "1.5.0",
          "state": {
            "_dom_classes": [],
            "_model_module": "@jupyter-widgets/controls",
            "_model_module_version": "1.5.0",
            "_model_name": "HBoxModel",
            "_view_count": null,
            "_view_module": "@jupyter-widgets/controls",
            "_view_module_version": "1.5.0",
            "_view_name": "HBoxView",
            "box_style": "",
            "children": [
              "IPY_MODEL_0a6384936cd5466d88b52fd21cad67be",
              "IPY_MODEL_3755ef163b1d4d758dfc67e5cdb66783",
              "IPY_MODEL_61e7e5ea3183482f81abc58a5a4bd1d1"
            ],
            "layout": "IPY_MODEL_369f111e37564bd3a8cdd645e667e2da"
          }
        },
        "0a6384936cd5466d88b52fd21cad67be": {
          "model_module": "@jupyter-widgets/controls",
          "model_name": "HTMLModel",
          "model_module_version": "1.5.0",
          "state": {
            "_dom_classes": [],
            "_model_module": "@jupyter-widgets/controls",
            "_model_module_version": "1.5.0",
            "_model_name": "HTMLModel",
            "_view_count": null,
            "_view_module": "@jupyter-widgets/controls",
            "_view_module_version": "1.5.0",
            "_view_name": "HTMLView",
            "description": "",
            "description_tooltip": null,
            "layout": "IPY_MODEL_2d0ecea5d82044dbac6b2e5d53aa8253",
            "placeholder": "​",
            "style": "IPY_MODEL_511f4434d10d4d46800f33453d612d46",
            "value": "tokenizer_config.json: 100%"
          }
        },
        "3755ef163b1d4d758dfc67e5cdb66783": {
          "model_module": "@jupyter-widgets/controls",
          "model_name": "FloatProgressModel",
          "model_module_version": "1.5.0",
          "state": {
            "_dom_classes": [],
            "_model_module": "@jupyter-widgets/controls",
            "_model_module_version": "1.5.0",
            "_model_name": "FloatProgressModel",
            "_view_count": null,
            "_view_module": "@jupyter-widgets/controls",
            "_view_module_version": "1.5.0",
            "_view_name": "ProgressView",
            "bar_style": "success",
            "description": "",
            "description_tooltip": null,
            "layout": "IPY_MODEL_cbf67198f8254dc8ac3404644b7eca0a",
            "max": 25,
            "min": 0,
            "orientation": "horizontal",
            "style": "IPY_MODEL_aa520f5a602f47ecb5c8b0c8df601b36",
            "value": 25
          }
        },
        "61e7e5ea3183482f81abc58a5a4bd1d1": {
          "model_module": "@jupyter-widgets/controls",
          "model_name": "HTMLModel",
          "model_module_version": "1.5.0",
          "state": {
            "_dom_classes": [],
            "_model_module": "@jupyter-widgets/controls",
            "_model_module_version": "1.5.0",
            "_model_name": "HTMLModel",
            "_view_count": null,
            "_view_module": "@jupyter-widgets/controls",
            "_view_module_version": "1.5.0",
            "_view_name": "HTMLView",
            "description": "",
            "description_tooltip": null,
            "layout": "IPY_MODEL_bf9cfeb332cc4d2aad4123edc8ed5b38",
            "placeholder": "​",
            "style": "IPY_MODEL_8674a8f762f6423993aa35bcdd37c0eb",
            "value": " 25.0/25.0 [00:00&lt;00:00, 1.97kB/s]"
          }
        },
        "369f111e37564bd3a8cdd645e667e2da": {
          "model_module": "@jupyter-widgets/base",
          "model_name": "LayoutModel",
          "model_module_version": "1.2.0",
          "state": {
            "_model_module": "@jupyter-widgets/base",
            "_model_module_version": "1.2.0",
            "_model_name": "LayoutModel",
            "_view_count": null,
            "_view_module": "@jupyter-widgets/base",
            "_view_module_version": "1.2.0",
            "_view_name": "LayoutView",
            "align_content": null,
            "align_items": null,
            "align_self": null,
            "border": null,
            "bottom": null,
            "display": null,
            "flex": null,
            "flex_flow": null,
            "grid_area": null,
            "grid_auto_columns": null,
            "grid_auto_flow": null,
            "grid_auto_rows": null,
            "grid_column": null,
            "grid_gap": null,
            "grid_row": null,
            "grid_template_areas": null,
            "grid_template_columns": null,
            "grid_template_rows": null,
            "height": null,
            "justify_content": null,
            "justify_items": null,
            "left": null,
            "margin": null,
            "max_height": null,
            "max_width": null,
            "min_height": null,
            "min_width": null,
            "object_fit": null,
            "object_position": null,
            "order": null,
            "overflow": null,
            "overflow_x": null,
            "overflow_y": null,
            "padding": null,
            "right": null,
            "top": null,
            "visibility": null,
            "width": null
          }
        },
        "2d0ecea5d82044dbac6b2e5d53aa8253": {
          "model_module": "@jupyter-widgets/base",
          "model_name": "LayoutModel",
          "model_module_version": "1.2.0",
          "state": {
            "_model_module": "@jupyter-widgets/base",
            "_model_module_version": "1.2.0",
            "_model_name": "LayoutModel",
            "_view_count": null,
            "_view_module": "@jupyter-widgets/base",
            "_view_module_version": "1.2.0",
            "_view_name": "LayoutView",
            "align_content": null,
            "align_items": null,
            "align_self": null,
            "border": null,
            "bottom": null,
            "display": null,
            "flex": null,
            "flex_flow": null,
            "grid_area": null,
            "grid_auto_columns": null,
            "grid_auto_flow": null,
            "grid_auto_rows": null,
            "grid_column": null,
            "grid_gap": null,
            "grid_row": null,
            "grid_template_areas": null,
            "grid_template_columns": null,
            "grid_template_rows": null,
            "height": null,
            "justify_content": null,
            "justify_items": null,
            "left": null,
            "margin": null,
            "max_height": null,
            "max_width": null,
            "min_height": null,
            "min_width": null,
            "object_fit": null,
            "object_position": null,
            "order": null,
            "overflow": null,
            "overflow_x": null,
            "overflow_y": null,
            "padding": null,
            "right": null,
            "top": null,
            "visibility": null,
            "width": null
          }
        },
        "511f4434d10d4d46800f33453d612d46": {
          "model_module": "@jupyter-widgets/controls",
          "model_name": "DescriptionStyleModel",
          "model_module_version": "1.5.0",
          "state": {
            "_model_module": "@jupyter-widgets/controls",
            "_model_module_version": "1.5.0",
            "_model_name": "DescriptionStyleModel",
            "_view_count": null,
            "_view_module": "@jupyter-widgets/base",
            "_view_module_version": "1.2.0",
            "_view_name": "StyleView",
            "description_width": ""
          }
        },
        "cbf67198f8254dc8ac3404644b7eca0a": {
          "model_module": "@jupyter-widgets/base",
          "model_name": "LayoutModel",
          "model_module_version": "1.2.0",
          "state": {
            "_model_module": "@jupyter-widgets/base",
            "_model_module_version": "1.2.0",
            "_model_name": "LayoutModel",
            "_view_count": null,
            "_view_module": "@jupyter-widgets/base",
            "_view_module_version": "1.2.0",
            "_view_name": "LayoutView",
            "align_content": null,
            "align_items": null,
            "align_self": null,
            "border": null,
            "bottom": null,
            "display": null,
            "flex": null,
            "flex_flow": null,
            "grid_area": null,
            "grid_auto_columns": null,
            "grid_auto_flow": null,
            "grid_auto_rows": null,
            "grid_column": null,
            "grid_gap": null,
            "grid_row": null,
            "grid_template_areas": null,
            "grid_template_columns": null,
            "grid_template_rows": null,
            "height": null,
            "justify_content": null,
            "justify_items": null,
            "left": null,
            "margin": null,
            "max_height": null,
            "max_width": null,
            "min_height": null,
            "min_width": null,
            "object_fit": null,
            "object_position": null,
            "order": null,
            "overflow": null,
            "overflow_x": null,
            "overflow_y": null,
            "padding": null,
            "right": null,
            "top": null,
            "visibility": null,
            "width": null
          }
        },
        "aa520f5a602f47ecb5c8b0c8df601b36": {
          "model_module": "@jupyter-widgets/controls",
          "model_name": "ProgressStyleModel",
          "model_module_version": "1.5.0",
          "state": {
            "_model_module": "@jupyter-widgets/controls",
            "_model_module_version": "1.5.0",
            "_model_name": "ProgressStyleModel",
            "_view_count": null,
            "_view_module": "@jupyter-widgets/base",
            "_view_module_version": "1.2.0",
            "_view_name": "StyleView",
            "bar_color": null,
            "description_width": ""
          }
        },
        "bf9cfeb332cc4d2aad4123edc8ed5b38": {
          "model_module": "@jupyter-widgets/base",
          "model_name": "LayoutModel",
          "model_module_version": "1.2.0",
          "state": {
            "_model_module": "@jupyter-widgets/base",
            "_model_module_version": "1.2.0",
            "_model_name": "LayoutModel",
            "_view_count": null,
            "_view_module": "@jupyter-widgets/base",
            "_view_module_version": "1.2.0",
            "_view_name": "LayoutView",
            "align_content": null,
            "align_items": null,
            "align_self": null,
            "border": null,
            "bottom": null,
            "display": null,
            "flex": null,
            "flex_flow": null,
            "grid_area": null,
            "grid_auto_columns": null,
            "grid_auto_flow": null,
            "grid_auto_rows": null,
            "grid_column": null,
            "grid_gap": null,
            "grid_row": null,
            "grid_template_areas": null,
            "grid_template_columns": null,
            "grid_template_rows": null,
            "height": null,
            "justify_content": null,
            "justify_items": null,
            "left": null,
            "margin": null,
            "max_height": null,
            "max_width": null,
            "min_height": null,
            "min_width": null,
            "object_fit": null,
            "object_position": null,
            "order": null,
            "overflow": null,
            "overflow_x": null,
            "overflow_y": null,
            "padding": null,
            "right": null,
            "top": null,
            "visibility": null,
            "width": null
          }
        },
        "8674a8f762f6423993aa35bcdd37c0eb": {
          "model_module": "@jupyter-widgets/controls",
          "model_name": "DescriptionStyleModel",
          "model_module_version": "1.5.0",
          "state": {
            "_model_module": "@jupyter-widgets/controls",
            "_model_module_version": "1.5.0",
            "_model_name": "DescriptionStyleModel",
            "_view_count": null,
            "_view_module": "@jupyter-widgets/base",
            "_view_module_version": "1.2.0",
            "_view_name": "StyleView",
            "description_width": ""
          }
        },
        "7f6701c7bef746b4b4df6e1b6fbf3fea": {
          "model_module": "@jupyter-widgets/controls",
          "model_name": "HBoxModel",
          "model_module_version": "1.5.0",
          "state": {
            "_dom_classes": [],
            "_model_module": "@jupyter-widgets/controls",
            "_model_module_version": "1.5.0",
            "_model_name": "HBoxModel",
            "_view_count": null,
            "_view_module": "@jupyter-widgets/controls",
            "_view_module_version": "1.5.0",
            "_view_name": "HBoxView",
            "box_style": "",
            "children": [
              "IPY_MODEL_6137149fd03e449caaaf04f455bf60c6",
              "IPY_MODEL_eb8c41c1dcb1462091d9d481b255a204",
              "IPY_MODEL_45a741527ce544c6b2ccd661dc7571bb"
            ],
            "layout": "IPY_MODEL_78e3c0ac4b5c471d864ea1869fefc57d"
          }
        },
        "6137149fd03e449caaaf04f455bf60c6": {
          "model_module": "@jupyter-widgets/controls",
          "model_name": "HTMLModel",
          "model_module_version": "1.5.0",
          "state": {
            "_dom_classes": [],
            "_model_module": "@jupyter-widgets/controls",
            "_model_module_version": "1.5.0",
            "_model_name": "HTMLModel",
            "_view_count": null,
            "_view_module": "@jupyter-widgets/controls",
            "_view_module_version": "1.5.0",
            "_view_name": "HTMLView",
            "description": "",
            "description_tooltip": null,
            "layout": "IPY_MODEL_6a4550934001498495a0db1a2b335c7c",
            "placeholder": "​",
            "style": "IPY_MODEL_632c20b728f2410f9ee41dcad3e11dfb",
            "value": "vocab.json: 100%"
          }
        },
        "eb8c41c1dcb1462091d9d481b255a204": {
          "model_module": "@jupyter-widgets/controls",
          "model_name": "FloatProgressModel",
          "model_module_version": "1.5.0",
          "state": {
            "_dom_classes": [],
            "_model_module": "@jupyter-widgets/controls",
            "_model_module_version": "1.5.0",
            "_model_name": "FloatProgressModel",
            "_view_count": null,
            "_view_module": "@jupyter-widgets/controls",
            "_view_module_version": "1.5.0",
            "_view_name": "ProgressView",
            "bar_style": "success",
            "description": "",
            "description_tooltip": null,
            "layout": "IPY_MODEL_23a5c1e3e7d047e7b58b0655fe456742",
            "max": 898823,
            "min": 0,
            "orientation": "horizontal",
            "style": "IPY_MODEL_50f7a638fcf94e0faffb094fe455f388",
            "value": 898823
          }
        },
        "45a741527ce544c6b2ccd661dc7571bb": {
          "model_module": "@jupyter-widgets/controls",
          "model_name": "HTMLModel",
          "model_module_version": "1.5.0",
          "state": {
            "_dom_classes": [],
            "_model_module": "@jupyter-widgets/controls",
            "_model_module_version": "1.5.0",
            "_model_name": "HTMLModel",
            "_view_count": null,
            "_view_module": "@jupyter-widgets/controls",
            "_view_module_version": "1.5.0",
            "_view_name": "HTMLView",
            "description": "",
            "description_tooltip": null,
            "layout": "IPY_MODEL_25f8906bf9a44815ad4cb0114423640e",
            "placeholder": "​",
            "style": "IPY_MODEL_cf118c6b1512429aa5d5bd29357768e5",
            "value": " 899k/899k [00:00&lt;00:00, 5.49MB/s]"
          }
        },
        "78e3c0ac4b5c471d864ea1869fefc57d": {
          "model_module": "@jupyter-widgets/base",
          "model_name": "LayoutModel",
          "model_module_version": "1.2.0",
          "state": {
            "_model_module": "@jupyter-widgets/base",
            "_model_module_version": "1.2.0",
            "_model_name": "LayoutModel",
            "_view_count": null,
            "_view_module": "@jupyter-widgets/base",
            "_view_module_version": "1.2.0",
            "_view_name": "LayoutView",
            "align_content": null,
            "align_items": null,
            "align_self": null,
            "border": null,
            "bottom": null,
            "display": null,
            "flex": null,
            "flex_flow": null,
            "grid_area": null,
            "grid_auto_columns": null,
            "grid_auto_flow": null,
            "grid_auto_rows": null,
            "grid_column": null,
            "grid_gap": null,
            "grid_row": null,
            "grid_template_areas": null,
            "grid_template_columns": null,
            "grid_template_rows": null,
            "height": null,
            "justify_content": null,
            "justify_items": null,
            "left": null,
            "margin": null,
            "max_height": null,
            "max_width": null,
            "min_height": null,
            "min_width": null,
            "object_fit": null,
            "object_position": null,
            "order": null,
            "overflow": null,
            "overflow_x": null,
            "overflow_y": null,
            "padding": null,
            "right": null,
            "top": null,
            "visibility": null,
            "width": null
          }
        },
        "6a4550934001498495a0db1a2b335c7c": {
          "model_module": "@jupyter-widgets/base",
          "model_name": "LayoutModel",
          "model_module_version": "1.2.0",
          "state": {
            "_model_module": "@jupyter-widgets/base",
            "_model_module_version": "1.2.0",
            "_model_name": "LayoutModel",
            "_view_count": null,
            "_view_module": "@jupyter-widgets/base",
            "_view_module_version": "1.2.0",
            "_view_name": "LayoutView",
            "align_content": null,
            "align_items": null,
            "align_self": null,
            "border": null,
            "bottom": null,
            "display": null,
            "flex": null,
            "flex_flow": null,
            "grid_area": null,
            "grid_auto_columns": null,
            "grid_auto_flow": null,
            "grid_auto_rows": null,
            "grid_column": null,
            "grid_gap": null,
            "grid_row": null,
            "grid_template_areas": null,
            "grid_template_columns": null,
            "grid_template_rows": null,
            "height": null,
            "justify_content": null,
            "justify_items": null,
            "left": null,
            "margin": null,
            "max_height": null,
            "max_width": null,
            "min_height": null,
            "min_width": null,
            "object_fit": null,
            "object_position": null,
            "order": null,
            "overflow": null,
            "overflow_x": null,
            "overflow_y": null,
            "padding": null,
            "right": null,
            "top": null,
            "visibility": null,
            "width": null
          }
        },
        "632c20b728f2410f9ee41dcad3e11dfb": {
          "model_module": "@jupyter-widgets/controls",
          "model_name": "DescriptionStyleModel",
          "model_module_version": "1.5.0",
          "state": {
            "_model_module": "@jupyter-widgets/controls",
            "_model_module_version": "1.5.0",
            "_model_name": "DescriptionStyleModel",
            "_view_count": null,
            "_view_module": "@jupyter-widgets/base",
            "_view_module_version": "1.2.0",
            "_view_name": "StyleView",
            "description_width": ""
          }
        },
        "23a5c1e3e7d047e7b58b0655fe456742": {
          "model_module": "@jupyter-widgets/base",
          "model_name": "LayoutModel",
          "model_module_version": "1.2.0",
          "state": {
            "_model_module": "@jupyter-widgets/base",
            "_model_module_version": "1.2.0",
            "_model_name": "LayoutModel",
            "_view_count": null,
            "_view_module": "@jupyter-widgets/base",
            "_view_module_version": "1.2.0",
            "_view_name": "LayoutView",
            "align_content": null,
            "align_items": null,
            "align_self": null,
            "border": null,
            "bottom": null,
            "display": null,
            "flex": null,
            "flex_flow": null,
            "grid_area": null,
            "grid_auto_columns": null,
            "grid_auto_flow": null,
            "grid_auto_rows": null,
            "grid_column": null,
            "grid_gap": null,
            "grid_row": null,
            "grid_template_areas": null,
            "grid_template_columns": null,
            "grid_template_rows": null,
            "height": null,
            "justify_content": null,
            "justify_items": null,
            "left": null,
            "margin": null,
            "max_height": null,
            "max_width": null,
            "min_height": null,
            "min_width": null,
            "object_fit": null,
            "object_position": null,
            "order": null,
            "overflow": null,
            "overflow_x": null,
            "overflow_y": null,
            "padding": null,
            "right": null,
            "top": null,
            "visibility": null,
            "width": null
          }
        },
        "50f7a638fcf94e0faffb094fe455f388": {
          "model_module": "@jupyter-widgets/controls",
          "model_name": "ProgressStyleModel",
          "model_module_version": "1.5.0",
          "state": {
            "_model_module": "@jupyter-widgets/controls",
            "_model_module_version": "1.5.0",
            "_model_name": "ProgressStyleModel",
            "_view_count": null,
            "_view_module": "@jupyter-widgets/base",
            "_view_module_version": "1.2.0",
            "_view_name": "StyleView",
            "bar_color": null,
            "description_width": ""
          }
        },
        "25f8906bf9a44815ad4cb0114423640e": {
          "model_module": "@jupyter-widgets/base",
          "model_name": "LayoutModel",
          "model_module_version": "1.2.0",
          "state": {
            "_model_module": "@jupyter-widgets/base",
            "_model_module_version": "1.2.0",
            "_model_name": "LayoutModel",
            "_view_count": null,
            "_view_module": "@jupyter-widgets/base",
            "_view_module_version": "1.2.0",
            "_view_name": "LayoutView",
            "align_content": null,
            "align_items": null,
            "align_self": null,
            "border": null,
            "bottom": null,
            "display": null,
            "flex": null,
            "flex_flow": null,
            "grid_area": null,
            "grid_auto_columns": null,
            "grid_auto_flow": null,
            "grid_auto_rows": null,
            "grid_column": null,
            "grid_gap": null,
            "grid_row": null,
            "grid_template_areas": null,
            "grid_template_columns": null,
            "grid_template_rows": null,
            "height": null,
            "justify_content": null,
            "justify_items": null,
            "left": null,
            "margin": null,
            "max_height": null,
            "max_width": null,
            "min_height": null,
            "min_width": null,
            "object_fit": null,
            "object_position": null,
            "order": null,
            "overflow": null,
            "overflow_x": null,
            "overflow_y": null,
            "padding": null,
            "right": null,
            "top": null,
            "visibility": null,
            "width": null
          }
        },
        "cf118c6b1512429aa5d5bd29357768e5": {
          "model_module": "@jupyter-widgets/controls",
          "model_name": "DescriptionStyleModel",
          "model_module_version": "1.5.0",
          "state": {
            "_model_module": "@jupyter-widgets/controls",
            "_model_module_version": "1.5.0",
            "_model_name": "DescriptionStyleModel",
            "_view_count": null,
            "_view_module": "@jupyter-widgets/base",
            "_view_module_version": "1.2.0",
            "_view_name": "StyleView",
            "description_width": ""
          }
        },
        "3c2b7044610d4bb4a1dec0a178439845": {
          "model_module": "@jupyter-widgets/controls",
          "model_name": "HBoxModel",
          "model_module_version": "1.5.0",
          "state": {
            "_dom_classes": [],
            "_model_module": "@jupyter-widgets/controls",
            "_model_module_version": "1.5.0",
            "_model_name": "HBoxModel",
            "_view_count": null,
            "_view_module": "@jupyter-widgets/controls",
            "_view_module_version": "1.5.0",
            "_view_name": "HBoxView",
            "box_style": "",
            "children": [
              "IPY_MODEL_b57005f7d1fd4a15b86b05b2a6b11846",
              "IPY_MODEL_61275238745348128f16de2f94b919cc",
              "IPY_MODEL_776b81449ff644d89a11994c450d8e35"
            ],
            "layout": "IPY_MODEL_44ae805181b0448191d309614b794cc6"
          }
        },
        "b57005f7d1fd4a15b86b05b2a6b11846": {
          "model_module": "@jupyter-widgets/controls",
          "model_name": "HTMLModel",
          "model_module_version": "1.5.0",
          "state": {
            "_dom_classes": [],
            "_model_module": "@jupyter-widgets/controls",
            "_model_module_version": "1.5.0",
            "_model_name": "HTMLModel",
            "_view_count": null,
            "_view_module": "@jupyter-widgets/controls",
            "_view_module_version": "1.5.0",
            "_view_name": "HTMLView",
            "description": "",
            "description_tooltip": null,
            "layout": "IPY_MODEL_501d402aac34442fb5ed7fb2a6ac28d7",
            "placeholder": "​",
            "style": "IPY_MODEL_bcc0dc82ded642c8a4a4ebf5125ec286",
            "value": "merges.txt: 100%"
          }
        },
        "61275238745348128f16de2f94b919cc": {
          "model_module": "@jupyter-widgets/controls",
          "model_name": "FloatProgressModel",
          "model_module_version": "1.5.0",
          "state": {
            "_dom_classes": [],
            "_model_module": "@jupyter-widgets/controls",
            "_model_module_version": "1.5.0",
            "_model_name": "FloatProgressModel",
            "_view_count": null,
            "_view_module": "@jupyter-widgets/controls",
            "_view_module_version": "1.5.0",
            "_view_name": "ProgressView",
            "bar_style": "success",
            "description": "",
            "description_tooltip": null,
            "layout": "IPY_MODEL_6d0a70a450954e28b1e00ee181ccc48e",
            "max": 456318,
            "min": 0,
            "orientation": "horizontal",
            "style": "IPY_MODEL_899a26f6e9d04625952c40824471e10e",
            "value": 456318
          }
        },
        "776b81449ff644d89a11994c450d8e35": {
          "model_module": "@jupyter-widgets/controls",
          "model_name": "HTMLModel",
          "model_module_version": "1.5.0",
          "state": {
            "_dom_classes": [],
            "_model_module": "@jupyter-widgets/controls",
            "_model_module_version": "1.5.0",
            "_model_name": "HTMLModel",
            "_view_count": null,
            "_view_module": "@jupyter-widgets/controls",
            "_view_module_version": "1.5.0",
            "_view_name": "HTMLView",
            "description": "",
            "description_tooltip": null,
            "layout": "IPY_MODEL_703146f33c174042aca38a5aab321c1b",
            "placeholder": "​",
            "style": "IPY_MODEL_c0bdbee7b31d4c6bba167a070621a536",
            "value": " 456k/456k [00:00&lt;00:00, 1.87MB/s]"
          }
        },
        "44ae805181b0448191d309614b794cc6": {
          "model_module": "@jupyter-widgets/base",
          "model_name": "LayoutModel",
          "model_module_version": "1.2.0",
          "state": {
            "_model_module": "@jupyter-widgets/base",
            "_model_module_version": "1.2.0",
            "_model_name": "LayoutModel",
            "_view_count": null,
            "_view_module": "@jupyter-widgets/base",
            "_view_module_version": "1.2.0",
            "_view_name": "LayoutView",
            "align_content": null,
            "align_items": null,
            "align_self": null,
            "border": null,
            "bottom": null,
            "display": null,
            "flex": null,
            "flex_flow": null,
            "grid_area": null,
            "grid_auto_columns": null,
            "grid_auto_flow": null,
            "grid_auto_rows": null,
            "grid_column": null,
            "grid_gap": null,
            "grid_row": null,
            "grid_template_areas": null,
            "grid_template_columns": null,
            "grid_template_rows": null,
            "height": null,
            "justify_content": null,
            "justify_items": null,
            "left": null,
            "margin": null,
            "max_height": null,
            "max_width": null,
            "min_height": null,
            "min_width": null,
            "object_fit": null,
            "object_position": null,
            "order": null,
            "overflow": null,
            "overflow_x": null,
            "overflow_y": null,
            "padding": null,
            "right": null,
            "top": null,
            "visibility": null,
            "width": null
          }
        },
        "501d402aac34442fb5ed7fb2a6ac28d7": {
          "model_module": "@jupyter-widgets/base",
          "model_name": "LayoutModel",
          "model_module_version": "1.2.0",
          "state": {
            "_model_module": "@jupyter-widgets/base",
            "_model_module_version": "1.2.0",
            "_model_name": "LayoutModel",
            "_view_count": null,
            "_view_module": "@jupyter-widgets/base",
            "_view_module_version": "1.2.0",
            "_view_name": "LayoutView",
            "align_content": null,
            "align_items": null,
            "align_self": null,
            "border": null,
            "bottom": null,
            "display": null,
            "flex": null,
            "flex_flow": null,
            "grid_area": null,
            "grid_auto_columns": null,
            "grid_auto_flow": null,
            "grid_auto_rows": null,
            "grid_column": null,
            "grid_gap": null,
            "grid_row": null,
            "grid_template_areas": null,
            "grid_template_columns": null,
            "grid_template_rows": null,
            "height": null,
            "justify_content": null,
            "justify_items": null,
            "left": null,
            "margin": null,
            "max_height": null,
            "max_width": null,
            "min_height": null,
            "min_width": null,
            "object_fit": null,
            "object_position": null,
            "order": null,
            "overflow": null,
            "overflow_x": null,
            "overflow_y": null,
            "padding": null,
            "right": null,
            "top": null,
            "visibility": null,
            "width": null
          }
        },
        "bcc0dc82ded642c8a4a4ebf5125ec286": {
          "model_module": "@jupyter-widgets/controls",
          "model_name": "DescriptionStyleModel",
          "model_module_version": "1.5.0",
          "state": {
            "_model_module": "@jupyter-widgets/controls",
            "_model_module_version": "1.5.0",
            "_model_name": "DescriptionStyleModel",
            "_view_count": null,
            "_view_module": "@jupyter-widgets/base",
            "_view_module_version": "1.2.0",
            "_view_name": "StyleView",
            "description_width": ""
          }
        },
        "6d0a70a450954e28b1e00ee181ccc48e": {
          "model_module": "@jupyter-widgets/base",
          "model_name": "LayoutModel",
          "model_module_version": "1.2.0",
          "state": {
            "_model_module": "@jupyter-widgets/base",
            "_model_module_version": "1.2.0",
            "_model_name": "LayoutModel",
            "_view_count": null,
            "_view_module": "@jupyter-widgets/base",
            "_view_module_version": "1.2.0",
            "_view_name": "LayoutView",
            "align_content": null,
            "align_items": null,
            "align_self": null,
            "border": null,
            "bottom": null,
            "display": null,
            "flex": null,
            "flex_flow": null,
            "grid_area": null,
            "grid_auto_columns": null,
            "grid_auto_flow": null,
            "grid_auto_rows": null,
            "grid_column": null,
            "grid_gap": null,
            "grid_row": null,
            "grid_template_areas": null,
            "grid_template_columns": null,
            "grid_template_rows": null,
            "height": null,
            "justify_content": null,
            "justify_items": null,
            "left": null,
            "margin": null,
            "max_height": null,
            "max_width": null,
            "min_height": null,
            "min_width": null,
            "object_fit": null,
            "object_position": null,
            "order": null,
            "overflow": null,
            "overflow_x": null,
            "overflow_y": null,
            "padding": null,
            "right": null,
            "top": null,
            "visibility": null,
            "width": null
          }
        },
        "899a26f6e9d04625952c40824471e10e": {
          "model_module": "@jupyter-widgets/controls",
          "model_name": "ProgressStyleModel",
          "model_module_version": "1.5.0",
          "state": {
            "_model_module": "@jupyter-widgets/controls",
            "_model_module_version": "1.5.0",
            "_model_name": "ProgressStyleModel",
            "_view_count": null,
            "_view_module": "@jupyter-widgets/base",
            "_view_module_version": "1.2.0",
            "_view_name": "StyleView",
            "bar_color": null,
            "description_width": ""
          }
        },
        "703146f33c174042aca38a5aab321c1b": {
          "model_module": "@jupyter-widgets/base",
          "model_name": "LayoutModel",
          "model_module_version": "1.2.0",
          "state": {
            "_model_module": "@jupyter-widgets/base",
            "_model_module_version": "1.2.0",
            "_model_name": "LayoutModel",
            "_view_count": null,
            "_view_module": "@jupyter-widgets/base",
            "_view_module_version": "1.2.0",
            "_view_name": "LayoutView",
            "align_content": null,
            "align_items": null,
            "align_self": null,
            "border": null,
            "bottom": null,
            "display": null,
            "flex": null,
            "flex_flow": null,
            "grid_area": null,
            "grid_auto_columns": null,
            "grid_auto_flow": null,
            "grid_auto_rows": null,
            "grid_column": null,
            "grid_gap": null,
            "grid_row": null,
            "grid_template_areas": null,
            "grid_template_columns": null,
            "grid_template_rows": null,
            "height": null,
            "justify_content": null,
            "justify_items": null,
            "left": null,
            "margin": null,
            "max_height": null,
            "max_width": null,
            "min_height": null,
            "min_width": null,
            "object_fit": null,
            "object_position": null,
            "order": null,
            "overflow": null,
            "overflow_x": null,
            "overflow_y": null,
            "padding": null,
            "right": null,
            "top": null,
            "visibility": null,
            "width": null
          }
        },
        "c0bdbee7b31d4c6bba167a070621a536": {
          "model_module": "@jupyter-widgets/controls",
          "model_name": "DescriptionStyleModel",
          "model_module_version": "1.5.0",
          "state": {
            "_model_module": "@jupyter-widgets/controls",
            "_model_module_version": "1.5.0",
            "_model_name": "DescriptionStyleModel",
            "_view_count": null,
            "_view_module": "@jupyter-widgets/base",
            "_view_module_version": "1.2.0",
            "_view_name": "StyleView",
            "description_width": ""
          }
        },
        "d9753190e57740209ead55268685474f": {
          "model_module": "@jupyter-widgets/controls",
          "model_name": "HBoxModel",
          "model_module_version": "1.5.0",
          "state": {
            "_dom_classes": [],
            "_model_module": "@jupyter-widgets/controls",
            "_model_module_version": "1.5.0",
            "_model_name": "HBoxModel",
            "_view_count": null,
            "_view_module": "@jupyter-widgets/controls",
            "_view_module_version": "1.5.0",
            "_view_name": "HBoxView",
            "box_style": "",
            "children": [
              "IPY_MODEL_cf99c322d3e94f86b5914c20ce115988",
              "IPY_MODEL_e0717efa37b246abb742a43b7c79fc63",
              "IPY_MODEL_eb68947e9fd847439eeeb89106a8f9dd"
            ],
            "layout": "IPY_MODEL_3c2126cec61d4e74a88bb8feb498c905"
          }
        },
        "cf99c322d3e94f86b5914c20ce115988": {
          "model_module": "@jupyter-widgets/controls",
          "model_name": "HTMLModel",
          "model_module_version": "1.5.0",
          "state": {
            "_dom_classes": [],
            "_model_module": "@jupyter-widgets/controls",
            "_model_module_version": "1.5.0",
            "_model_name": "HTMLModel",
            "_view_count": null,
            "_view_module": "@jupyter-widgets/controls",
            "_view_module_version": "1.5.0",
            "_view_name": "HTMLView",
            "description": "",
            "description_tooltip": null,
            "layout": "IPY_MODEL_dd068346f37b411380fec2fc1bd5eee6",
            "placeholder": "​",
            "style": "IPY_MODEL_f12eaedfa6d34ad08259a4dd2f462131",
            "value": "tokenizer.json: 100%"
          }
        },
        "e0717efa37b246abb742a43b7c79fc63": {
          "model_module": "@jupyter-widgets/controls",
          "model_name": "FloatProgressModel",
          "model_module_version": "1.5.0",
          "state": {
            "_dom_classes": [],
            "_model_module": "@jupyter-widgets/controls",
            "_model_module_version": "1.5.0",
            "_model_name": "FloatProgressModel",
            "_view_count": null,
            "_view_module": "@jupyter-widgets/controls",
            "_view_module_version": "1.5.0",
            "_view_name": "ProgressView",
            "bar_style": "success",
            "description": "",
            "description_tooltip": null,
            "layout": "IPY_MODEL_7cea1bae9fc841f9810003363d9f5652",
            "max": 1355863,
            "min": 0,
            "orientation": "horizontal",
            "style": "IPY_MODEL_ad828ace79c24a1687fcadaabbfeb10d",
            "value": 1355863
          }
        },
        "eb68947e9fd847439eeeb89106a8f9dd": {
          "model_module": "@jupyter-widgets/controls",
          "model_name": "HTMLModel",
          "model_module_version": "1.5.0",
          "state": {
            "_dom_classes": [],
            "_model_module": "@jupyter-widgets/controls",
            "_model_module_version": "1.5.0",
            "_model_name": "HTMLModel",
            "_view_count": null,
            "_view_module": "@jupyter-widgets/controls",
            "_view_module_version": "1.5.0",
            "_view_name": "HTMLView",
            "description": "",
            "description_tooltip": null,
            "layout": "IPY_MODEL_c7f7e54dcd0c4d49a384bb288a247fc3",
            "placeholder": "​",
            "style": "IPY_MODEL_1859788fc1024cfdb9e3635e6f45edd8",
            "value": " 1.36M/1.36M [00:00&lt;00:00, 16.0MB/s]"
          }
        },
        "3c2126cec61d4e74a88bb8feb498c905": {
          "model_module": "@jupyter-widgets/base",
          "model_name": "LayoutModel",
          "model_module_version": "1.2.0",
          "state": {
            "_model_module": "@jupyter-widgets/base",
            "_model_module_version": "1.2.0",
            "_model_name": "LayoutModel",
            "_view_count": null,
            "_view_module": "@jupyter-widgets/base",
            "_view_module_version": "1.2.0",
            "_view_name": "LayoutView",
            "align_content": null,
            "align_items": null,
            "align_self": null,
            "border": null,
            "bottom": null,
            "display": null,
            "flex": null,
            "flex_flow": null,
            "grid_area": null,
            "grid_auto_columns": null,
            "grid_auto_flow": null,
            "grid_auto_rows": null,
            "grid_column": null,
            "grid_gap": null,
            "grid_row": null,
            "grid_template_areas": null,
            "grid_template_columns": null,
            "grid_template_rows": null,
            "height": null,
            "justify_content": null,
            "justify_items": null,
            "left": null,
            "margin": null,
            "max_height": null,
            "max_width": null,
            "min_height": null,
            "min_width": null,
            "object_fit": null,
            "object_position": null,
            "order": null,
            "overflow": null,
            "overflow_x": null,
            "overflow_y": null,
            "padding": null,
            "right": null,
            "top": null,
            "visibility": null,
            "width": null
          }
        },
        "dd068346f37b411380fec2fc1bd5eee6": {
          "model_module": "@jupyter-widgets/base",
          "model_name": "LayoutModel",
          "model_module_version": "1.2.0",
          "state": {
            "_model_module": "@jupyter-widgets/base",
            "_model_module_version": "1.2.0",
            "_model_name": "LayoutModel",
            "_view_count": null,
            "_view_module": "@jupyter-widgets/base",
            "_view_module_version": "1.2.0",
            "_view_name": "LayoutView",
            "align_content": null,
            "align_items": null,
            "align_self": null,
            "border": null,
            "bottom": null,
            "display": null,
            "flex": null,
            "flex_flow": null,
            "grid_area": null,
            "grid_auto_columns": null,
            "grid_auto_flow": null,
            "grid_auto_rows": null,
            "grid_column": null,
            "grid_gap": null,
            "grid_row": null,
            "grid_template_areas": null,
            "grid_template_columns": null,
            "grid_template_rows": null,
            "height": null,
            "justify_content": null,
            "justify_items": null,
            "left": null,
            "margin": null,
            "max_height": null,
            "max_width": null,
            "min_height": null,
            "min_width": null,
            "object_fit": null,
            "object_position": null,
            "order": null,
            "overflow": null,
            "overflow_x": null,
            "overflow_y": null,
            "padding": null,
            "right": null,
            "top": null,
            "visibility": null,
            "width": null
          }
        },
        "f12eaedfa6d34ad08259a4dd2f462131": {
          "model_module": "@jupyter-widgets/controls",
          "model_name": "DescriptionStyleModel",
          "model_module_version": "1.5.0",
          "state": {
            "_model_module": "@jupyter-widgets/controls",
            "_model_module_version": "1.5.0",
            "_model_name": "DescriptionStyleModel",
            "_view_count": null,
            "_view_module": "@jupyter-widgets/base",
            "_view_module_version": "1.2.0",
            "_view_name": "StyleView",
            "description_width": ""
          }
        },
        "7cea1bae9fc841f9810003363d9f5652": {
          "model_module": "@jupyter-widgets/base",
          "model_name": "LayoutModel",
          "model_module_version": "1.2.0",
          "state": {
            "_model_module": "@jupyter-widgets/base",
            "_model_module_version": "1.2.0",
            "_model_name": "LayoutModel",
            "_view_count": null,
            "_view_module": "@jupyter-widgets/base",
            "_view_module_version": "1.2.0",
            "_view_name": "LayoutView",
            "align_content": null,
            "align_items": null,
            "align_self": null,
            "border": null,
            "bottom": null,
            "display": null,
            "flex": null,
            "flex_flow": null,
            "grid_area": null,
            "grid_auto_columns": null,
            "grid_auto_flow": null,
            "grid_auto_rows": null,
            "grid_column": null,
            "grid_gap": null,
            "grid_row": null,
            "grid_template_areas": null,
            "grid_template_columns": null,
            "grid_template_rows": null,
            "height": null,
            "justify_content": null,
            "justify_items": null,
            "left": null,
            "margin": null,
            "max_height": null,
            "max_width": null,
            "min_height": null,
            "min_width": null,
            "object_fit": null,
            "object_position": null,
            "order": null,
            "overflow": null,
            "overflow_x": null,
            "overflow_y": null,
            "padding": null,
            "right": null,
            "top": null,
            "visibility": null,
            "width": null
          }
        },
        "ad828ace79c24a1687fcadaabbfeb10d": {
          "model_module": "@jupyter-widgets/controls",
          "model_name": "ProgressStyleModel",
          "model_module_version": "1.5.0",
          "state": {
            "_model_module": "@jupyter-widgets/controls",
            "_model_module_version": "1.5.0",
            "_model_name": "ProgressStyleModel",
            "_view_count": null,
            "_view_module": "@jupyter-widgets/base",
            "_view_module_version": "1.2.0",
            "_view_name": "StyleView",
            "bar_color": null,
            "description_width": ""
          }
        },
        "c7f7e54dcd0c4d49a384bb288a247fc3": {
          "model_module": "@jupyter-widgets/base",
          "model_name": "LayoutModel",
          "model_module_version": "1.2.0",
          "state": {
            "_model_module": "@jupyter-widgets/base",
            "_model_module_version": "1.2.0",
            "_model_name": "LayoutModel",
            "_view_count": null,
            "_view_module": "@jupyter-widgets/base",
            "_view_module_version": "1.2.0",
            "_view_name": "LayoutView",
            "align_content": null,
            "align_items": null,
            "align_self": null,
            "border": null,
            "bottom": null,
            "display": null,
            "flex": null,
            "flex_flow": null,
            "grid_area": null,
            "grid_auto_columns": null,
            "grid_auto_flow": null,
            "grid_auto_rows": null,
            "grid_column": null,
            "grid_gap": null,
            "grid_row": null,
            "grid_template_areas": null,
            "grid_template_columns": null,
            "grid_template_rows": null,
            "height": null,
            "justify_content": null,
            "justify_items": null,
            "left": null,
            "margin": null,
            "max_height": null,
            "max_width": null,
            "min_height": null,
            "min_width": null,
            "object_fit": null,
            "object_position": null,
            "order": null,
            "overflow": null,
            "overflow_x": null,
            "overflow_y": null,
            "padding": null,
            "right": null,
            "top": null,
            "visibility": null,
            "width": null
          }
        },
        "1859788fc1024cfdb9e3635e6f45edd8": {
          "model_module": "@jupyter-widgets/controls",
          "model_name": "DescriptionStyleModel",
          "model_module_version": "1.5.0",
          "state": {
            "_model_module": "@jupyter-widgets/controls",
            "_model_module_version": "1.5.0",
            "_model_name": "DescriptionStyleModel",
            "_view_count": null,
            "_view_module": "@jupyter-widgets/base",
            "_view_module_version": "1.2.0",
            "_view_name": "StyleView",
            "description_width": ""
          }
        },
        "1e5a21ff9d3c458faeab6b94a17b1d85": {
          "model_module": "@jupyter-widgets/controls",
          "model_name": "HBoxModel",
          "model_module_version": "1.5.0",
          "state": {
            "_dom_classes": [],
            "_model_module": "@jupyter-widgets/controls",
            "_model_module_version": "1.5.0",
            "_model_name": "HBoxModel",
            "_view_count": null,
            "_view_module": "@jupyter-widgets/controls",
            "_view_module_version": "1.5.0",
            "_view_name": "HBoxView",
            "box_style": "",
            "children": [
              "IPY_MODEL_afc44f7edaae4ff8a7acc9c33e8c4354",
              "IPY_MODEL_9fd93851fe6542a1a55874a0ae0891fd",
              "IPY_MODEL_fe8a57566986428aac9040c0db6364b2"
            ],
            "layout": "IPY_MODEL_d7cf393a4c1e4433b5221aac5e87d016"
          }
        },
        "afc44f7edaae4ff8a7acc9c33e8c4354": {
          "model_module": "@jupyter-widgets/controls",
          "model_name": "HTMLModel",
          "model_module_version": "1.5.0",
          "state": {
            "_dom_classes": [],
            "_model_module": "@jupyter-widgets/controls",
            "_model_module_version": "1.5.0",
            "_model_name": "HTMLModel",
            "_view_count": null,
            "_view_module": "@jupyter-widgets/controls",
            "_view_module_version": "1.5.0",
            "_view_name": "HTMLView",
            "description": "",
            "description_tooltip": null,
            "layout": "IPY_MODEL_f369102a80614086856b0c37352ad089",
            "placeholder": "​",
            "style": "IPY_MODEL_e8391b7a2d0944f4b2ce35983f062c7c",
            "value": "config.json: 100%"
          }
        },
        "9fd93851fe6542a1a55874a0ae0891fd": {
          "model_module": "@jupyter-widgets/controls",
          "model_name": "FloatProgressModel",
          "model_module_version": "1.5.0",
          "state": {
            "_dom_classes": [],
            "_model_module": "@jupyter-widgets/controls",
            "_model_module_version": "1.5.0",
            "_model_name": "FloatProgressModel",
            "_view_count": null,
            "_view_module": "@jupyter-widgets/controls",
            "_view_module_version": "1.5.0",
            "_view_name": "ProgressView",
            "bar_style": "success",
            "description": "",
            "description_tooltip": null,
            "layout": "IPY_MODEL_bcb4e2cbda264c1396cf9ce357480bf2",
            "max": 481,
            "min": 0,
            "orientation": "horizontal",
            "style": "IPY_MODEL_4fcfb5fedcc94b8fa621110f06b1061f",
            "value": 481
          }
        },
        "fe8a57566986428aac9040c0db6364b2": {
          "model_module": "@jupyter-widgets/controls",
          "model_name": "HTMLModel",
          "model_module_version": "1.5.0",
          "state": {
            "_dom_classes": [],
            "_model_module": "@jupyter-widgets/controls",
            "_model_module_version": "1.5.0",
            "_model_name": "HTMLModel",
            "_view_count": null,
            "_view_module": "@jupyter-widgets/controls",
            "_view_module_version": "1.5.0",
            "_view_name": "HTMLView",
            "description": "",
            "description_tooltip": null,
            "layout": "IPY_MODEL_fc053f43b94d4b00a98f2a18e80dfafa",
            "placeholder": "​",
            "style": "IPY_MODEL_4f90042abfaa4ef0b37f35d33e36af46",
            "value": " 481/481 [00:00&lt;00:00, 38.0kB/s]"
          }
        },
        "d7cf393a4c1e4433b5221aac5e87d016": {
          "model_module": "@jupyter-widgets/base",
          "model_name": "LayoutModel",
          "model_module_version": "1.2.0",
          "state": {
            "_model_module": "@jupyter-widgets/base",
            "_model_module_version": "1.2.0",
            "_model_name": "LayoutModel",
            "_view_count": null,
            "_view_module": "@jupyter-widgets/base",
            "_view_module_version": "1.2.0",
            "_view_name": "LayoutView",
            "align_content": null,
            "align_items": null,
            "align_self": null,
            "border": null,
            "bottom": null,
            "display": null,
            "flex": null,
            "flex_flow": null,
            "grid_area": null,
            "grid_auto_columns": null,
            "grid_auto_flow": null,
            "grid_auto_rows": null,
            "grid_column": null,
            "grid_gap": null,
            "grid_row": null,
            "grid_template_areas": null,
            "grid_template_columns": null,
            "grid_template_rows": null,
            "height": null,
            "justify_content": null,
            "justify_items": null,
            "left": null,
            "margin": null,
            "max_height": null,
            "max_width": null,
            "min_height": null,
            "min_width": null,
            "object_fit": null,
            "object_position": null,
            "order": null,
            "overflow": null,
            "overflow_x": null,
            "overflow_y": null,
            "padding": null,
            "right": null,
            "top": null,
            "visibility": null,
            "width": null
          }
        },
        "f369102a80614086856b0c37352ad089": {
          "model_module": "@jupyter-widgets/base",
          "model_name": "LayoutModel",
          "model_module_version": "1.2.0",
          "state": {
            "_model_module": "@jupyter-widgets/base",
            "_model_module_version": "1.2.0",
            "_model_name": "LayoutModel",
            "_view_count": null,
            "_view_module": "@jupyter-widgets/base",
            "_view_module_version": "1.2.0",
            "_view_name": "LayoutView",
            "align_content": null,
            "align_items": null,
            "align_self": null,
            "border": null,
            "bottom": null,
            "display": null,
            "flex": null,
            "flex_flow": null,
            "grid_area": null,
            "grid_auto_columns": null,
            "grid_auto_flow": null,
            "grid_auto_rows": null,
            "grid_column": null,
            "grid_gap": null,
            "grid_row": null,
            "grid_template_areas": null,
            "grid_template_columns": null,
            "grid_template_rows": null,
            "height": null,
            "justify_content": null,
            "justify_items": null,
            "left": null,
            "margin": null,
            "max_height": null,
            "max_width": null,
            "min_height": null,
            "min_width": null,
            "object_fit": null,
            "object_position": null,
            "order": null,
            "overflow": null,
            "overflow_x": null,
            "overflow_y": null,
            "padding": null,
            "right": null,
            "top": null,
            "visibility": null,
            "width": null
          }
        },
        "e8391b7a2d0944f4b2ce35983f062c7c": {
          "model_module": "@jupyter-widgets/controls",
          "model_name": "DescriptionStyleModel",
          "model_module_version": "1.5.0",
          "state": {
            "_model_module": "@jupyter-widgets/controls",
            "_model_module_version": "1.5.0",
            "_model_name": "DescriptionStyleModel",
            "_view_count": null,
            "_view_module": "@jupyter-widgets/base",
            "_view_module_version": "1.2.0",
            "_view_name": "StyleView",
            "description_width": ""
          }
        },
        "bcb4e2cbda264c1396cf9ce357480bf2": {
          "model_module": "@jupyter-widgets/base",
          "model_name": "LayoutModel",
          "model_module_version": "1.2.0",
          "state": {
            "_model_module": "@jupyter-widgets/base",
            "_model_module_version": "1.2.0",
            "_model_name": "LayoutModel",
            "_view_count": null,
            "_view_module": "@jupyter-widgets/base",
            "_view_module_version": "1.2.0",
            "_view_name": "LayoutView",
            "align_content": null,
            "align_items": null,
            "align_self": null,
            "border": null,
            "bottom": null,
            "display": null,
            "flex": null,
            "flex_flow": null,
            "grid_area": null,
            "grid_auto_columns": null,
            "grid_auto_flow": null,
            "grid_auto_rows": null,
            "grid_column": null,
            "grid_gap": null,
            "grid_row": null,
            "grid_template_areas": null,
            "grid_template_columns": null,
            "grid_template_rows": null,
            "height": null,
            "justify_content": null,
            "justify_items": null,
            "left": null,
            "margin": null,
            "max_height": null,
            "max_width": null,
            "min_height": null,
            "min_width": null,
            "object_fit": null,
            "object_position": null,
            "order": null,
            "overflow": null,
            "overflow_x": null,
            "overflow_y": null,
            "padding": null,
            "right": null,
            "top": null,
            "visibility": null,
            "width": null
          }
        },
        "4fcfb5fedcc94b8fa621110f06b1061f": {
          "model_module": "@jupyter-widgets/controls",
          "model_name": "ProgressStyleModel",
          "model_module_version": "1.5.0",
          "state": {
            "_model_module": "@jupyter-widgets/controls",
            "_model_module_version": "1.5.0",
            "_model_name": "ProgressStyleModel",
            "_view_count": null,
            "_view_module": "@jupyter-widgets/base",
            "_view_module_version": "1.2.0",
            "_view_name": "StyleView",
            "bar_color": null,
            "description_width": ""
          }
        },
        "fc053f43b94d4b00a98f2a18e80dfafa": {
          "model_module": "@jupyter-widgets/base",
          "model_name": "LayoutModel",
          "model_module_version": "1.2.0",
          "state": {
            "_model_module": "@jupyter-widgets/base",
            "_model_module_version": "1.2.0",
            "_model_name": "LayoutModel",
            "_view_count": null,
            "_view_module": "@jupyter-widgets/base",
            "_view_module_version": "1.2.0",
            "_view_name": "LayoutView",
            "align_content": null,
            "align_items": null,
            "align_self": null,
            "border": null,
            "bottom": null,
            "display": null,
            "flex": null,
            "flex_flow": null,
            "grid_area": null,
            "grid_auto_columns": null,
            "grid_auto_flow": null,
            "grid_auto_rows": null,
            "grid_column": null,
            "grid_gap": null,
            "grid_row": null,
            "grid_template_areas": null,
            "grid_template_columns": null,
            "grid_template_rows": null,
            "height": null,
            "justify_content": null,
            "justify_items": null,
            "left": null,
            "margin": null,
            "max_height": null,
            "max_width": null,
            "min_height": null,
            "min_width": null,
            "object_fit": null,
            "object_position": null,
            "order": null,
            "overflow": null,
            "overflow_x": null,
            "overflow_y": null,
            "padding": null,
            "right": null,
            "top": null,
            "visibility": null,
            "width": null
          }
        },
        "4f90042abfaa4ef0b37f35d33e36af46": {
          "model_module": "@jupyter-widgets/controls",
          "model_name": "DescriptionStyleModel",
          "model_module_version": "1.5.0",
          "state": {
            "_model_module": "@jupyter-widgets/controls",
            "_model_module_version": "1.5.0",
            "_model_name": "DescriptionStyleModel",
            "_view_count": null,
            "_view_module": "@jupyter-widgets/base",
            "_view_module_version": "1.2.0",
            "_view_name": "StyleView",
            "description_width": ""
          }
        },
        "e98b4cefbe294093bef15e2e8787ad1b": {
          "model_module": "@jupyter-widgets/controls",
          "model_name": "HBoxModel",
          "model_module_version": "1.5.0",
          "state": {
            "_dom_classes": [],
            "_model_module": "@jupyter-widgets/controls",
            "_model_module_version": "1.5.0",
            "_model_name": "HBoxModel",
            "_view_count": null,
            "_view_module": "@jupyter-widgets/controls",
            "_view_module_version": "1.5.0",
            "_view_name": "HBoxView",
            "box_style": "",
            "children": [
              "IPY_MODEL_750f8bd7e5ac46588269989e3a680f58",
              "IPY_MODEL_96e92b8a3b8646efbe0d054d2d95f533",
              "IPY_MODEL_a389a5c1905a49abb73039a4ac59a269"
            ],
            "layout": "IPY_MODEL_e7cb05420408420e81a87a68a7e058d6"
          }
        },
        "750f8bd7e5ac46588269989e3a680f58": {
          "model_module": "@jupyter-widgets/controls",
          "model_name": "HTMLModel",
          "model_module_version": "1.5.0",
          "state": {
            "_dom_classes": [],
            "_model_module": "@jupyter-widgets/controls",
            "_model_module_version": "1.5.0",
            "_model_name": "HTMLModel",
            "_view_count": null,
            "_view_module": "@jupyter-widgets/controls",
            "_view_module_version": "1.5.0",
            "_view_name": "HTMLView",
            "description": "",
            "description_tooltip": null,
            "layout": "IPY_MODEL_83021d000f1f4f41bf6ef317568acbb7",
            "placeholder": "​",
            "style": "IPY_MODEL_6adfafdf3d75432b930c41b2b16a6fd1",
            "value": "model.safetensors: 100%"
          }
        },
        "96e92b8a3b8646efbe0d054d2d95f533": {
          "model_module": "@jupyter-widgets/controls",
          "model_name": "FloatProgressModel",
          "model_module_version": "1.5.0",
          "state": {
            "_dom_classes": [],
            "_model_module": "@jupyter-widgets/controls",
            "_model_module_version": "1.5.0",
            "_model_name": "FloatProgressModel",
            "_view_count": null,
            "_view_module": "@jupyter-widgets/controls",
            "_view_module_version": "1.5.0",
            "_view_name": "ProgressView",
            "bar_style": "success",
            "description": "",
            "description_tooltip": null,
            "layout": "IPY_MODEL_cba21d6127cf447582d1a3e3d064a1cc",
            "max": 498818054,
            "min": 0,
            "orientation": "horizontal",
            "style": "IPY_MODEL_c31190c3249f421bbdbb28f66d3244a3",
            "value": 498818054
          }
        },
        "a389a5c1905a49abb73039a4ac59a269": {
          "model_module": "@jupyter-widgets/controls",
          "model_name": "HTMLModel",
          "model_module_version": "1.5.0",
          "state": {
            "_dom_classes": [],
            "_model_module": "@jupyter-widgets/controls",
            "_model_module_version": "1.5.0",
            "_model_name": "HTMLModel",
            "_view_count": null,
            "_view_module": "@jupyter-widgets/controls",
            "_view_module_version": "1.5.0",
            "_view_name": "HTMLView",
            "description": "",
            "description_tooltip": null,
            "layout": "IPY_MODEL_253a386b12fe4bf0acbb63e935255d8e",
            "placeholder": "​",
            "style": "IPY_MODEL_31fcbadf6f0649c79ac78b162713c5c8",
            "value": " 499M/499M [00:01&lt;00:00, 382MB/s]"
          }
        },
        "e7cb05420408420e81a87a68a7e058d6": {
          "model_module": "@jupyter-widgets/base",
          "model_name": "LayoutModel",
          "model_module_version": "1.2.0",
          "state": {
            "_model_module": "@jupyter-widgets/base",
            "_model_module_version": "1.2.0",
            "_model_name": "LayoutModel",
            "_view_count": null,
            "_view_module": "@jupyter-widgets/base",
            "_view_module_version": "1.2.0",
            "_view_name": "LayoutView",
            "align_content": null,
            "align_items": null,
            "align_self": null,
            "border": null,
            "bottom": null,
            "display": null,
            "flex": null,
            "flex_flow": null,
            "grid_area": null,
            "grid_auto_columns": null,
            "grid_auto_flow": null,
            "grid_auto_rows": null,
            "grid_column": null,
            "grid_gap": null,
            "grid_row": null,
            "grid_template_areas": null,
            "grid_template_columns": null,
            "grid_template_rows": null,
            "height": null,
            "justify_content": null,
            "justify_items": null,
            "left": null,
            "margin": null,
            "max_height": null,
            "max_width": null,
            "min_height": null,
            "min_width": null,
            "object_fit": null,
            "object_position": null,
            "order": null,
            "overflow": null,
            "overflow_x": null,
            "overflow_y": null,
            "padding": null,
            "right": null,
            "top": null,
            "visibility": null,
            "width": null
          }
        },
        "83021d000f1f4f41bf6ef317568acbb7": {
          "model_module": "@jupyter-widgets/base",
          "model_name": "LayoutModel",
          "model_module_version": "1.2.0",
          "state": {
            "_model_module": "@jupyter-widgets/base",
            "_model_module_version": "1.2.0",
            "_model_name": "LayoutModel",
            "_view_count": null,
            "_view_module": "@jupyter-widgets/base",
            "_view_module_version": "1.2.0",
            "_view_name": "LayoutView",
            "align_content": null,
            "align_items": null,
            "align_self": null,
            "border": null,
            "bottom": null,
            "display": null,
            "flex": null,
            "flex_flow": null,
            "grid_area": null,
            "grid_auto_columns": null,
            "grid_auto_flow": null,
            "grid_auto_rows": null,
            "grid_column": null,
            "grid_gap": null,
            "grid_row": null,
            "grid_template_areas": null,
            "grid_template_columns": null,
            "grid_template_rows": null,
            "height": null,
            "justify_content": null,
            "justify_items": null,
            "left": null,
            "margin": null,
            "max_height": null,
            "max_width": null,
            "min_height": null,
            "min_width": null,
            "object_fit": null,
            "object_position": null,
            "order": null,
            "overflow": null,
            "overflow_x": null,
            "overflow_y": null,
            "padding": null,
            "right": null,
            "top": null,
            "visibility": null,
            "width": null
          }
        },
        "6adfafdf3d75432b930c41b2b16a6fd1": {
          "model_module": "@jupyter-widgets/controls",
          "model_name": "DescriptionStyleModel",
          "model_module_version": "1.5.0",
          "state": {
            "_model_module": "@jupyter-widgets/controls",
            "_model_module_version": "1.5.0",
            "_model_name": "DescriptionStyleModel",
            "_view_count": null,
            "_view_module": "@jupyter-widgets/base",
            "_view_module_version": "1.2.0",
            "_view_name": "StyleView",
            "description_width": ""
          }
        },
        "cba21d6127cf447582d1a3e3d064a1cc": {
          "model_module": "@jupyter-widgets/base",
          "model_name": "LayoutModel",
          "model_module_version": "1.2.0",
          "state": {
            "_model_module": "@jupyter-widgets/base",
            "_model_module_version": "1.2.0",
            "_model_name": "LayoutModel",
            "_view_count": null,
            "_view_module": "@jupyter-widgets/base",
            "_view_module_version": "1.2.0",
            "_view_name": "LayoutView",
            "align_content": null,
            "align_items": null,
            "align_self": null,
            "border": null,
            "bottom": null,
            "display": null,
            "flex": null,
            "flex_flow": null,
            "grid_area": null,
            "grid_auto_columns": null,
            "grid_auto_flow": null,
            "grid_auto_rows": null,
            "grid_column": null,
            "grid_gap": null,
            "grid_row": null,
            "grid_template_areas": null,
            "grid_template_columns": null,
            "grid_template_rows": null,
            "height": null,
            "justify_content": null,
            "justify_items": null,
            "left": null,
            "margin": null,
            "max_height": null,
            "max_width": null,
            "min_height": null,
            "min_width": null,
            "object_fit": null,
            "object_position": null,
            "order": null,
            "overflow": null,
            "overflow_x": null,
            "overflow_y": null,
            "padding": null,
            "right": null,
            "top": null,
            "visibility": null,
            "width": null
          }
        },
        "c31190c3249f421bbdbb28f66d3244a3": {
          "model_module": "@jupyter-widgets/controls",
          "model_name": "ProgressStyleModel",
          "model_module_version": "1.5.0",
          "state": {
            "_model_module": "@jupyter-widgets/controls",
            "_model_module_version": "1.5.0",
            "_model_name": "ProgressStyleModel",
            "_view_count": null,
            "_view_module": "@jupyter-widgets/base",
            "_view_module_version": "1.2.0",
            "_view_name": "StyleView",
            "bar_color": null,
            "description_width": ""
          }
        },
        "253a386b12fe4bf0acbb63e935255d8e": {
          "model_module": "@jupyter-widgets/base",
          "model_name": "LayoutModel",
          "model_module_version": "1.2.0",
          "state": {
            "_model_module": "@jupyter-widgets/base",
            "_model_module_version": "1.2.0",
            "_model_name": "LayoutModel",
            "_view_count": null,
            "_view_module": "@jupyter-widgets/base",
            "_view_module_version": "1.2.0",
            "_view_name": "LayoutView",
            "align_content": null,
            "align_items": null,
            "align_self": null,
            "border": null,
            "bottom": null,
            "display": null,
            "flex": null,
            "flex_flow": null,
            "grid_area": null,
            "grid_auto_columns": null,
            "grid_auto_flow": null,
            "grid_auto_rows": null,
            "grid_column": null,
            "grid_gap": null,
            "grid_row": null,
            "grid_template_areas": null,
            "grid_template_columns": null,
            "grid_template_rows": null,
            "height": null,
            "justify_content": null,
            "justify_items": null,
            "left": null,
            "margin": null,
            "max_height": null,
            "max_width": null,
            "min_height": null,
            "min_width": null,
            "object_fit": null,
            "object_position": null,
            "order": null,
            "overflow": null,
            "overflow_x": null,
            "overflow_y": null,
            "padding": null,
            "right": null,
            "top": null,
            "visibility": null,
            "width": null
          }
        },
        "31fcbadf6f0649c79ac78b162713c5c8": {
          "model_module": "@jupyter-widgets/controls",
          "model_name": "DescriptionStyleModel",
          "model_module_version": "1.5.0",
          "state": {
            "_model_module": "@jupyter-widgets/controls",
            "_model_module_version": "1.5.0",
            "_model_name": "DescriptionStyleModel",
            "_view_count": null,
            "_view_module": "@jupyter-widgets/base",
            "_view_module_version": "1.2.0",
            "_view_name": "StyleView",
            "description_width": ""
          }
        }
      }
    }
  },
  "nbformat": 4,
  "nbformat_minor": 0
}